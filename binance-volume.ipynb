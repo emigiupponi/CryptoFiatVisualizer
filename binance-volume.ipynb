{
 "cells": [
  {
   "cell_type": "markdown",
   "id": "0c1c5520",
   "metadata": {
    "execution": {
     "iopub.execute_input": "2024-08-14T02:01:08.167979Z",
     "iopub.status.busy": "2024-08-14T02:01:08.167543Z",
     "iopub.status.idle": "2024-08-14T02:01:08.177875Z",
     "shell.execute_reply": "2024-08-14T02:01:08.176154Z",
     "shell.execute_reply.started": "2024-08-14T02:01:08.167949Z"
    },
    "papermill": {
     "duration": 0.009902,
     "end_time": "2024-08-14T20:38:09.728808",
     "exception": false,
     "start_time": "2024-08-14T20:38:09.718906",
     "status": "completed"
    },
    "tags": []
   },
   "source": [
    "# Binance Currency Pair Analysis\n",
    "\n",
    "## 1. Introduction\n",
    "\n",
    "The purpose of this analysis is to examine the trading activity of various currency pairs involving fiat currencies on Binance. We will start by retrieving the necessary data, filtering for relevant pairs, and then proceed to analyze the data, with a particular focus on trading volume in USD for key cryptocurrencies like BTC, ETH, and USDT. This analysis aims to provide insights into the trading patterns and market behavior on the Binance platform.\n",
    "\n",
    "In this notebook, we will conduct a general evaluation of the data provided by the Binance API, focusing on currency pairs that involve fiat currencies. The goal is to identify and analyze the available pairs, as well as to detect any new fiat currencies that may have been added to the platform."
   ]
  },
  {
   "cell_type": "markdown",
   "id": "d7076e41",
   "metadata": {
    "papermill": {
     "duration": 0.009195,
     "end_time": "2024-08-14T20:38:09.747515",
     "exception": false,
     "start_time": "2024-08-14T20:38:09.738320",
     "status": "completed"
    },
    "tags": []
   },
   "source": [
    "### **1.1 Loading Necessary Libraries**\n",
    "In this section, we will import the libraries required for making API requests, handling data, and managing files. These include:"
   ]
  },
  {
   "cell_type": "code",
   "execution_count": 1,
   "id": "9c273077",
   "metadata": {
    "execution": {
     "iopub.execute_input": "2024-08-14T20:38:09.768623Z",
     "iopub.status.busy": "2024-08-14T20:38:09.768053Z",
     "iopub.status.idle": "2024-08-14T20:38:10.906408Z",
     "shell.execute_reply": "2024-08-14T20:38:10.905074Z"
    },
    "papermill": {
     "duration": 1.152138,
     "end_time": "2024-08-14T20:38:10.909311",
     "exception": false,
     "start_time": "2024-08-14T20:38:09.757173",
     "status": "completed"
    },
    "tags": []
   },
   "outputs": [],
   "source": [
    "import requests  # To handle HTTP requests to the Binance API\n",
    "import pandas as pd  # To structure and manipulate the data obtained\n",
    "import os  # To manage directories for saving the data"
   ]
  },
  {
   "cell_type": "markdown",
   "id": "33ae40bb",
   "metadata": {
    "papermill": {
     "duration": 0.009038,
     "end_time": "2024-08-14T20:38:10.927946",
     "exception": false,
     "start_time": "2024-08-14T20:38:10.918908",
     "status": "completed"
    },
    "tags": []
   },
   "source": [
    "### **1.2 Setting Up Directories**\n",
    "We will set up a base directory to store the data files downloaded from Binance. This ensures that all data is organized and easily accessible for further analysis."
   ]
  },
  {
   "cell_type": "code",
   "execution_count": 2,
   "id": "2387dc68",
   "metadata": {
    "execution": {
     "iopub.execute_input": "2024-08-14T20:38:10.949044Z",
     "iopub.status.busy": "2024-08-14T20:38:10.948452Z",
     "iopub.status.idle": "2024-08-14T20:38:10.954956Z",
     "shell.execute_reply": "2024-08-14T20:38:10.953665Z"
    },
    "papermill": {
     "duration": 0.020098,
     "end_time": "2024-08-14T20:38:10.957546",
     "exception": false,
     "start_time": "2024-08-14T20:38:10.937448",
     "status": "completed"
    },
    "tags": []
   },
   "outputs": [],
   "source": [
    "# Definir la carpeta base donde se guardarán los archivos CSV\n",
    "base_folder = 'datos_historicos_binance'\n",
    "\n",
    "# Crear la carpeta base si no existe\n",
    "if not os.path.exists(base_folder):\n",
    "    os.makedirs(base_folder)"
   ]
  },
  {
   "cell_type": "markdown",
   "id": "426263b9",
   "metadata": {
    "papermill": {
     "duration": 0.009436,
     "end_time": "2024-08-14T20:38:10.976540",
     "exception": false,
     "start_time": "2024-08-14T20:38:10.967104",
     "status": "completed"
    },
    "tags": []
   },
   "source": [
    "## 2. Data Retrieval and Download"
   ]
  },
  {
   "cell_type": "markdown",
   "id": "5992177b",
   "metadata": {
    "papermill": {
     "duration": 0.01026,
     "end_time": "2024-08-14T20:38:10.996233",
     "exception": false,
     "start_time": "2024-08-14T20:38:10.985973",
     "status": "completed"
    },
    "tags": []
   },
   "source": [
    "### 2.1 Retrieving Information on Currency Pairs in Binance\n",
    "\n",
    "In this section, we will retrieve information on all available currency pairs on Binance using their API. Our goal is to identify pairs that involve fiat currencies, as these will be the focus of our analysis.\n",
    "\n"
   ]
  },
  {
   "cell_type": "code",
   "execution_count": 3,
   "id": "a1c3aef7",
   "metadata": {
    "execution": {
     "iopub.execute_input": "2024-08-14T20:38:11.018977Z",
     "iopub.status.busy": "2024-08-14T20:38:11.017688Z",
     "iopub.status.idle": "2024-08-14T20:38:11.315439Z",
     "shell.execute_reply": "2024-08-14T20:38:11.314050Z"
    },
    "papermill": {
     "duration": 0.311812,
     "end_time": "2024-08-14T20:38:11.318404",
     "exception": false,
     "start_time": "2024-08-14T20:38:11.006592",
     "status": "completed"
    },
    "tags": []
   },
   "outputs": [],
   "source": [
    "def obtener_info_pares_binance():\n",
    "    # URL del endpoint de exchangeInfo de Binance\n",
    "    url = 'https://api.binance.com/api/v3/exchangeInfo'\n",
    "    \n",
    "    # Realizar la solicitud GET al endpoint\n",
    "    response = requests.get(url)\n",
    "    \n",
    "    # Verificar si la solicitud fue exitosa\n",
    "    if response.status_code == 200:\n",
    "        # Convertir los datos de respuesta a formato JSON\n",
    "        data = response.json()\n",
    "        \n",
    "        # Crear un diccionario para almacenar la información sobre los pares de divisas\n",
    "        info_pares = {}\n",
    "        \n",
    "        # Iterar sobre los datos para obtener la información relevante sobre cada par de divisas\n",
    "        for symbol_info in data['symbols']:\n",
    "            symbol = symbol_info['symbol']\n",
    "            base_currency = symbol_info['baseAsset']\n",
    "            quote_currency = symbol_info['quoteAsset']\n",
    "            \n",
    "            # Almacenar la información en el diccionario\n",
    "            info_pares[symbol] = {'base_currency': base_currency, 'quote_currency': quote_currency}\n",
    "        \n",
    "        return info_pares\n",
    "    else:\n",
    "        print(f\"Error al obtener información sobre los pares de divisas de Binance. Código de estado: {response.status_code}\")\n",
    "        return None\n",
    "\n",
    "# Obtener información sobre los pares de divisas\n",
    "info_pares = obtener_info_pares_binance()"
   ]
  },
  {
   "cell_type": "markdown",
   "id": "1f975893",
   "metadata": {
    "papermill": {
     "duration": 0.009231,
     "end_time": "2024-08-14T20:38:11.337324",
     "exception": false,
     "start_time": "2024-08-14T20:38:11.328093",
     "status": "completed"
    },
    "tags": []
   },
   "source": [
    "### 2.2 Filtering Currency Pairs by Fiat Currencies\n",
    "\n",
    "Once we have retrieved the currency pair information, we will filter the pairs to focus only on those that involve fiat currencies. This step is essential for narrowing down our analysis to the most relevant pairs.\n"
   ]
  },
  {
   "cell_type": "code",
   "execution_count": 4,
   "id": "a340ce23",
   "metadata": {
    "execution": {
     "iopub.execute_input": "2024-08-14T20:38:11.358960Z",
     "iopub.status.busy": "2024-08-14T20:38:11.358508Z",
     "iopub.status.idle": "2024-08-14T20:38:11.368269Z",
     "shell.execute_reply": "2024-08-14T20:38:11.366683Z"
    },
    "papermill": {
     "duration": 0.023966,
     "end_time": "2024-08-14T20:38:11.370840",
     "exception": false,
     "start_time": "2024-08-14T20:38:11.346874",
     "status": "completed"
    },
    "tags": []
   },
   "outputs": [],
   "source": [
    "# Lista completa de monedas fiat\n",
    "fiat_currencies = [\n",
    "    'USD', 'EUR', 'GBP', 'JPY', 'AUD', 'CAD', 'CHF', 'CNY', 'INR', 'RUB', \n",
    "    'BRL', 'ARS', 'NGN', 'TRY', 'MXN', 'ZAR', 'PLN', 'SEK', 'NOK', 'DKK', \n",
    "    'HKD', 'SGD', 'NZD', 'KRW', 'THB', 'MYR', 'IDR', 'PHP', 'VND', 'CZK', \n",
    "    'HUF', 'RON', 'BGN', 'HRK', 'RSD', 'UAH', 'KZT', 'AZN', 'GEL', 'BYN',\n",
    "    'EGP', 'ILS', 'SAR', 'AED', 'QAR', 'KWD', 'BHD', 'OMR', 'TND', 'MAD', \n",
    "    'DZD', 'TWD', 'LKR', 'PKR', 'BDT', 'KES', 'TZS', 'UGX', 'GHS', 'XAF', \n",
    "    'XOF', 'XPF', 'MUR', 'SCR', 'MGA', 'ZMW', 'MWK', 'BWP', 'NAD', 'SLL',\n",
    "    'LRD', 'LSL', 'SZL', 'MZN', 'BIF', 'CDF', 'DJF', 'ETB', 'GNF', 'HTG',\n",
    "    'LRD', 'MGA', 'NPR', 'PGK', 'PGK', 'SHP', 'SLL', 'SOS', 'SSP', 'STD',\n",
    "    'SYP', 'TOP', 'TTD', 'TWD', 'VUV', 'WST', 'XCD', 'YER', 'ZMW'\n",
    "]"
   ]
  },
  {
   "cell_type": "code",
   "execution_count": 5,
   "id": "cc7d33d6",
   "metadata": {
    "execution": {
     "iopub.execute_input": "2024-08-14T20:38:11.392210Z",
     "iopub.status.busy": "2024-08-14T20:38:11.391763Z",
     "iopub.status.idle": "2024-08-14T20:38:11.411688Z",
     "shell.execute_reply": "2024-08-14T20:38:11.410155Z"
    },
    "papermill": {
     "duration": 0.03415,
     "end_time": "2024-08-14T20:38:11.414769",
     "exception": false,
     "start_time": "2024-08-14T20:38:11.380619",
     "status": "completed"
    },
    "tags": []
   },
   "outputs": [
    {
     "name": "stdout",
     "output_type": "stream",
     "text": [
      "Total pairs with fiat currencies: 452\n"
     ]
    }
   ],
   "source": [
    "# Filtrar para obtener solo los pares de interés con las monedas fiat\n",
    "fiat_pairs = [pair for pair, currencies in info_pares.items() if currencies['quote_currency'] in fiat_currencies or currencies['base_currency'] in fiat_currencies]\n",
    "\n",
    "print(f\"Total pairs with fiat currencies: {len(fiat_pairs)}\")\n"
   ]
  },
  {
   "cell_type": "markdown",
   "id": "0b6fa778",
   "metadata": {
    "papermill": {
     "duration": 0.009767,
     "end_time": "2024-08-14T20:38:11.434966",
     "exception": false,
     "start_time": "2024-08-14T20:38:11.425199",
     "status": "completed"
    },
    "tags": []
   },
   "source": [
    "### 2.3 Downloading and Saving Historical Data for Fiat-Crypto Pairs on Binance\n",
    "\n",
    "In this section, we will download historical daily data for the fiat-crypto pairs we've identified from Binance's API. The data will be saved in monthly CSV files, organized by fiat currency and cryptocurrency."
   ]
  },
  {
   "cell_type": "code",
   "execution_count": 6,
   "id": "73bde648",
   "metadata": {
    "execution": {
     "iopub.execute_input": "2024-08-14T20:38:11.456746Z",
     "iopub.status.busy": "2024-08-14T20:38:11.456333Z",
     "iopub.status.idle": "2024-08-14T20:38:55.397769Z",
     "shell.execute_reply": "2024-08-14T20:38:55.396211Z"
    },
    "papermill": {
     "duration": 43.956852,
     "end_time": "2024-08-14T20:38:55.401823",
     "exception": false,
     "start_time": "2024-08-14T20:38:11.444971",
     "status": "completed"
    },
    "tags": []
   },
   "outputs": [
    {
     "data": {
      "application/vnd.jupyter.widget-view+json": {
       "model_id": "7a61f71b34e94f10850570918f638625",
       "version_major": 2,
       "version_minor": 0
      },
      "text/plain": [
       "Processing pairs:   0%|          | 0/452 [00:00<?, ?it/s]"
      ]
     },
     "metadata": {},
     "output_type": "display_data"
    },
    {
     "name": "stdout",
     "output_type": "stream",
     "text": [
      "Total files saved: 5793\n"
     ]
    }
   ],
   "source": [
    "import requests\n",
    "import pandas as pd\n",
    "import os\n",
    "from tqdm.notebook import tqdm\n",
    "\n",
    "# Define the base folder where CSV files will be stored\n",
    "base_folder = 'datos_historicos_binance'\n",
    "\n",
    "# Create the base folder if it does not exist\n",
    "if not os.path.exists(base_folder):\n",
    "    os.makedirs(base_folder)\n",
    "\n",
    "# Initialize a counter and a list to track saved files\n",
    "total_files_saved = 0\n",
    "saved_files = []\n",
    "\n",
    "def obtener_datos_y_guardar_csv(symbol, base_currency, quote_currency):\n",
    "    global total_files_saved\n",
    "    global saved_files\n",
    "\n",
    "    # Build the URL for the Binance API\n",
    "    url = f'https://api.binance.com/api/v3/klines?symbol={symbol}&interval=1d'\n",
    "    \n",
    "    # Send a GET request to the API\n",
    "    response = requests.get(url)\n",
    "    \n",
    "    # Check if the request was successful\n",
    "    if response.status_code == 200:\n",
    "        # Convert the response data to JSON format\n",
    "        data = response.json()\n",
    "        \n",
    "        # Create a pandas DataFrame with the data\n",
    "        df = pd.DataFrame(data, columns=[\n",
    "            'timestamp', 'open', 'high', 'low', 'close', 'volume', \n",
    "            'close_time', 'quote_asset_volume', 'number_of_trades', \n",
    "            'taker_buy_base_asset_volume', 'taker_buy_quote_asset_volume', 'ignore'\n",
    "        ])\n",
    "        \n",
    "        # Convert the 'timestamp' column to datetime format\n",
    "        df['timestamp'] = pd.to_datetime(df['timestamp'], unit='ms')\n",
    "        \n",
    "        # Determine the fiat currency and crypto currency based on their position\n",
    "        if base_currency in fiat_currencies:\n",
    "            fiat_currency = base_currency\n",
    "            crypto_currency = quote_currency\n",
    "        else:\n",
    "            fiat_currency = quote_currency\n",
    "            crypto_currency = base_currency\n",
    "        \n",
    "        # Create a folder for the fiat currency if it doesn't exist\n",
    "        fiat_folder_path = os.path.join(base_folder, fiat_currency)\n",
    "        if not os.path.exists(fiat_folder_path):\n",
    "            os.makedirs(fiat_folder_path)\n",
    "        \n",
    "        # Create a subfolder for the cryptocurrency if it doesn't exist\n",
    "        crypto_folder_path = os.path.join(fiat_folder_path, crypto_currency)\n",
    "        if not os.path.exists(crypto_folder_path):\n",
    "            os.makedirs(crypto_folder_path)\n",
    "        \n",
    "        # Save the data into monthly CSV files with daily data inside\n",
    "        for month, df_month in df.groupby(df['timestamp'].dt.to_period('M')):\n",
    "            csv_file_path = os.path.join(crypto_folder_path, f'{fiat_currency.lower()}_{crypto_currency.lower()}_{month.start_time.strftime(\"%Y-%m\")}.csv')\n",
    "            df_month.to_csv(csv_file_path, index=False)\n",
    "            total_files_saved += 1\n",
    "            saved_files.append(csv_file_path)\n",
    "    else:\n",
    "        print(f\"Error fetching data for {symbol}. Status code: {response.status_code}\")\n",
    "\n",
    "# Download data for all the pairs of interest with a progress bar\n",
    "for pair in tqdm(fiat_pairs, desc=\"Processing pairs\"):\n",
    "    base_currency = info_pares[pair]['base_currency']\n",
    "    quote_currency = info_pares[pair]['quote_currency']\n",
    "    obtener_datos_y_guardar_csv(pair, base_currency, quote_currency)\n",
    "\n",
    "# Summary message\n",
    "print(f\"Total files saved: {total_files_saved}\")"
   ]
  },
  {
   "cell_type": "markdown",
   "id": "aab59e44",
   "metadata": {
    "papermill": {
     "duration": 0.009577,
     "end_time": "2024-08-14T20:38:55.421253",
     "exception": false,
     "start_time": "2024-08-14T20:38:55.411676",
     "status": "completed"
    },
    "tags": []
   },
   "source": [
    "### 2.3 Loading and Combining the Data for Analysis\n",
    "\n",
    "In this section, we load the previously saved CSV files, which contain the historical data for each fiat-crypto pair. We then combine these data files into a single DataFrame to facilitate further analysis. This step is crucial for ensuring that our data is well-organized and ready for more detailed exploration.\n"
   ]
  },
  {
   "cell_type": "code",
   "execution_count": 7,
   "id": "7c1bf6a8",
   "metadata": {
    "execution": {
     "iopub.execute_input": "2024-08-14T20:38:55.442926Z",
     "iopub.status.busy": "2024-08-14T20:38:55.442484Z",
     "iopub.status.idle": "2024-08-14T20:39:12.466031Z",
     "shell.execute_reply": "2024-08-14T20:39:12.464539Z"
    },
    "papermill": {
     "duration": 17.038095,
     "end_time": "2024-08-14T20:39:12.469102",
     "exception": false,
     "start_time": "2024-08-14T20:38:55.431007",
     "status": "completed"
    },
    "tags": []
   },
   "outputs": [
    {
     "data": {
      "application/vnd.jupyter.widget-view+json": {
       "model_id": "6fb34ca6cdcc481b816d91ddd9e215bb",
       "version_major": 2,
       "version_minor": 0
      },
      "text/plain": [
       "Processing fiat currencies:   0%|          | 0/15 [00:00<?, ?it/s]"
      ]
     },
     "metadata": {},
     "output_type": "display_data"
    }
   ],
   "source": [
    "import os\n",
    "import pandas as pd\n",
    "from tqdm.notebook import tqdm\n",
    "\n",
    "# Initialize a list to store the DataFrames\n",
    "dfs = []\n",
    "\n",
    "# Get the list of fiat currencies to iterate over and initialize the progress bar\n",
    "fiat_currencies = [f for f in os.listdir(base_folder) if os.path.isdir(os.path.join(base_folder, f))]\n",
    "\n",
    "# Iterate through the fiat currency folders with a progress bar\n",
    "for fiat_currency in tqdm(fiat_currencies, desc=\"Processing fiat currencies\"):\n",
    "    fiat_folder_path = os.path.join(base_folder, fiat_currency)\n",
    "    \n",
    "    # Iterate through the crypto currency folders\n",
    "    for crypto_currency in os.listdir(fiat_folder_path):\n",
    "        crypto_folder_path = os.path.join(fiat_folder_path, crypto_currency)\n",
    "        if os.path.isdir(crypto_folder_path):\n",
    "            # Iterate through the CSV files\n",
    "            for csv_file in os.listdir(crypto_folder_path):\n",
    "                csv_file_path = os.path.join(crypto_folder_path, csv_file)\n",
    "                if csv_file_path.endswith('.csv'):\n",
    "                    # Create a pandas DataFrame from the CSV data\n",
    "                    df = pd.read_csv(csv_file_path)\n",
    "                    # Add columns for fiat and crypto currencies\n",
    "                    df['fiat_currency'] = fiat_currency\n",
    "                    df['crypto_currency'] = crypto_currency\n",
    "                    # Append the DataFrame to the list\n",
    "                    dfs.append(df)\n",
    "\n",
    "# Combine all the DataFrames into one\n",
    "final_df = pd.concat(dfs, ignore_index=True)"
   ]
  },
  {
   "cell_type": "markdown",
   "id": "4178d00a",
   "metadata": {
    "papermill": {
     "duration": 0.010252,
     "end_time": "2024-08-14T20:39:12.489577",
     "exception": false,
     "start_time": "2024-08-14T20:39:12.479325",
     "status": "completed"
    },
    "tags": []
   },
   "source": [
    "### 2.4 Check if there are any missing values in the dataset"
   ]
  },
  {
   "cell_type": "code",
   "execution_count": 8,
   "id": "93dd4186",
   "metadata": {
    "execution": {
     "iopub.execute_input": "2024-08-14T20:39:12.511912Z",
     "iopub.status.busy": "2024-08-14T20:39:12.511475Z",
     "iopub.status.idle": "2024-08-14T20:39:12.683907Z",
     "shell.execute_reply": "2024-08-14T20:39:12.682608Z"
    },
    "papermill": {
     "duration": 0.186871,
     "end_time": "2024-08-14T20:39:12.686612",
     "exception": false,
     "start_time": "2024-08-14T20:39:12.499741",
     "status": "completed"
    },
    "tags": []
   },
   "outputs": [
    {
     "name": "stdout",
     "output_type": "stream",
     "text": [
      "Data check complete: No missing values. All data is clean and ready for analysis.\n",
      "Basic statistics generated. Data is ready for further analysis.\n"
     ]
    }
   ],
   "source": [
    "# Check if there are any missing values in the dataset\n",
    "if final_df.isnull().sum().sum() == 0:\n",
    "    print(\"Data check complete: No missing values. All data is clean and ready for analysis.\")\n",
    "else:\n",
    "    print(\"Data check complete: There are missing values in the dataset. Further inspection is needed.\")\n",
    "\n",
    "# Basic descriptive statistics (can be optional or removed if not needed for output)\n",
    "final_stats = final_df.describe()\n",
    "print(\"Basic statistics generated. Data is ready for further analysis.\")"
   ]
  },
  {
   "cell_type": "markdown",
   "id": "a9f2dfde",
   "metadata": {
    "papermill": {
     "duration": 0.009656,
     "end_time": "2024-08-14T20:39:12.706288",
     "exception": false,
     "start_time": "2024-08-14T20:39:12.696632",
     "status": "completed"
    },
    "tags": []
   },
   "source": [
    "## 3. Data Analysis"
   ]
  },
  {
   "cell_type": "markdown",
   "id": "05f23454",
   "metadata": {
    "papermill": {
     "duration": 0.00991,
     "end_time": "2024-08-14T20:39:12.726558",
     "exception": false,
     "start_time": "2024-08-14T20:39:12.716648",
     "status": "completed"
    },
    "tags": []
   },
   "source": [
    "### 3.1 Summary of Cryptocurrency Pairs Distribution Across Fiat Currencies\n",
    "\n",
    "In this section, we explore the distribution of fiat currencies and their pairing with major cryptocurrencies like BTC and USDT. By examining the fiat currencies present in the dataset, particularly focusing on the last month's data, we can identify which fiat currencies are commonly paired with these cryptocurrencies. Additionally, we count the number of unique cryptocurrencies associated with each fiat currency to understand the diversity of crypto-fiat pairs across different fiat currencies."
   ]
  },
  {
   "cell_type": "code",
   "execution_count": 9,
   "id": "eb0c6011",
   "metadata": {
    "execution": {
     "iopub.execute_input": "2024-08-14T20:39:12.749021Z",
     "iopub.status.busy": "2024-08-14T20:39:12.748598Z",
     "iopub.status.idle": "2024-08-14T20:39:12.884891Z",
     "shell.execute_reply": "2024-08-14T20:39:12.883314Z"
    },
    "papermill": {
     "duration": 0.151438,
     "end_time": "2024-08-14T20:39:12.887919",
     "exception": false,
     "start_time": "2024-08-14T20:39:12.736481",
     "status": "completed"
    },
    "tags": []
   },
   "outputs": [
    {
     "name": "stdout",
     "output_type": "stream",
     "text": [
      "\n",
      "All Fiat Currencies (Total 15):\n",
      "ARS, AUD, BRL, CZK, EUR, GBP, JPY, MXN, NGN, PLN, RON, RUB, TRY, UAH, ZAR\n",
      "\n",
      "Fiat Currencies in Last Month (Total 11):\n",
      "ARS, BRL, CZK, EUR, JPY, MXN, PLN, RON, TRY, UAH, ZAR\n",
      "\n",
      "Fiat Currencies with BTC Pairs (Total 10):\n",
      "ARS, BRL, EUR, JPY, MXN, PLN, RON, TRY, UAH, ZAR\n",
      "\n",
      "Fiat Currencies with USDT Pairs (Total 10):\n",
      "ARS, BRL, CZK, EUR, MXN, PLN, RON, TRY, UAH, ZAR\n",
      "\n",
      "Fiat Currencies without BTC Pairs (Total 1):\n",
      "CZK\n",
      "\n",
      "Fiat Currencies without USDT Pairs (Total 1):\n",
      "JPY\n",
      "\n",
      "Fiat Currencies without BTC or USDT Pairs (Total 2):\n",
      "CZK, JPY\n",
      "\n",
      "### Number of Unique Cryptocurrencies per Fiat Currency ###\n",
      "ARS: 3 unique cryptocurrencies\n",
      "AUD: 30 unique cryptocurrencies\n",
      "BRL: 46 unique cryptocurrencies\n",
      "CZK: 1 unique cryptocurrencies\n",
      "EUR: 63 unique cryptocurrencies\n",
      "GBP: 25 unique cryptocurrencies\n",
      "JPY: 7 unique cryptocurrencies\n",
      "MXN: 3 unique cryptocurrencies\n",
      "NGN: 10 unique cryptocurrencies\n",
      "PLN: 4 unique cryptocurrencies\n",
      "RON: 4 unique cryptocurrencies\n",
      "RUB: 25 unique cryptocurrencies\n",
      "TRY: 219 unique cryptocurrencies\n",
      "UAH: 7 unique cryptocurrencies\n",
      "ZAR: 5 unique cryptocurrencies\n"
     ]
    }
   ],
   "source": [
    "import pandas as pd\n",
    "\n",
    "# Ensure 'timestamp' is in datetime format\n",
    "final_df['timestamp'] = pd.to_datetime(final_df['timestamp'])\n",
    "\n",
    "# Filter the data to include only the last month's data\n",
    "last_month = final_df['timestamp'].max() - pd.DateOffset(months=1)\n",
    "filtered_df = final_df[final_df['timestamp'] >= last_month]\n",
    "\n",
    "# Get the list of all fiat currencies in the dataset\n",
    "all_fiat_currencies = final_df['fiat_currency'].unique()\n",
    "\n",
    "# Get the list of fiat currencies present in the last month's data\n",
    "fiat_currencies_last_month = filtered_df['fiat_currency'].unique()\n",
    "\n",
    "# Identify fiat currencies that have BTC pairs\n",
    "btc_fiat_currencies = filtered_df[filtered_df['crypto_currency'] == 'BTC']['fiat_currency'].unique()\n",
    "\n",
    "# Identify fiat currencies that have USDT pairs\n",
    "usdt_fiat_currencies = filtered_df[filtered_df['crypto_currency'] == 'USDT']['fiat_currency'].unique()\n",
    "\n",
    "# Identify fiat currencies without BTC pairs\n",
    "fiat_without_btc = set(fiat_currencies_last_month) - set(btc_fiat_currencies)\n",
    "\n",
    "# Identify fiat currencies without USDT pairs\n",
    "fiat_without_usdt = set(fiat_currencies_last_month) - set(usdt_fiat_currencies)\n",
    "\n",
    "# Identify fiat currencies without either BTC or USDT pairs\n",
    "fiat_without_btc_or_usdt = fiat_without_btc.union(fiat_without_usdt)\n",
    "\n",
    "# Counting the number of unique cryptos per fiat currency\n",
    "crypto_count_per_fiat = final_df.groupby('fiat_currency')['crypto_currency'].nunique()\n",
    "\n",
    "# Combine all this information into a summary table\n",
    "summary_table = pd.DataFrame({\n",
    "    \"All Fiat Currencies\": [sorted(all_fiat_currencies)],\n",
    "    \"Fiat Currencies in Last Month\": [sorted(fiat_currencies_last_month)],\n",
    "    \"Fiat Currencies with BTC Pairs\": [sorted(btc_fiat_currencies)],\n",
    "    \"Fiat Currencies with USDT Pairs\": [sorted(usdt_fiat_currencies)],\n",
    "    \"Fiat Currencies without BTC Pairs\": [sorted(fiat_without_btc)],\n",
    "    \"Fiat Currencies without USDT Pairs\": [sorted(fiat_without_usdt)],\n",
    "    \"Fiat Currencies without BTC or USDT Pairs\": [sorted(fiat_without_btc_or_usdt)]\n",
    "})\n",
    "\n",
    "# Display the summary table as text to make it more readable\n",
    "for column in summary_table.columns:\n",
    "    print(f\"\\n{column} (Total {len(summary_table[column][0])}):\")\n",
    "    print(\", \".join(summary_table[column][0]))\n",
    "\n",
    "# Add a sub-sub-title for the next section\n",
    "print(\"\\n### Number of Unique Cryptocurrencies per Fiat Currency ###\")\n",
    "\n",
    "# Display the count of unique cryptos per fiat currency in a more readable format\n",
    "for fiat, count in crypto_count_per_fiat.items():  # Corrected to use items() instead of iteritems()\n",
    "    print(f\"{fiat}: {count} unique cryptocurrencies\")\n"
   ]
  },
  {
   "cell_type": "markdown",
   "id": "c4c5d1de",
   "metadata": {
    "papermill": {
     "duration": 0.010117,
     "end_time": "2024-08-14T20:39:12.908543",
     "exception": false,
     "start_time": "2024-08-14T20:39:12.898426",
     "status": "completed"
    },
    "tags": []
   },
   "source": [
    "### 3.2 Visualizing the Unique Frequency of Cryptocurrencies\n",
    "\n",
    "In this section, we focus on visualizing the frequency of unique crypto-fiat pairs in the last month's data. By filtering the dataset and eliminating duplicates, we identify how frequently each cryptocurrency is paired with different fiat currencies. The resulting bar chart provides a visual representation of the popularity of each cryptocurrency in the most recent trading period."
   ]
  },
  {
   "cell_type": "code",
   "execution_count": 10,
   "id": "b29612f3",
   "metadata": {
    "execution": {
     "iopub.execute_input": "2024-08-14T20:39:12.931194Z",
     "iopub.status.busy": "2024-08-14T20:39:12.930037Z",
     "iopub.status.idle": "2024-08-14T20:39:14.924717Z",
     "shell.execute_reply": "2024-08-14T20:39:14.923455Z"
    },
    "papermill": {
     "duration": 2.009137,
     "end_time": "2024-08-14T20:39:14.927779",
     "exception": false,
     "start_time": "2024-08-14T20:39:12.918642",
     "status": "completed"
    },
    "tags": []
   },
   "outputs": [
    {
     "data": {
      "text/html": [
       "        <script type=\"text/javascript\">\n",
       "        window.PlotlyConfig = {MathJaxConfig: 'local'};\n",
       "        if (window.MathJax && window.MathJax.Hub && window.MathJax.Hub.Config) {window.MathJax.Hub.Config({SVG: {font: \"STIX-Web\"}});}\n",
       "        if (typeof require !== 'undefined') {\n",
       "        require.undef(\"plotly\");\n",
       "        requirejs.config({\n",
       "            paths: {\n",
       "                'plotly': ['https://cdn.plot.ly/plotly-2.27.0.min']\n",
       "            }\n",
       "        });\n",
       "        require(['plotly'], function(Plotly) {\n",
       "            window._Plotly = Plotly;\n",
       "        });\n",
       "        }\n",
       "        </script>\n",
       "        "
      ]
     },
     "metadata": {},
     "output_type": "display_data"
    },
    {
     "data": {
      "text/html": [
       "<div>                            <div id=\"b42e1e66-147e-46b4-bee1-28600c9baaf4\" class=\"plotly-graph-div\" style=\"height:525px; width:100%;\"></div>            <script type=\"text/javascript\">                require([\"plotly\"], function(Plotly) {                    window.PLOTLYENV=window.PLOTLYENV || {};                                    if (document.getElementById(\"b42e1e66-147e-46b4-bee1-28600c9baaf4\")) {                    Plotly.newPlot(                        \"b42e1e66-147e-46b4-bee1-28600c9baaf4\",                        [{\"marker\":{\"color\":\"skyblue\"},\"x\":[\"BTC\",\"USDT\",\"ETH\",\"XRP\",\"BNB\",\"SHIB\",\"ADA\",\"SOL\",\"GALA\",\"EGLD\",\"RENDER\",\"LINK\",\"PEPE\",\"DOT\",\"AVAX\",\"NEAR\",\"WIF\",\"DOGE\",\"LTC\",\"CHZ\",\"MATIC\",\"RNDR\",\"VET\",\"BCH\",\"ATOM\",\"OMNI\",\"NOT\",\"SUI\",\"GRT\",\"FTM\",\"OP\",\"ICP\",\"USDC\",\"ENA\",\"GMT\",\"LISTA\",\"ARB\",\"XLM\",\"FET\",\"APT\",\"TRX\",\"ANKR\",\"ENJ\",\"ASR\",\"APE\",\"MKR\",\"RAY\",\"MINA\",\"JOE\",\"PEOPLE\",\"BB\",\"GAL\",\"TAO\",\"EDU\",\"PSG\",\"COMP\",\"ONE\",\"DYDX\",\"AXL\",\"ALICE\",\"LPT\",\"USTC\",\"DENT\",\"FIL\",\"TUSD\",\"FRONT\",\"INJ\",\"AI\",\"XVS\",\"SUPER\",\"CAKE\",\"AMP\",\"AXS\",\"HIGH\",\"ID\",\"ENS\",\"UMA\",\"REEF\",\"NTRN\",\"BAKE\",\"LEVER\",\"TON\",\"ATM\",\"AEVO\",\"PORTAL\",\"MAV\",\"ETC\",\"COTI\",\"BLUR\",\"BNX\",\"TWT\",\"SAGA\",\"UNFI\",\"WIN\",\"LRC\",\"CRV\",\"ORDI\",\"COS\",\"XAI\",\"BEAMX\",\"CKB\",\"RDNT\",\"FLOKI\",\"LUNA\",\"LOOM\",\"RAD\",\"TNSR\",\"BOME\",\"ROSE\",\"BAND\",\"ALT\",\"MTL\",\"OGN\",\"YGG\",\"RONIN\",\"ACA\",\"ALPINE\",\"SEI\",\"IOTA\",\"CYBER\",\"MANTA\",\"ACH\",\"SPELL\",\"LDO\",\"BTTC\",\"FDUSD\",\"SXP\",\"ARK\",\"UNI\",\"SANTOS\",\"DAR\",\"ACE\",\"HBAR\",\"VIC\",\"THETA\",\"PAXG\",\"BANANA\",\"JUV\",\"PHB\",\"SAND\",\"VANRY\",\"PIXEL\",\"1000SATS\",\"AUDIO\",\"GAS\",\"STX\",\"REZ\",\"CFX\",\"COMBO\",\"ARKM\",\"LUNC\",\"TLM\",\"WLD\",\"G\",\"EOS\",\"MEME\",\"HOT\",\"BSW\",\"TIA\",\"W\",\"NEO\",\"ACM\",\"JTO\",\"JASMY\",\"STRAX\",\"TRB\",\"XEC\",\"STORJ\",\"PORTO\",\"SLP\",\"RVN\",\"ZK\",\"API3\",\"RSR\",\"ETHFI\",\"ZRO\",\"LAZIO\",\"STRK\",\"SNX\",\"BEL\",\"OM\",\"RARE\",\"MANA\",\"BAR\",\"POLYX\",\"ARPA\",\"ALGO\",\"ONT\",\"IMX\",\"AR\",\"NFP\",\"PYTH\",\"MASK\",\"MOVR\",\"BONK\",\"TRU\",\"OG\",\"SKL\",\"PENDLE\",\"MAGIC\",\"ZIL\",\"AAVE\",\"CITY\",\"METIS\",\"JUP\",\"IO\",\"FIDA\",\"MBOX\",\"DYM\",\"XVG\",\"AEUR\"],\"y\":[10,10,8,5,5,4,4,4,3,3,3,3,3,3,3,3,3,3,3,3,3,3,2,2,2,2,2,2,2,2,2,2,2,2,2,2,2,2,2,2,2,1,1,1,1,1,1,1,1,1,1,1,1,1,1,1,1,1,1,1,1,1,1,1,1,1,1,1,1,1,1,1,1,1,1,1,1,1,1,1,1,1,1,1,1,1,1,1,1,1,1,1,1,1,1,1,1,1,1,1,1,1,1,1,1,1,1,1,1,1,1,1,1,1,1,1,1,1,1,1,1,1,1,1,1,1,1,1,1,1,1,1,1,1,1,1,1,1,1,1,1,1,1,1,1,1,1,1,1,1,1,1,1,1,1,1,1,1,1,1,1,1,1,1,1,1,1,1,1,1,1,1,1,1,1,1,1,1,1,1,1,1,1,1,1,1,1,1,1,1,1,1,1,1,1,1,1,1,1,1,1,1,1,1,1,1,1,1,1,1,1],\"type\":\"bar\"}],                        {\"template\":{\"data\":{\"barpolar\":[{\"marker\":{\"line\":{\"color\":\"white\",\"width\":0.5},\"pattern\":{\"fillmode\":\"overlay\",\"size\":10,\"solidity\":0.2}},\"type\":\"barpolar\"}],\"bar\":[{\"error_x\":{\"color\":\"#2a3f5f\"},\"error_y\":{\"color\":\"#2a3f5f\"},\"marker\":{\"line\":{\"color\":\"white\",\"width\":0.5},\"pattern\":{\"fillmode\":\"overlay\",\"size\":10,\"solidity\":0.2}},\"type\":\"bar\"}],\"carpet\":[{\"aaxis\":{\"endlinecolor\":\"#2a3f5f\",\"gridcolor\":\"#C8D4E3\",\"linecolor\":\"#C8D4E3\",\"minorgridcolor\":\"#C8D4E3\",\"startlinecolor\":\"#2a3f5f\"},\"baxis\":{\"endlinecolor\":\"#2a3f5f\",\"gridcolor\":\"#C8D4E3\",\"linecolor\":\"#C8D4E3\",\"minorgridcolor\":\"#C8D4E3\",\"startlinecolor\":\"#2a3f5f\"},\"type\":\"carpet\"}],\"choropleth\":[{\"colorbar\":{\"outlinewidth\":0,\"ticks\":\"\"},\"type\":\"choropleth\"}],\"contourcarpet\":[{\"colorbar\":{\"outlinewidth\":0,\"ticks\":\"\"},\"type\":\"contourcarpet\"}],\"contour\":[{\"colorbar\":{\"outlinewidth\":0,\"ticks\":\"\"},\"colorscale\":[[0.0,\"#0d0887\"],[0.1111111111111111,\"#46039f\"],[0.2222222222222222,\"#7201a8\"],[0.3333333333333333,\"#9c179e\"],[0.4444444444444444,\"#bd3786\"],[0.5555555555555556,\"#d8576b\"],[0.6666666666666666,\"#ed7953\"],[0.7777777777777778,\"#fb9f3a\"],[0.8888888888888888,\"#fdca26\"],[1.0,\"#f0f921\"]],\"type\":\"contour\"}],\"heatmapgl\":[{\"colorbar\":{\"outlinewidth\":0,\"ticks\":\"\"},\"colorscale\":[[0.0,\"#0d0887\"],[0.1111111111111111,\"#46039f\"],[0.2222222222222222,\"#7201a8\"],[0.3333333333333333,\"#9c179e\"],[0.4444444444444444,\"#bd3786\"],[0.5555555555555556,\"#d8576b\"],[0.6666666666666666,\"#ed7953\"],[0.7777777777777778,\"#fb9f3a\"],[0.8888888888888888,\"#fdca26\"],[1.0,\"#f0f921\"]],\"type\":\"heatmapgl\"}],\"heatmap\":[{\"colorbar\":{\"outlinewidth\":0,\"ticks\":\"\"},\"colorscale\":[[0.0,\"#0d0887\"],[0.1111111111111111,\"#46039f\"],[0.2222222222222222,\"#7201a8\"],[0.3333333333333333,\"#9c179e\"],[0.4444444444444444,\"#bd3786\"],[0.5555555555555556,\"#d8576b\"],[0.6666666666666666,\"#ed7953\"],[0.7777777777777778,\"#fb9f3a\"],[0.8888888888888888,\"#fdca26\"],[1.0,\"#f0f921\"]],\"type\":\"heatmap\"}],\"histogram2dcontour\":[{\"colorbar\":{\"outlinewidth\":0,\"ticks\":\"\"},\"colorscale\":[[0.0,\"#0d0887\"],[0.1111111111111111,\"#46039f\"],[0.2222222222222222,\"#7201a8\"],[0.3333333333333333,\"#9c179e\"],[0.4444444444444444,\"#bd3786\"],[0.5555555555555556,\"#d8576b\"],[0.6666666666666666,\"#ed7953\"],[0.7777777777777778,\"#fb9f3a\"],[0.8888888888888888,\"#fdca26\"],[1.0,\"#f0f921\"]],\"type\":\"histogram2dcontour\"}],\"histogram2d\":[{\"colorbar\":{\"outlinewidth\":0,\"ticks\":\"\"},\"colorscale\":[[0.0,\"#0d0887\"],[0.1111111111111111,\"#46039f\"],[0.2222222222222222,\"#7201a8\"],[0.3333333333333333,\"#9c179e\"],[0.4444444444444444,\"#bd3786\"],[0.5555555555555556,\"#d8576b\"],[0.6666666666666666,\"#ed7953\"],[0.7777777777777778,\"#fb9f3a\"],[0.8888888888888888,\"#fdca26\"],[1.0,\"#f0f921\"]],\"type\":\"histogram2d\"}],\"histogram\":[{\"marker\":{\"pattern\":{\"fillmode\":\"overlay\",\"size\":10,\"solidity\":0.2}},\"type\":\"histogram\"}],\"mesh3d\":[{\"colorbar\":{\"outlinewidth\":0,\"ticks\":\"\"},\"type\":\"mesh3d\"}],\"parcoords\":[{\"line\":{\"colorbar\":{\"outlinewidth\":0,\"ticks\":\"\"}},\"type\":\"parcoords\"}],\"pie\":[{\"automargin\":true,\"type\":\"pie\"}],\"scatter3d\":[{\"line\":{\"colorbar\":{\"outlinewidth\":0,\"ticks\":\"\"}},\"marker\":{\"colorbar\":{\"outlinewidth\":0,\"ticks\":\"\"}},\"type\":\"scatter3d\"}],\"scattercarpet\":[{\"marker\":{\"colorbar\":{\"outlinewidth\":0,\"ticks\":\"\"}},\"type\":\"scattercarpet\"}],\"scattergeo\":[{\"marker\":{\"colorbar\":{\"outlinewidth\":0,\"ticks\":\"\"}},\"type\":\"scattergeo\"}],\"scattergl\":[{\"marker\":{\"colorbar\":{\"outlinewidth\":0,\"ticks\":\"\"}},\"type\":\"scattergl\"}],\"scattermapbox\":[{\"marker\":{\"colorbar\":{\"outlinewidth\":0,\"ticks\":\"\"}},\"type\":\"scattermapbox\"}],\"scatterpolargl\":[{\"marker\":{\"colorbar\":{\"outlinewidth\":0,\"ticks\":\"\"}},\"type\":\"scatterpolargl\"}],\"scatterpolar\":[{\"marker\":{\"colorbar\":{\"outlinewidth\":0,\"ticks\":\"\"}},\"type\":\"scatterpolar\"}],\"scatter\":[{\"fillpattern\":{\"fillmode\":\"overlay\",\"size\":10,\"solidity\":0.2},\"type\":\"scatter\"}],\"scatterternary\":[{\"marker\":{\"colorbar\":{\"outlinewidth\":0,\"ticks\":\"\"}},\"type\":\"scatterternary\"}],\"surface\":[{\"colorbar\":{\"outlinewidth\":0,\"ticks\":\"\"},\"colorscale\":[[0.0,\"#0d0887\"],[0.1111111111111111,\"#46039f\"],[0.2222222222222222,\"#7201a8\"],[0.3333333333333333,\"#9c179e\"],[0.4444444444444444,\"#bd3786\"],[0.5555555555555556,\"#d8576b\"],[0.6666666666666666,\"#ed7953\"],[0.7777777777777778,\"#fb9f3a\"],[0.8888888888888888,\"#fdca26\"],[1.0,\"#f0f921\"]],\"type\":\"surface\"}],\"table\":[{\"cells\":{\"fill\":{\"color\":\"#EBF0F8\"},\"line\":{\"color\":\"white\"}},\"header\":{\"fill\":{\"color\":\"#C8D4E3\"},\"line\":{\"color\":\"white\"}},\"type\":\"table\"}]},\"layout\":{\"annotationdefaults\":{\"arrowcolor\":\"#2a3f5f\",\"arrowhead\":0,\"arrowwidth\":1},\"autotypenumbers\":\"strict\",\"coloraxis\":{\"colorbar\":{\"outlinewidth\":0,\"ticks\":\"\"}},\"colorscale\":{\"diverging\":[[0,\"#8e0152\"],[0.1,\"#c51b7d\"],[0.2,\"#de77ae\"],[0.3,\"#f1b6da\"],[0.4,\"#fde0ef\"],[0.5,\"#f7f7f7\"],[0.6,\"#e6f5d0\"],[0.7,\"#b8e186\"],[0.8,\"#7fbc41\"],[0.9,\"#4d9221\"],[1,\"#276419\"]],\"sequential\":[[0.0,\"#0d0887\"],[0.1111111111111111,\"#46039f\"],[0.2222222222222222,\"#7201a8\"],[0.3333333333333333,\"#9c179e\"],[0.4444444444444444,\"#bd3786\"],[0.5555555555555556,\"#d8576b\"],[0.6666666666666666,\"#ed7953\"],[0.7777777777777778,\"#fb9f3a\"],[0.8888888888888888,\"#fdca26\"],[1.0,\"#f0f921\"]],\"sequentialminus\":[[0.0,\"#0d0887\"],[0.1111111111111111,\"#46039f\"],[0.2222222222222222,\"#7201a8\"],[0.3333333333333333,\"#9c179e\"],[0.4444444444444444,\"#bd3786\"],[0.5555555555555556,\"#d8576b\"],[0.6666666666666666,\"#ed7953\"],[0.7777777777777778,\"#fb9f3a\"],[0.8888888888888888,\"#fdca26\"],[1.0,\"#f0f921\"]]},\"colorway\":[\"#636efa\",\"#EF553B\",\"#00cc96\",\"#ab63fa\",\"#FFA15A\",\"#19d3f3\",\"#FF6692\",\"#B6E880\",\"#FF97FF\",\"#FECB52\"],\"font\":{\"color\":\"#2a3f5f\"},\"geo\":{\"bgcolor\":\"white\",\"lakecolor\":\"white\",\"landcolor\":\"white\",\"showlakes\":true,\"showland\":true,\"subunitcolor\":\"#C8D4E3\"},\"hoverlabel\":{\"align\":\"left\"},\"hovermode\":\"closest\",\"mapbox\":{\"style\":\"light\"},\"paper_bgcolor\":\"white\",\"plot_bgcolor\":\"white\",\"polar\":{\"angularaxis\":{\"gridcolor\":\"#EBF0F8\",\"linecolor\":\"#EBF0F8\",\"ticks\":\"\"},\"bgcolor\":\"white\",\"radialaxis\":{\"gridcolor\":\"#EBF0F8\",\"linecolor\":\"#EBF0F8\",\"ticks\":\"\"}},\"scene\":{\"xaxis\":{\"backgroundcolor\":\"white\",\"gridcolor\":\"#DFE8F3\",\"gridwidth\":2,\"linecolor\":\"#EBF0F8\",\"showbackground\":true,\"ticks\":\"\",\"zerolinecolor\":\"#EBF0F8\"},\"yaxis\":{\"backgroundcolor\":\"white\",\"gridcolor\":\"#DFE8F3\",\"gridwidth\":2,\"linecolor\":\"#EBF0F8\",\"showbackground\":true,\"ticks\":\"\",\"zerolinecolor\":\"#EBF0F8\"},\"zaxis\":{\"backgroundcolor\":\"white\",\"gridcolor\":\"#DFE8F3\",\"gridwidth\":2,\"linecolor\":\"#EBF0F8\",\"showbackground\":true,\"ticks\":\"\",\"zerolinecolor\":\"#EBF0F8\"}},\"shapedefaults\":{\"line\":{\"color\":\"#2a3f5f\"}},\"ternary\":{\"aaxis\":{\"gridcolor\":\"#DFE8F3\",\"linecolor\":\"#A2B1C6\",\"ticks\":\"\"},\"baxis\":{\"gridcolor\":\"#DFE8F3\",\"linecolor\":\"#A2B1C6\",\"ticks\":\"\"},\"bgcolor\":\"white\",\"caxis\":{\"gridcolor\":\"#DFE8F3\",\"linecolor\":\"#A2B1C6\",\"ticks\":\"\"}},\"title\":{\"x\":0.05},\"xaxis\":{\"automargin\":true,\"gridcolor\":\"#EBF0F8\",\"linecolor\":\"#EBF0F8\",\"ticks\":\"\",\"title\":{\"standoff\":15},\"zerolinecolor\":\"#EBF0F8\",\"zerolinewidth\":2},\"yaxis\":{\"automargin\":true,\"gridcolor\":\"#EBF0F8\",\"linecolor\":\"#EBF0F8\",\"ticks\":\"\",\"title\":{\"standoff\":15},\"zerolinecolor\":\"#EBF0F8\",\"zerolinewidth\":2}}},\"xaxis\":{\"title\":{\"text\":\"Cryptocurrency\"},\"tickangle\":-45},\"title\":{\"text\":\"Unique Frequency of Cryptocurrencies in the Last Month\"},\"yaxis\":{\"title\":{\"text\":\"Unique Frequency\"}}},                        {\"responsive\": true}                    ).then(function(){\n",
       "                            \n",
       "var gd = document.getElementById('b42e1e66-147e-46b4-bee1-28600c9baaf4');\n",
       "var x = new MutationObserver(function (mutations, observer) {{\n",
       "        var display = window.getComputedStyle(gd).display;\n",
       "        if (!display || display === 'none') {{\n",
       "            console.log([gd, 'removed!']);\n",
       "            Plotly.purge(gd);\n",
       "            observer.disconnect();\n",
       "        }}\n",
       "}});\n",
       "\n",
       "// Listen for the removal of the full notebook cells\n",
       "var notebookContainer = gd.closest('#notebook-container');\n",
       "if (notebookContainer) {{\n",
       "    x.observe(notebookContainer, {childList: true});\n",
       "}}\n",
       "\n",
       "// Listen for the clearing of the current output cell\n",
       "var outputEl = gd.closest('.output');\n",
       "if (outputEl) {{\n",
       "    x.observe(outputEl, {childList: true});\n",
       "}}\n",
       "\n",
       "                        })                };                });            </script>        </div>"
      ]
     },
     "metadata": {},
     "output_type": "display_data"
    },
    {
     "name": "stdout",
     "output_type": "stream",
     "text": [
      "Unique frequency plot of cryptocurrencies for the last month generated.\n"
     ]
    }
   ],
   "source": [
    "import pandas as pd\n",
    "import plotly.graph_objects as go\n",
    "\n",
    "# Ensure 'timestamp' is in datetime format\n",
    "final_df['timestamp'] = pd.to_datetime(final_df['timestamp'])\n",
    "\n",
    "# Filter the data to include only the last month's data\n",
    "last_month = final_df['timestamp'].max() - pd.DateOffset(months=1)\n",
    "filtered_df = final_df[final_df['timestamp'] >= last_month]\n",
    "\n",
    "# Drop duplicates to count each crypto-fiat pair only once\n",
    "unique_pairs_df = filtered_df.drop_duplicates(subset=['crypto_currency', 'fiat_currency'])\n",
    "\n",
    "# Count the frequency of each cryptocurrency in the filtered dataset\n",
    "crypto_frequency = unique_pairs_df['crypto_currency'].value_counts()\n",
    "\n",
    "# Create the Plotly bar chart\n",
    "fig1 = go.Figure(data=[\n",
    "    go.Bar(x=crypto_frequency.index, y=crypto_frequency.values, marker_color='skyblue')\n",
    "])\n",
    "\n",
    "# Customize the layout\n",
    "fig1.update_layout(\n",
    "    title=\"Unique Frequency of Cryptocurrencies in the Last Month\",\n",
    "    xaxis_title=\"Cryptocurrency\",\n",
    "    yaxis_title=\"Unique Frequency\",\n",
    "    xaxis_tickangle=-45,\n",
    "    template=\"plotly_white\"\n",
    ")\n",
    "\n",
    "# Show the plot\n",
    "fig1.show()\n",
    "\n",
    "# Simple confirmation message\n",
    "print(\"Unique frequency plot of cryptocurrencies for the last month generated.\")\n"
   ]
  },
  {
   "cell_type": "code",
   "execution_count": 11,
   "id": "f6564749",
   "metadata": {
    "execution": {
     "iopub.execute_input": "2024-08-14T20:39:14.951955Z",
     "iopub.status.busy": "2024-08-14T20:39:14.951534Z",
     "iopub.status.idle": "2024-08-14T20:39:15.005292Z",
     "shell.execute_reply": "2024-08-14T20:39:15.003852Z"
    },
    "papermill": {
     "duration": 0.068876,
     "end_time": "2024-08-14T20:39:15.007899",
     "exception": false,
     "start_time": "2024-08-14T20:39:14.939023",
     "status": "completed"
    },
    "tags": []
   },
   "outputs": [
    {
     "name": "stdout",
     "output_type": "stream",
     "text": [
      "Gráfico de frecuencia única de criptomonedas del último mes guardado como 'crypto_frequency_last_month.html'.\n"
     ]
    }
   ],
   "source": [
    "# Guardar el gráfico como un archivo HTML\n",
    "fig1.write_html(\"crypto_frequency_last_month.html\")\n",
    "\n",
    "# Confirmación simple\n",
    "print(\"Gráfico de frecuencia única de criptomonedas del último mes guardado como 'crypto_frequency_last_month.html'.\")\n"
   ]
  },
  {
   "cell_type": "markdown",
   "id": "33398005",
   "metadata": {
    "papermill": {
     "duration": 0.011041,
     "end_time": "2024-08-14T20:39:15.030508",
     "exception": false,
     "start_time": "2024-08-14T20:39:15.019467",
     "status": "completed"
    },
    "tags": []
   },
   "source": [
    "#### 3.1.3 Heatmap of Top 10 Cryptocurrencies Paired with Fiat Currencies\n",
    "\n",
    "This section presents a heatmap that visualizes the presence of trading pairs between the top 10 cryptocurrencies and various fiat currencies. The heatmap offers a clear overview of which fiat currencies are most commonly paired with these leading cryptocurrencies. Additionally, we include a category labeled 'Others' to capture any cryptocurrencies outside the top 10, ensuring a comprehensive view of the dataset."
   ]
  },
  {
   "cell_type": "code",
   "execution_count": 12,
   "id": "1a60e2f1",
   "metadata": {
    "execution": {
     "iopub.execute_input": "2024-08-14T20:39:15.056915Z",
     "iopub.status.busy": "2024-08-14T20:39:15.056468Z",
     "iopub.status.idle": "2024-08-14T20:39:16.939522Z",
     "shell.execute_reply": "2024-08-14T20:39:16.938140Z"
    },
    "papermill": {
     "duration": 1.900525,
     "end_time": "2024-08-14T20:39:16.942155",
     "exception": false,
     "start_time": "2024-08-14T20:39:15.041630",
     "status": "completed"
    },
    "tags": []
   },
   "outputs": [
    {
     "data": {
      "text/html": [
       "<div>                            <div id=\"591b4fa1-e340-4010-bbb5-271d52a0ba7b\" class=\"plotly-graph-div\" style=\"height:525px; width:100%;\"></div>            <script type=\"text/javascript\">                require([\"plotly\"], function(Plotly) {                    window.PLOTLYENV=window.PLOTLYENV || {};                                    if (document.getElementById(\"591b4fa1-e340-4010-bbb5-271d52a0ba7b\")) {                    Plotly.newPlot(                        \"591b4fa1-e340-4010-bbb5-271d52a0ba7b\",                        [{\"colorscale\":[[0,\"#D3D3D3\"],[1,\"#4682B4\"]],\"showscale\":false,\"x\":[\"ARS\",\"AUD\",\"BRL\",\"CZK\",\"EUR\",\"GBP\",\"JPY\",\"MXN\",\"NGN\",\"PLN\",\"RON\",\"RUB\",\"TRY\",\"UAH\",\"ZAR\"],\"y\":[\"USDT\",\"BTC\",\"BUSD\",\"ETH\",\"BNB\",\"XRP\",\"SOL\",\"ADA\",\"LTC\",\"DOT\",\"Others\"],\"z\":[[1,0,1,1,1,0,0,1,0,1,1,0,1,1,1],[1,0,1,0,1,0,1,1,0,1,1,0,1,1,1],[0,0,0,0,0,0,0,0,0,0,0,0,0,0,0],[1,0,1,0,1,0,1,0,0,1,0,0,1,1,1],[0,0,1,0,1,0,1,0,0,0,0,0,1,1,0],[0,0,1,0,1,0,1,1,0,0,0,0,1,0,0],[0,0,1,0,1,0,1,0,0,0,0,0,1,0,0],[0,0,1,0,1,0,1,0,0,0,0,0,1,0,0],[0,0,1,0,1,0,0,0,0,0,0,0,1,0,0],[0,0,1,0,1,0,0,0,0,0,0,0,1,0,0],[0,0,1,0,1,0,1,0,0,0,1,0,1,0,0]],\"type\":\"heatmap\"}],                        {\"template\":{\"data\":{\"barpolar\":[{\"marker\":{\"line\":{\"color\":\"white\",\"width\":0.5},\"pattern\":{\"fillmode\":\"overlay\",\"size\":10,\"solidity\":0.2}},\"type\":\"barpolar\"}],\"bar\":[{\"error_x\":{\"color\":\"#2a3f5f\"},\"error_y\":{\"color\":\"#2a3f5f\"},\"marker\":{\"line\":{\"color\":\"white\",\"width\":0.5},\"pattern\":{\"fillmode\":\"overlay\",\"size\":10,\"solidity\":0.2}},\"type\":\"bar\"}],\"carpet\":[{\"aaxis\":{\"endlinecolor\":\"#2a3f5f\",\"gridcolor\":\"#C8D4E3\",\"linecolor\":\"#C8D4E3\",\"minorgridcolor\":\"#C8D4E3\",\"startlinecolor\":\"#2a3f5f\"},\"baxis\":{\"endlinecolor\":\"#2a3f5f\",\"gridcolor\":\"#C8D4E3\",\"linecolor\":\"#C8D4E3\",\"minorgridcolor\":\"#C8D4E3\",\"startlinecolor\":\"#2a3f5f\"},\"type\":\"carpet\"}],\"choropleth\":[{\"colorbar\":{\"outlinewidth\":0,\"ticks\":\"\"},\"type\":\"choropleth\"}],\"contourcarpet\":[{\"colorbar\":{\"outlinewidth\":0,\"ticks\":\"\"},\"type\":\"contourcarpet\"}],\"contour\":[{\"colorbar\":{\"outlinewidth\":0,\"ticks\":\"\"},\"colorscale\":[[0.0,\"#0d0887\"],[0.1111111111111111,\"#46039f\"],[0.2222222222222222,\"#7201a8\"],[0.3333333333333333,\"#9c179e\"],[0.4444444444444444,\"#bd3786\"],[0.5555555555555556,\"#d8576b\"],[0.6666666666666666,\"#ed7953\"],[0.7777777777777778,\"#fb9f3a\"],[0.8888888888888888,\"#fdca26\"],[1.0,\"#f0f921\"]],\"type\":\"contour\"}],\"heatmapgl\":[{\"colorbar\":{\"outlinewidth\":0,\"ticks\":\"\"},\"colorscale\":[[0.0,\"#0d0887\"],[0.1111111111111111,\"#46039f\"],[0.2222222222222222,\"#7201a8\"],[0.3333333333333333,\"#9c179e\"],[0.4444444444444444,\"#bd3786\"],[0.5555555555555556,\"#d8576b\"],[0.6666666666666666,\"#ed7953\"],[0.7777777777777778,\"#fb9f3a\"],[0.8888888888888888,\"#fdca26\"],[1.0,\"#f0f921\"]],\"type\":\"heatmapgl\"}],\"heatmap\":[{\"colorbar\":{\"outlinewidth\":0,\"ticks\":\"\"},\"colorscale\":[[0.0,\"#0d0887\"],[0.1111111111111111,\"#46039f\"],[0.2222222222222222,\"#7201a8\"],[0.3333333333333333,\"#9c179e\"],[0.4444444444444444,\"#bd3786\"],[0.5555555555555556,\"#d8576b\"],[0.6666666666666666,\"#ed7953\"],[0.7777777777777778,\"#fb9f3a\"],[0.8888888888888888,\"#fdca26\"],[1.0,\"#f0f921\"]],\"type\":\"heatmap\"}],\"histogram2dcontour\":[{\"colorbar\":{\"outlinewidth\":0,\"ticks\":\"\"},\"colorscale\":[[0.0,\"#0d0887\"],[0.1111111111111111,\"#46039f\"],[0.2222222222222222,\"#7201a8\"],[0.3333333333333333,\"#9c179e\"],[0.4444444444444444,\"#bd3786\"],[0.5555555555555556,\"#d8576b\"],[0.6666666666666666,\"#ed7953\"],[0.7777777777777778,\"#fb9f3a\"],[0.8888888888888888,\"#fdca26\"],[1.0,\"#f0f921\"]],\"type\":\"histogram2dcontour\"}],\"histogram2d\":[{\"colorbar\":{\"outlinewidth\":0,\"ticks\":\"\"},\"colorscale\":[[0.0,\"#0d0887\"],[0.1111111111111111,\"#46039f\"],[0.2222222222222222,\"#7201a8\"],[0.3333333333333333,\"#9c179e\"],[0.4444444444444444,\"#bd3786\"],[0.5555555555555556,\"#d8576b\"],[0.6666666666666666,\"#ed7953\"],[0.7777777777777778,\"#fb9f3a\"],[0.8888888888888888,\"#fdca26\"],[1.0,\"#f0f921\"]],\"type\":\"histogram2d\"}],\"histogram\":[{\"marker\":{\"pattern\":{\"fillmode\":\"overlay\",\"size\":10,\"solidity\":0.2}},\"type\":\"histogram\"}],\"mesh3d\":[{\"colorbar\":{\"outlinewidth\":0,\"ticks\":\"\"},\"type\":\"mesh3d\"}],\"parcoords\":[{\"line\":{\"colorbar\":{\"outlinewidth\":0,\"ticks\":\"\"}},\"type\":\"parcoords\"}],\"pie\":[{\"automargin\":true,\"type\":\"pie\"}],\"scatter3d\":[{\"line\":{\"colorbar\":{\"outlinewidth\":0,\"ticks\":\"\"}},\"marker\":{\"colorbar\":{\"outlinewidth\":0,\"ticks\":\"\"}},\"type\":\"scatter3d\"}],\"scattercarpet\":[{\"marker\":{\"colorbar\":{\"outlinewidth\":0,\"ticks\":\"\"}},\"type\":\"scattercarpet\"}],\"scattergeo\":[{\"marker\":{\"colorbar\":{\"outlinewidth\":0,\"ticks\":\"\"}},\"type\":\"scattergeo\"}],\"scattergl\":[{\"marker\":{\"colorbar\":{\"outlinewidth\":0,\"ticks\":\"\"}},\"type\":\"scattergl\"}],\"scattermapbox\":[{\"marker\":{\"colorbar\":{\"outlinewidth\":0,\"ticks\":\"\"}},\"type\":\"scattermapbox\"}],\"scatterpolargl\":[{\"marker\":{\"colorbar\":{\"outlinewidth\":0,\"ticks\":\"\"}},\"type\":\"scatterpolargl\"}],\"scatterpolar\":[{\"marker\":{\"colorbar\":{\"outlinewidth\":0,\"ticks\":\"\"}},\"type\":\"scatterpolar\"}],\"scatter\":[{\"fillpattern\":{\"fillmode\":\"overlay\",\"size\":10,\"solidity\":0.2},\"type\":\"scatter\"}],\"scatterternary\":[{\"marker\":{\"colorbar\":{\"outlinewidth\":0,\"ticks\":\"\"}},\"type\":\"scatterternary\"}],\"surface\":[{\"colorbar\":{\"outlinewidth\":0,\"ticks\":\"\"},\"colorscale\":[[0.0,\"#0d0887\"],[0.1111111111111111,\"#46039f\"],[0.2222222222222222,\"#7201a8\"],[0.3333333333333333,\"#9c179e\"],[0.4444444444444444,\"#bd3786\"],[0.5555555555555556,\"#d8576b\"],[0.6666666666666666,\"#ed7953\"],[0.7777777777777778,\"#fb9f3a\"],[0.8888888888888888,\"#fdca26\"],[1.0,\"#f0f921\"]],\"type\":\"surface\"}],\"table\":[{\"cells\":{\"fill\":{\"color\":\"#EBF0F8\"},\"line\":{\"color\":\"white\"}},\"header\":{\"fill\":{\"color\":\"#C8D4E3\"},\"line\":{\"color\":\"white\"}},\"type\":\"table\"}]},\"layout\":{\"annotationdefaults\":{\"arrowcolor\":\"#2a3f5f\",\"arrowhead\":0,\"arrowwidth\":1},\"autotypenumbers\":\"strict\",\"coloraxis\":{\"colorbar\":{\"outlinewidth\":0,\"ticks\":\"\"}},\"colorscale\":{\"diverging\":[[0,\"#8e0152\"],[0.1,\"#c51b7d\"],[0.2,\"#de77ae\"],[0.3,\"#f1b6da\"],[0.4,\"#fde0ef\"],[0.5,\"#f7f7f7\"],[0.6,\"#e6f5d0\"],[0.7,\"#b8e186\"],[0.8,\"#7fbc41\"],[0.9,\"#4d9221\"],[1,\"#276419\"]],\"sequential\":[[0.0,\"#0d0887\"],[0.1111111111111111,\"#46039f\"],[0.2222222222222222,\"#7201a8\"],[0.3333333333333333,\"#9c179e\"],[0.4444444444444444,\"#bd3786\"],[0.5555555555555556,\"#d8576b\"],[0.6666666666666666,\"#ed7953\"],[0.7777777777777778,\"#fb9f3a\"],[0.8888888888888888,\"#fdca26\"],[1.0,\"#f0f921\"]],\"sequentialminus\":[[0.0,\"#0d0887\"],[0.1111111111111111,\"#46039f\"],[0.2222222222222222,\"#7201a8\"],[0.3333333333333333,\"#9c179e\"],[0.4444444444444444,\"#bd3786\"],[0.5555555555555556,\"#d8576b\"],[0.6666666666666666,\"#ed7953\"],[0.7777777777777778,\"#fb9f3a\"],[0.8888888888888888,\"#fdca26\"],[1.0,\"#f0f921\"]]},\"colorway\":[\"#636efa\",\"#EF553B\",\"#00cc96\",\"#ab63fa\",\"#FFA15A\",\"#19d3f3\",\"#FF6692\",\"#B6E880\",\"#FF97FF\",\"#FECB52\"],\"font\":{\"color\":\"#2a3f5f\"},\"geo\":{\"bgcolor\":\"white\",\"lakecolor\":\"white\",\"landcolor\":\"white\",\"showlakes\":true,\"showland\":true,\"subunitcolor\":\"#C8D4E3\"},\"hoverlabel\":{\"align\":\"left\"},\"hovermode\":\"closest\",\"mapbox\":{\"style\":\"light\"},\"paper_bgcolor\":\"white\",\"plot_bgcolor\":\"white\",\"polar\":{\"angularaxis\":{\"gridcolor\":\"#EBF0F8\",\"linecolor\":\"#EBF0F8\",\"ticks\":\"\"},\"bgcolor\":\"white\",\"radialaxis\":{\"gridcolor\":\"#EBF0F8\",\"linecolor\":\"#EBF0F8\",\"ticks\":\"\"}},\"scene\":{\"xaxis\":{\"backgroundcolor\":\"white\",\"gridcolor\":\"#DFE8F3\",\"gridwidth\":2,\"linecolor\":\"#EBF0F8\",\"showbackground\":true,\"ticks\":\"\",\"zerolinecolor\":\"#EBF0F8\"},\"yaxis\":{\"backgroundcolor\":\"white\",\"gridcolor\":\"#DFE8F3\",\"gridwidth\":2,\"linecolor\":\"#EBF0F8\",\"showbackground\":true,\"ticks\":\"\",\"zerolinecolor\":\"#EBF0F8\"},\"zaxis\":{\"backgroundcolor\":\"white\",\"gridcolor\":\"#DFE8F3\",\"gridwidth\":2,\"linecolor\":\"#EBF0F8\",\"showbackground\":true,\"ticks\":\"\",\"zerolinecolor\":\"#EBF0F8\"}},\"shapedefaults\":{\"line\":{\"color\":\"#2a3f5f\"}},\"ternary\":{\"aaxis\":{\"gridcolor\":\"#DFE8F3\",\"linecolor\":\"#A2B1C6\",\"ticks\":\"\"},\"baxis\":{\"gridcolor\":\"#DFE8F3\",\"linecolor\":\"#A2B1C6\",\"ticks\":\"\"},\"bgcolor\":\"white\",\"caxis\":{\"gridcolor\":\"#DFE8F3\",\"linecolor\":\"#A2B1C6\",\"ticks\":\"\"}},\"title\":{\"x\":0.05},\"xaxis\":{\"automargin\":true,\"gridcolor\":\"#EBF0F8\",\"linecolor\":\"#EBF0F8\",\"ticks\":\"\",\"title\":{\"standoff\":15},\"zerolinecolor\":\"#EBF0F8\",\"zerolinewidth\":2},\"yaxis\":{\"automargin\":true,\"gridcolor\":\"#EBF0F8\",\"linecolor\":\"#EBF0F8\",\"ticks\":\"\",\"title\":{\"standoff\":15},\"zerolinecolor\":\"#EBF0F8\",\"zerolinewidth\":2}}},\"yaxis\":{\"tickfont\":{\"size\":10},\"title\":{\"text\":\"Cryptocurrency\"},\"tickmode\":\"array\",\"tickvals\":[0,1,2,3,4,5,6,7,8,9,10],\"ticktext\":[\"USDT\",\"BTC\",\"BUSD\",\"ETH\",\"BNB\",\"XRP\",\"SOL\",\"ADA\",\"LTC\",\"DOT\",\"\\u003cb\\u003eOthers\\u003c\\u002fb\\u003e\"],\"side\":\"left\"},\"xaxis\":{\"title\":{\"text\":\"Fiat Currency\"},\"tickmode\":\"array\",\"tickvals\":[0,1,2,3,4,5,6,7,8,9,10,11,12,13,14],\"ticktext\":[\"ARS\",\"AUD\",\"BRL\",\"CZK\",\"EUR\",\"GBP\",\"JPY\",\"MXN\",\"NGN\",\"PLN\",\"RON\",\"RUB\",\"TRY\",\"UAH\",\"ZAR\"]},\"title\":{\"text\":\"Top 10 Crypto-Fiat Pair Presence and 'Others'\"}},                        {\"responsive\": true}                    ).then(function(){\n",
       "                            \n",
       "var gd = document.getElementById('591b4fa1-e340-4010-bbb5-271d52a0ba7b');\n",
       "var x = new MutationObserver(function (mutations, observer) {{\n",
       "        var display = window.getComputedStyle(gd).display;\n",
       "        if (!display || display === 'none') {{\n",
       "            console.log([gd, 'removed!']);\n",
       "            Plotly.purge(gd);\n",
       "            observer.disconnect();\n",
       "        }}\n",
       "}});\n",
       "\n",
       "// Listen for the removal of the full notebook cells\n",
       "var notebookContainer = gd.closest('#notebook-container');\n",
       "if (notebookContainer) {{\n",
       "    x.observe(notebookContainer, {childList: true});\n",
       "}}\n",
       "\n",
       "// Listen for the clearing of the current output cell\n",
       "var outputEl = gd.closest('.output');\n",
       "if (outputEl) {{\n",
       "    x.observe(outputEl, {childList: true});\n",
       "}}\n",
       "\n",
       "                        })                };                });            </script>        </div>"
      ]
     },
     "metadata": {},
     "output_type": "display_data"
    }
   ],
   "source": [
    "import pandas as pd\n",
    "import plotly.graph_objects as go\n",
    "\n",
    "# Ensure 'timestamp' is in datetime format\n",
    "final_df['timestamp'] = pd.to_datetime(final_df['timestamp'])\n",
    "\n",
    "# Count the number of pairs for each cryptocurrency across the entire dataset\n",
    "crypto_counts = final_df['crypto_currency'].value_counts()\n",
    "\n",
    "# Identify the top 10 cryptocurrencies based on the entire dataset\n",
    "top_10_cryptos = crypto_counts.nlargest(10).index.tolist()\n",
    "\n",
    "# Filter the data to include only the last month's data\n",
    "last_month = final_df['timestamp'].max() - pd.DateOffset(months=1)\n",
    "filtered_df = final_df[final_df['timestamp'] >= last_month].copy()  # Use .copy() to avoid the SettingWithCopyWarning\n",
    "\n",
    "# Group the remaining cryptocurrencies into \"Others\"\n",
    "filtered_df.loc[:, 'crypto_category'] = filtered_df['crypto_currency'].apply(\n",
    "    lambda x: x if x in top_10_cryptos else 'Others'\n",
    ")\n",
    "\n",
    "# Create a list of unique categories (top 10 cryptos + 'Others')\n",
    "categories = top_10_cryptos + ['Others']\n",
    "\n",
    "# List of all fiat currencies present in the entire dataset\n",
    "all_fiats = sorted(final_df['fiat_currency'].unique())  # Sort fiat currencies alphabetically\n",
    "\n",
    "# Initialize an empty matrix with zeros (no pairs) for all fiat currencies\n",
    "matrix = pd.DataFrame(0, index=categories, columns=all_fiats)\n",
    "\n",
    "# Fill the matrix with 1 where pairs exist\n",
    "for _, row in filtered_df.iterrows():\n",
    "    matrix.loc[row['crypto_category'], row['fiat_currency']] = 1\n",
    "\n",
    "# Unified color scheme for all cryptos\n",
    "colorscale = [[0, '#D3D3D3'], [1, '#4682B4']]  # Light gray for no pair, steel blue for all pairs\n",
    "\n",
    "# Plot using Plotly\n",
    "fig = go.Figure(data=go.Heatmap(\n",
    "    z=matrix.values,\n",
    "    x=matrix.columns,\n",
    "    y=matrix.index,\n",
    "    colorscale=colorscale,\n",
    "    showscale=False,  # Hide color scale bar\n",
    "))\n",
    "\n",
    "# Update layout for better readability and custom Y-axis labels\n",
    "fig.update_layout(\n",
    "    title=\"Top 10 Crypto-Fiat Pair Presence and 'Others'\",\n",
    "    xaxis_title=\"Fiat Currency\",\n",
    "    yaxis_title=\"Cryptocurrency\",\n",
    "    yaxis=dict(\n",
    "        tickmode='array',\n",
    "        tickvals=list(range(len(categories))),\n",
    "        ticktext=[f'<b>{crypto}</b>' if crypto == 'Others' else crypto for crypto in categories],\n",
    "        tickfont=dict(size=10),\n",
    "        side='left'\n",
    "    ),\n",
    "    xaxis=dict(\n",
    "        tickmode='array',\n",
    "        tickvals=list(range(len(all_fiats))),\n",
    "        ticktext=all_fiats  # Ensure all fiat currencies are shown on the X-axis\n",
    "    ),\n",
    "    template=\"plotly_white\"\n",
    ")\n",
    "\n",
    "# Show the plot\n",
    "fig.show()\n"
   ]
  },
  {
   "cell_type": "markdown",
   "id": "4a869910",
   "metadata": {
    "papermill": {
     "duration": 0.011116,
     "end_time": "2024-08-14T20:39:16.965174",
     "exception": false,
     "start_time": "2024-08-14T20:39:16.954058",
     "status": "completed"
    },
    "tags": []
   },
   "source": [
    "### 3.4 Animated Heatmap of Crypto-Fiat Pairs Over Time\n",
    "\n",
    "In this section, we extend the heatmap analysis by introducing a time element, creating an animated heatmap that shows the presence of crypto-fiat pairs over a series of months. This visualization helps track changes over time, providing insights into the evolving dynamics of crypto-fiat pairings in the market. The animation allows us to see how the presence of different pairs fluctuates across different time periods, offering a temporal dimension to our analysis.\n"
   ]
  },
  {
   "cell_type": "code",
   "execution_count": 13,
   "id": "2aab64ce",
   "metadata": {
    "execution": {
     "iopub.execute_input": "2024-08-14T20:39:16.990636Z",
     "iopub.status.busy": "2024-08-14T20:39:16.989803Z",
     "iopub.status.idle": "2024-08-14T20:39:48.703113Z",
     "shell.execute_reply": "2024-08-14T20:39:48.701835Z"
    },
    "papermill": {
     "duration": 31.729478,
     "end_time": "2024-08-14T20:39:48.705851",
     "exception": false,
     "start_time": "2024-08-14T20:39:16.976373",
     "status": "completed"
    },
    "tags": []
   },
   "outputs": [
    {
     "data": {
      "application/vnd.jupyter.widget-view+json": {
       "model_id": "7d07527408064e818bf3f7f84a148847",
       "version_major": 2,
       "version_minor": 0
      },
      "text/plain": [
       "Generating frames:   0%|          | 0/59 [00:00<?, ?it/s]"
      ]
     },
     "metadata": {},
     "output_type": "display_data"
    },
    {
     "data": {
      "text/html": [
       "<div>                            <div id=\"de253b36-76c4-4442-8d2e-fc471a608a30\" class=\"plotly-graph-div\" style=\"height:525px; width:100%;\"></div>            <script type=\"text/javascript\">                require([\"plotly\"], function(Plotly) {                    window.PLOTLYENV=window.PLOTLYENV || {};                                    if (document.getElementById(\"de253b36-76c4-4442-8d2e-fc471a608a30\")) {                    Plotly.newPlot(                        \"de253b36-76c4-4442-8d2e-fc471a608a30\",                        [{\"colorscale\":[[0,\"#D3D3D3\"],[1,\"#4682B4\"]],\"showscale\":false,\"x\":[\"ARS\",\"AUD\",\"BRL\",\"CZK\",\"EUR\",\"GBP\",\"JPY\",\"MXN\",\"NGN\",\"PLN\",\"RON\",\"RUB\",\"TRY\",\"UAH\",\"ZAR\"],\"y\":[\"USDT\",\"BTC\",\"BUSD\",\"ETH\",\"BNB\",\"XRP\",\"SOL\",\"ADA\",\"LTC\",\"DOT\",\"Others\"],\"z\":[[0,0,0,0,0,0,0,0,0,0,0,0,0,0,0],[0,0,0,0,0,0,0,0,0,0,0,0,0,0,0],[0,0,0,0,0,0,0,0,1,0,0,0,0,0,0],[0,0,0,0,0,0,0,0,0,0,0,0,0,0,0],[0,0,0,0,0,0,0,0,1,0,0,0,0,0,0],[0,0,0,0,0,0,0,0,0,0,0,0,0,0,0],[0,0,0,0,0,0,0,0,0,0,0,0,0,0,0],[0,0,0,0,0,0,0,0,0,0,0,0,0,0,0],[0,0,0,0,0,0,0,0,0,0,0,0,0,0,0],[0,0,0,0,0,0,0,0,0,0,0,0,0,0,0],[0,0,0,0,0,0,0,0,0,0,0,0,0,0,0]],\"type\":\"heatmap\"}],                        {\"sliders\":[{\"currentvalue\":{\"font\":{\"size\":20},\"prefix\":\"Month: \"},\"len\":0.9,\"pad\":{\"b\":10},\"steps\":[{\"args\":[[\"2019-10\"],{\"frame\":{\"duration\":500,\"redraw\":true},\"mode\":\"immediate\",\"transition\":{\"duration\":300}}],\"label\":\"2019-10\",\"method\":\"animate\"},{\"args\":[[\"2019-11\"],{\"frame\":{\"duration\":500,\"redraw\":true},\"mode\":\"immediate\",\"transition\":{\"duration\":300}}],\"label\":\"2019-11\",\"method\":\"animate\"},{\"args\":[[\"2019-12\"],{\"frame\":{\"duration\":500,\"redraw\":true},\"mode\":\"immediate\",\"transition\":{\"duration\":300}}],\"label\":\"2019-12\",\"method\":\"animate\"},{\"args\":[[\"2020-01\"],{\"frame\":{\"duration\":500,\"redraw\":true},\"mode\":\"immediate\",\"transition\":{\"duration\":300}}],\"label\":\"2020-01\",\"method\":\"animate\"},{\"args\":[[\"2020-02\"],{\"frame\":{\"duration\":500,\"redraw\":true},\"mode\":\"immediate\",\"transition\":{\"duration\":300}}],\"label\":\"2020-02\",\"method\":\"animate\"},{\"args\":[[\"2020-03\"],{\"frame\":{\"duration\":500,\"redraw\":true},\"mode\":\"immediate\",\"transition\":{\"duration\":300}}],\"label\":\"2020-03\",\"method\":\"animate\"},{\"args\":[[\"2020-04\"],{\"frame\":{\"duration\":500,\"redraw\":true},\"mode\":\"immediate\",\"transition\":{\"duration\":300}}],\"label\":\"2020-04\",\"method\":\"animate\"},{\"args\":[[\"2020-05\"],{\"frame\":{\"duration\":500,\"redraw\":true},\"mode\":\"immediate\",\"transition\":{\"duration\":300}}],\"label\":\"2020-05\",\"method\":\"animate\"},{\"args\":[[\"2020-06\"],{\"frame\":{\"duration\":500,\"redraw\":true},\"mode\":\"immediate\",\"transition\":{\"duration\":300}}],\"label\":\"2020-06\",\"method\":\"animate\"},{\"args\":[[\"2020-07\"],{\"frame\":{\"duration\":500,\"redraw\":true},\"mode\":\"immediate\",\"transition\":{\"duration\":300}}],\"label\":\"2020-07\",\"method\":\"animate\"},{\"args\":[[\"2020-08\"],{\"frame\":{\"duration\":500,\"redraw\":true},\"mode\":\"immediate\",\"transition\":{\"duration\":300}}],\"label\":\"2020-08\",\"method\":\"animate\"},{\"args\":[[\"2020-09\"],{\"frame\":{\"duration\":500,\"redraw\":true},\"mode\":\"immediate\",\"transition\":{\"duration\":300}}],\"label\":\"2020-09\",\"method\":\"animate\"},{\"args\":[[\"2020-10\"],{\"frame\":{\"duration\":500,\"redraw\":true},\"mode\":\"immediate\",\"transition\":{\"duration\":300}}],\"label\":\"2020-10\",\"method\":\"animate\"},{\"args\":[[\"2020-11\"],{\"frame\":{\"duration\":500,\"redraw\":true},\"mode\":\"immediate\",\"transition\":{\"duration\":300}}],\"label\":\"2020-11\",\"method\":\"animate\"},{\"args\":[[\"2020-12\"],{\"frame\":{\"duration\":500,\"redraw\":true},\"mode\":\"immediate\",\"transition\":{\"duration\":300}}],\"label\":\"2020-12\",\"method\":\"animate\"},{\"args\":[[\"2021-01\"],{\"frame\":{\"duration\":500,\"redraw\":true},\"mode\":\"immediate\",\"transition\":{\"duration\":300}}],\"label\":\"2021-01\",\"method\":\"animate\"},{\"args\":[[\"2021-02\"],{\"frame\":{\"duration\":500,\"redraw\":true},\"mode\":\"immediate\",\"transition\":{\"duration\":300}}],\"label\":\"2021-02\",\"method\":\"animate\"},{\"args\":[[\"2021-03\"],{\"frame\":{\"duration\":500,\"redraw\":true},\"mode\":\"immediate\",\"transition\":{\"duration\":300}}],\"label\":\"2021-03\",\"method\":\"animate\"},{\"args\":[[\"2021-04\"],{\"frame\":{\"duration\":500,\"redraw\":true},\"mode\":\"immediate\",\"transition\":{\"duration\":300}}],\"label\":\"2021-04\",\"method\":\"animate\"},{\"args\":[[\"2021-05\"],{\"frame\":{\"duration\":500,\"redraw\":true},\"mode\":\"immediate\",\"transition\":{\"duration\":300}}],\"label\":\"2021-05\",\"method\":\"animate\"},{\"args\":[[\"2021-06\"],{\"frame\":{\"duration\":500,\"redraw\":true},\"mode\":\"immediate\",\"transition\":{\"duration\":300}}],\"label\":\"2021-06\",\"method\":\"animate\"},{\"args\":[[\"2021-07\"],{\"frame\":{\"duration\":500,\"redraw\":true},\"mode\":\"immediate\",\"transition\":{\"duration\":300}}],\"label\":\"2021-07\",\"method\":\"animate\"},{\"args\":[[\"2021-08\"],{\"frame\":{\"duration\":500,\"redraw\":true},\"mode\":\"immediate\",\"transition\":{\"duration\":300}}],\"label\":\"2021-08\",\"method\":\"animate\"},{\"args\":[[\"2021-09\"],{\"frame\":{\"duration\":500,\"redraw\":true},\"mode\":\"immediate\",\"transition\":{\"duration\":300}}],\"label\":\"2021-09\",\"method\":\"animate\"},{\"args\":[[\"2021-10\"],{\"frame\":{\"duration\":500,\"redraw\":true},\"mode\":\"immediate\",\"transition\":{\"duration\":300}}],\"label\":\"2021-10\",\"method\":\"animate\"},{\"args\":[[\"2021-11\"],{\"frame\":{\"duration\":500,\"redraw\":true},\"mode\":\"immediate\",\"transition\":{\"duration\":300}}],\"label\":\"2021-11\",\"method\":\"animate\"},{\"args\":[[\"2021-12\"],{\"frame\":{\"duration\":500,\"redraw\":true},\"mode\":\"immediate\",\"transition\":{\"duration\":300}}],\"label\":\"2021-12\",\"method\":\"animate\"},{\"args\":[[\"2022-01\"],{\"frame\":{\"duration\":500,\"redraw\":true},\"mode\":\"immediate\",\"transition\":{\"duration\":300}}],\"label\":\"2022-01\",\"method\":\"animate\"},{\"args\":[[\"2022-02\"],{\"frame\":{\"duration\":500,\"redraw\":true},\"mode\":\"immediate\",\"transition\":{\"duration\":300}}],\"label\":\"2022-02\",\"method\":\"animate\"},{\"args\":[[\"2022-03\"],{\"frame\":{\"duration\":500,\"redraw\":true},\"mode\":\"immediate\",\"transition\":{\"duration\":300}}],\"label\":\"2022-03\",\"method\":\"animate\"},{\"args\":[[\"2022-04\"],{\"frame\":{\"duration\":500,\"redraw\":true},\"mode\":\"immediate\",\"transition\":{\"duration\":300}}],\"label\":\"2022-04\",\"method\":\"animate\"},{\"args\":[[\"2022-05\"],{\"frame\":{\"duration\":500,\"redraw\":true},\"mode\":\"immediate\",\"transition\":{\"duration\":300}}],\"label\":\"2022-05\",\"method\":\"animate\"},{\"args\":[[\"2022-06\"],{\"frame\":{\"duration\":500,\"redraw\":true},\"mode\":\"immediate\",\"transition\":{\"duration\":300}}],\"label\":\"2022-06\",\"method\":\"animate\"},{\"args\":[[\"2022-07\"],{\"frame\":{\"duration\":500,\"redraw\":true},\"mode\":\"immediate\",\"transition\":{\"duration\":300}}],\"label\":\"2022-07\",\"method\":\"animate\"},{\"args\":[[\"2022-08\"],{\"frame\":{\"duration\":500,\"redraw\":true},\"mode\":\"immediate\",\"transition\":{\"duration\":300}}],\"label\":\"2022-08\",\"method\":\"animate\"},{\"args\":[[\"2022-09\"],{\"frame\":{\"duration\":500,\"redraw\":true},\"mode\":\"immediate\",\"transition\":{\"duration\":300}}],\"label\":\"2022-09\",\"method\":\"animate\"},{\"args\":[[\"2022-10\"],{\"frame\":{\"duration\":500,\"redraw\":true},\"mode\":\"immediate\",\"transition\":{\"duration\":300}}],\"label\":\"2022-10\",\"method\":\"animate\"},{\"args\":[[\"2022-11\"],{\"frame\":{\"duration\":500,\"redraw\":true},\"mode\":\"immediate\",\"transition\":{\"duration\":300}}],\"label\":\"2022-11\",\"method\":\"animate\"},{\"args\":[[\"2022-12\"],{\"frame\":{\"duration\":500,\"redraw\":true},\"mode\":\"immediate\",\"transition\":{\"duration\":300}}],\"label\":\"2022-12\",\"method\":\"animate\"},{\"args\":[[\"2023-01\"],{\"frame\":{\"duration\":500,\"redraw\":true},\"mode\":\"immediate\",\"transition\":{\"duration\":300}}],\"label\":\"2023-01\",\"method\":\"animate\"},{\"args\":[[\"2023-02\"],{\"frame\":{\"duration\":500,\"redraw\":true},\"mode\":\"immediate\",\"transition\":{\"duration\":300}}],\"label\":\"2023-02\",\"method\":\"animate\"},{\"args\":[[\"2023-03\"],{\"frame\":{\"duration\":500,\"redraw\":true},\"mode\":\"immediate\",\"transition\":{\"duration\":300}}],\"label\":\"2023-03\",\"method\":\"animate\"},{\"args\":[[\"2023-04\"],{\"frame\":{\"duration\":500,\"redraw\":true},\"mode\":\"immediate\",\"transition\":{\"duration\":300}}],\"label\":\"2023-04\",\"method\":\"animate\"},{\"args\":[[\"2023-05\"],{\"frame\":{\"duration\":500,\"redraw\":true},\"mode\":\"immediate\",\"transition\":{\"duration\":300}}],\"label\":\"2023-05\",\"method\":\"animate\"},{\"args\":[[\"2023-06\"],{\"frame\":{\"duration\":500,\"redraw\":true},\"mode\":\"immediate\",\"transition\":{\"duration\":300}}],\"label\":\"2023-06\",\"method\":\"animate\"},{\"args\":[[\"2023-07\"],{\"frame\":{\"duration\":500,\"redraw\":true},\"mode\":\"immediate\",\"transition\":{\"duration\":300}}],\"label\":\"2023-07\",\"method\":\"animate\"},{\"args\":[[\"2023-08\"],{\"frame\":{\"duration\":500,\"redraw\":true},\"mode\":\"immediate\",\"transition\":{\"duration\":300}}],\"label\":\"2023-08\",\"method\":\"animate\"},{\"args\":[[\"2023-09\"],{\"frame\":{\"duration\":500,\"redraw\":true},\"mode\":\"immediate\",\"transition\":{\"duration\":300}}],\"label\":\"2023-09\",\"method\":\"animate\"},{\"args\":[[\"2023-10\"],{\"frame\":{\"duration\":500,\"redraw\":true},\"mode\":\"immediate\",\"transition\":{\"duration\":300}}],\"label\":\"2023-10\",\"method\":\"animate\"},{\"args\":[[\"2023-11\"],{\"frame\":{\"duration\":500,\"redraw\":true},\"mode\":\"immediate\",\"transition\":{\"duration\":300}}],\"label\":\"2023-11\",\"method\":\"animate\"},{\"args\":[[\"2023-12\"],{\"frame\":{\"duration\":500,\"redraw\":true},\"mode\":\"immediate\",\"transition\":{\"duration\":300}}],\"label\":\"2023-12\",\"method\":\"animate\"},{\"args\":[[\"2024-01\"],{\"frame\":{\"duration\":500,\"redraw\":true},\"mode\":\"immediate\",\"transition\":{\"duration\":300}}],\"label\":\"2024-01\",\"method\":\"animate\"},{\"args\":[[\"2024-02\"],{\"frame\":{\"duration\":500,\"redraw\":true},\"mode\":\"immediate\",\"transition\":{\"duration\":300}}],\"label\":\"2024-02\",\"method\":\"animate\"},{\"args\":[[\"2024-03\"],{\"frame\":{\"duration\":500,\"redraw\":true},\"mode\":\"immediate\",\"transition\":{\"duration\":300}}],\"label\":\"2024-03\",\"method\":\"animate\"},{\"args\":[[\"2024-04\"],{\"frame\":{\"duration\":500,\"redraw\":true},\"mode\":\"immediate\",\"transition\":{\"duration\":300}}],\"label\":\"2024-04\",\"method\":\"animate\"},{\"args\":[[\"2024-05\"],{\"frame\":{\"duration\":500,\"redraw\":true},\"mode\":\"immediate\",\"transition\":{\"duration\":300}}],\"label\":\"2024-05\",\"method\":\"animate\"},{\"args\":[[\"2024-06\"],{\"frame\":{\"duration\":500,\"redraw\":true},\"mode\":\"immediate\",\"transition\":{\"duration\":300}}],\"label\":\"2024-06\",\"method\":\"animate\"},{\"args\":[[\"2024-07\"],{\"frame\":{\"duration\":500,\"redraw\":true},\"mode\":\"immediate\",\"transition\":{\"duration\":300}}],\"label\":\"2024-07\",\"method\":\"animate\"},{\"args\":[[\"2024-08\"],{\"frame\":{\"duration\":500,\"redraw\":true},\"mode\":\"immediate\",\"transition\":{\"duration\":300}}],\"label\":\"2024-08\",\"method\":\"animate\"}],\"x\":0.1,\"y\":0}],\"template\":{\"data\":{\"barpolar\":[{\"marker\":{\"line\":{\"color\":\"white\",\"width\":0.5},\"pattern\":{\"fillmode\":\"overlay\",\"size\":10,\"solidity\":0.2}},\"type\":\"barpolar\"}],\"bar\":[{\"error_x\":{\"color\":\"#2a3f5f\"},\"error_y\":{\"color\":\"#2a3f5f\"},\"marker\":{\"line\":{\"color\":\"white\",\"width\":0.5},\"pattern\":{\"fillmode\":\"overlay\",\"size\":10,\"solidity\":0.2}},\"type\":\"bar\"}],\"carpet\":[{\"aaxis\":{\"endlinecolor\":\"#2a3f5f\",\"gridcolor\":\"#C8D4E3\",\"linecolor\":\"#C8D4E3\",\"minorgridcolor\":\"#C8D4E3\",\"startlinecolor\":\"#2a3f5f\"},\"baxis\":{\"endlinecolor\":\"#2a3f5f\",\"gridcolor\":\"#C8D4E3\",\"linecolor\":\"#C8D4E3\",\"minorgridcolor\":\"#C8D4E3\",\"startlinecolor\":\"#2a3f5f\"},\"type\":\"carpet\"}],\"choropleth\":[{\"colorbar\":{\"outlinewidth\":0,\"ticks\":\"\"},\"type\":\"choropleth\"}],\"contourcarpet\":[{\"colorbar\":{\"outlinewidth\":0,\"ticks\":\"\"},\"type\":\"contourcarpet\"}],\"contour\":[{\"colorbar\":{\"outlinewidth\":0,\"ticks\":\"\"},\"colorscale\":[[0.0,\"#0d0887\"],[0.1111111111111111,\"#46039f\"],[0.2222222222222222,\"#7201a8\"],[0.3333333333333333,\"#9c179e\"],[0.4444444444444444,\"#bd3786\"],[0.5555555555555556,\"#d8576b\"],[0.6666666666666666,\"#ed7953\"],[0.7777777777777778,\"#fb9f3a\"],[0.8888888888888888,\"#fdca26\"],[1.0,\"#f0f921\"]],\"type\":\"contour\"}],\"heatmapgl\":[{\"colorbar\":{\"outlinewidth\":0,\"ticks\":\"\"},\"colorscale\":[[0.0,\"#0d0887\"],[0.1111111111111111,\"#46039f\"],[0.2222222222222222,\"#7201a8\"],[0.3333333333333333,\"#9c179e\"],[0.4444444444444444,\"#bd3786\"],[0.5555555555555556,\"#d8576b\"],[0.6666666666666666,\"#ed7953\"],[0.7777777777777778,\"#fb9f3a\"],[0.8888888888888888,\"#fdca26\"],[1.0,\"#f0f921\"]],\"type\":\"heatmapgl\"}],\"heatmap\":[{\"colorbar\":{\"outlinewidth\":0,\"ticks\":\"\"},\"colorscale\":[[0.0,\"#0d0887\"],[0.1111111111111111,\"#46039f\"],[0.2222222222222222,\"#7201a8\"],[0.3333333333333333,\"#9c179e\"],[0.4444444444444444,\"#bd3786\"],[0.5555555555555556,\"#d8576b\"],[0.6666666666666666,\"#ed7953\"],[0.7777777777777778,\"#fb9f3a\"],[0.8888888888888888,\"#fdca26\"],[1.0,\"#f0f921\"]],\"type\":\"heatmap\"}],\"histogram2dcontour\":[{\"colorbar\":{\"outlinewidth\":0,\"ticks\":\"\"},\"colorscale\":[[0.0,\"#0d0887\"],[0.1111111111111111,\"#46039f\"],[0.2222222222222222,\"#7201a8\"],[0.3333333333333333,\"#9c179e\"],[0.4444444444444444,\"#bd3786\"],[0.5555555555555556,\"#d8576b\"],[0.6666666666666666,\"#ed7953\"],[0.7777777777777778,\"#fb9f3a\"],[0.8888888888888888,\"#fdca26\"],[1.0,\"#f0f921\"]],\"type\":\"histogram2dcontour\"}],\"histogram2d\":[{\"colorbar\":{\"outlinewidth\":0,\"ticks\":\"\"},\"colorscale\":[[0.0,\"#0d0887\"],[0.1111111111111111,\"#46039f\"],[0.2222222222222222,\"#7201a8\"],[0.3333333333333333,\"#9c179e\"],[0.4444444444444444,\"#bd3786\"],[0.5555555555555556,\"#d8576b\"],[0.6666666666666666,\"#ed7953\"],[0.7777777777777778,\"#fb9f3a\"],[0.8888888888888888,\"#fdca26\"],[1.0,\"#f0f921\"]],\"type\":\"histogram2d\"}],\"histogram\":[{\"marker\":{\"pattern\":{\"fillmode\":\"overlay\",\"size\":10,\"solidity\":0.2}},\"type\":\"histogram\"}],\"mesh3d\":[{\"colorbar\":{\"outlinewidth\":0,\"ticks\":\"\"},\"type\":\"mesh3d\"}],\"parcoords\":[{\"line\":{\"colorbar\":{\"outlinewidth\":0,\"ticks\":\"\"}},\"type\":\"parcoords\"}],\"pie\":[{\"automargin\":true,\"type\":\"pie\"}],\"scatter3d\":[{\"line\":{\"colorbar\":{\"outlinewidth\":0,\"ticks\":\"\"}},\"marker\":{\"colorbar\":{\"outlinewidth\":0,\"ticks\":\"\"}},\"type\":\"scatter3d\"}],\"scattercarpet\":[{\"marker\":{\"colorbar\":{\"outlinewidth\":0,\"ticks\":\"\"}},\"type\":\"scattercarpet\"}],\"scattergeo\":[{\"marker\":{\"colorbar\":{\"outlinewidth\":0,\"ticks\":\"\"}},\"type\":\"scattergeo\"}],\"scattergl\":[{\"marker\":{\"colorbar\":{\"outlinewidth\":0,\"ticks\":\"\"}},\"type\":\"scattergl\"}],\"scattermapbox\":[{\"marker\":{\"colorbar\":{\"outlinewidth\":0,\"ticks\":\"\"}},\"type\":\"scattermapbox\"}],\"scatterpolargl\":[{\"marker\":{\"colorbar\":{\"outlinewidth\":0,\"ticks\":\"\"}},\"type\":\"scatterpolargl\"}],\"scatterpolar\":[{\"marker\":{\"colorbar\":{\"outlinewidth\":0,\"ticks\":\"\"}},\"type\":\"scatterpolar\"}],\"scatter\":[{\"fillpattern\":{\"fillmode\":\"overlay\",\"size\":10,\"solidity\":0.2},\"type\":\"scatter\"}],\"scatterternary\":[{\"marker\":{\"colorbar\":{\"outlinewidth\":0,\"ticks\":\"\"}},\"type\":\"scatterternary\"}],\"surface\":[{\"colorbar\":{\"outlinewidth\":0,\"ticks\":\"\"},\"colorscale\":[[0.0,\"#0d0887\"],[0.1111111111111111,\"#46039f\"],[0.2222222222222222,\"#7201a8\"],[0.3333333333333333,\"#9c179e\"],[0.4444444444444444,\"#bd3786\"],[0.5555555555555556,\"#d8576b\"],[0.6666666666666666,\"#ed7953\"],[0.7777777777777778,\"#fb9f3a\"],[0.8888888888888888,\"#fdca26\"],[1.0,\"#f0f921\"]],\"type\":\"surface\"}],\"table\":[{\"cells\":{\"fill\":{\"color\":\"#EBF0F8\"},\"line\":{\"color\":\"white\"}},\"header\":{\"fill\":{\"color\":\"#C8D4E3\"},\"line\":{\"color\":\"white\"}},\"type\":\"table\"}]},\"layout\":{\"annotationdefaults\":{\"arrowcolor\":\"#2a3f5f\",\"arrowhead\":0,\"arrowwidth\":1},\"autotypenumbers\":\"strict\",\"coloraxis\":{\"colorbar\":{\"outlinewidth\":0,\"ticks\":\"\"}},\"colorscale\":{\"diverging\":[[0,\"#8e0152\"],[0.1,\"#c51b7d\"],[0.2,\"#de77ae\"],[0.3,\"#f1b6da\"],[0.4,\"#fde0ef\"],[0.5,\"#f7f7f7\"],[0.6,\"#e6f5d0\"],[0.7,\"#b8e186\"],[0.8,\"#7fbc41\"],[0.9,\"#4d9221\"],[1,\"#276419\"]],\"sequential\":[[0.0,\"#0d0887\"],[0.1111111111111111,\"#46039f\"],[0.2222222222222222,\"#7201a8\"],[0.3333333333333333,\"#9c179e\"],[0.4444444444444444,\"#bd3786\"],[0.5555555555555556,\"#d8576b\"],[0.6666666666666666,\"#ed7953\"],[0.7777777777777778,\"#fb9f3a\"],[0.8888888888888888,\"#fdca26\"],[1.0,\"#f0f921\"]],\"sequentialminus\":[[0.0,\"#0d0887\"],[0.1111111111111111,\"#46039f\"],[0.2222222222222222,\"#7201a8\"],[0.3333333333333333,\"#9c179e\"],[0.4444444444444444,\"#bd3786\"],[0.5555555555555556,\"#d8576b\"],[0.6666666666666666,\"#ed7953\"],[0.7777777777777778,\"#fb9f3a\"],[0.8888888888888888,\"#fdca26\"],[1.0,\"#f0f921\"]]},\"colorway\":[\"#636efa\",\"#EF553B\",\"#00cc96\",\"#ab63fa\",\"#FFA15A\",\"#19d3f3\",\"#FF6692\",\"#B6E880\",\"#FF97FF\",\"#FECB52\"],\"font\":{\"color\":\"#2a3f5f\"},\"geo\":{\"bgcolor\":\"white\",\"lakecolor\":\"white\",\"landcolor\":\"white\",\"showlakes\":true,\"showland\":true,\"subunitcolor\":\"#C8D4E3\"},\"hoverlabel\":{\"align\":\"left\"},\"hovermode\":\"closest\",\"mapbox\":{\"style\":\"light\"},\"paper_bgcolor\":\"white\",\"plot_bgcolor\":\"white\",\"polar\":{\"angularaxis\":{\"gridcolor\":\"#EBF0F8\",\"linecolor\":\"#EBF0F8\",\"ticks\":\"\"},\"bgcolor\":\"white\",\"radialaxis\":{\"gridcolor\":\"#EBF0F8\",\"linecolor\":\"#EBF0F8\",\"ticks\":\"\"}},\"scene\":{\"xaxis\":{\"backgroundcolor\":\"white\",\"gridcolor\":\"#DFE8F3\",\"gridwidth\":2,\"linecolor\":\"#EBF0F8\",\"showbackground\":true,\"ticks\":\"\",\"zerolinecolor\":\"#EBF0F8\"},\"yaxis\":{\"backgroundcolor\":\"white\",\"gridcolor\":\"#DFE8F3\",\"gridwidth\":2,\"linecolor\":\"#EBF0F8\",\"showbackground\":true,\"ticks\":\"\",\"zerolinecolor\":\"#EBF0F8\"},\"zaxis\":{\"backgroundcolor\":\"white\",\"gridcolor\":\"#DFE8F3\",\"gridwidth\":2,\"linecolor\":\"#EBF0F8\",\"showbackground\":true,\"ticks\":\"\",\"zerolinecolor\":\"#EBF0F8\"}},\"shapedefaults\":{\"line\":{\"color\":\"#2a3f5f\"}},\"ternary\":{\"aaxis\":{\"gridcolor\":\"#DFE8F3\",\"linecolor\":\"#A2B1C6\",\"ticks\":\"\"},\"baxis\":{\"gridcolor\":\"#DFE8F3\",\"linecolor\":\"#A2B1C6\",\"ticks\":\"\"},\"bgcolor\":\"white\",\"caxis\":{\"gridcolor\":\"#DFE8F3\",\"linecolor\":\"#A2B1C6\",\"ticks\":\"\"}},\"title\":{\"x\":0.05},\"xaxis\":{\"automargin\":true,\"gridcolor\":\"#EBF0F8\",\"linecolor\":\"#EBF0F8\",\"ticks\":\"\",\"title\":{\"standoff\":15},\"zerolinecolor\":\"#EBF0F8\",\"zerolinewidth\":2},\"yaxis\":{\"automargin\":true,\"gridcolor\":\"#EBF0F8\",\"linecolor\":\"#EBF0F8\",\"ticks\":\"\",\"title\":{\"standoff\":15},\"zerolinecolor\":\"#EBF0F8\",\"zerolinewidth\":2}}},\"title\":{\"text\":\"Top 10 Crypto-Fiat Pair Presence and 'Others' Over Time (All Fiat Currencies)\"},\"updatemenus\":[{\"buttons\":[{\"args\":[null,{\"frame\":{\"duration\":500,\"redraw\":true},\"fromcurrent\":true,\"transition\":{\"duration\":300}}],\"label\":\"Play\",\"method\":\"animate\"},{\"args\":[[null],{\"frame\":{\"duration\":0,\"redraw\":false},\"mode\":\"immediate\",\"transition\":{\"duration\":0}}],\"label\":\"Pause\",\"method\":\"animate\"}],\"showactive\":false,\"type\":\"buttons\"}],\"xaxis\":{\"tickmode\":\"array\",\"ticktext\":[\"ARS\",\"AUD\",\"BRL\",\"CZK\",\"EUR\",\"GBP\",\"JPY\",\"MXN\",\"NGN\",\"PLN\",\"RON\",\"RUB\",\"TRY\",\"UAH\",\"ZAR\"],\"tickvals\":[0,1,2,3,4,5,6,7,8,9,10,11,12,13,14],\"title\":{\"text\":\"Fiat Currency\"}},\"yaxis\":{\"side\":\"left\",\"tickfont\":{\"size\":10},\"tickmode\":\"array\",\"ticktext\":[\"USDT\",\"BTC\",\"BUSD\",\"ETH\",\"BNB\",\"XRP\",\"SOL\",\"ADA\",\"LTC\",\"DOT\",\"\\u003cb\\u003eOthers\\u003c\\u002fb\\u003e\"],\"tickvals\":[0,1,2,3,4,5,6,7,8,9,10],\"title\":{\"text\":\"Cryptocurrency\"}}},                        {\"responsive\": true}                    ).then(function(){\n",
       "                            Plotly.addFrames('de253b36-76c4-4442-8d2e-fc471a608a30', [{\"data\":[{\"colorscale\":[[0,\"#D3D3D3\"],[1,\"#4682B4\"]],\"showscale\":false,\"x\":[\"ARS\",\"AUD\",\"BRL\",\"CZK\",\"EUR\",\"GBP\",\"JPY\",\"MXN\",\"NGN\",\"PLN\",\"RON\",\"RUB\",\"TRY\",\"UAH\",\"ZAR\"],\"y\":[\"USDT\",\"BTC\",\"BUSD\",\"ETH\",\"BNB\",\"XRP\",\"SOL\",\"ADA\",\"LTC\",\"DOT\",\"Others\"],\"z\":[[0,0,0,0,0,0,0,0,0,0,0,0,0,0,0],[0,0,0,0,0,0,0,0,0,0,0,0,0,0,0],[0,0,0,0,0,0,0,0,1,0,0,0,0,0,0],[0,0,0,0,0,0,0,0,0,0,0,0,0,0,0],[0,0,0,0,0,0,0,0,1,0,0,0,0,0,0],[0,0,0,0,0,0,0,0,0,0,0,0,0,0,0],[0,0,0,0,0,0,0,0,0,0,0,0,0,0,0],[0,0,0,0,0,0,0,0,0,0,0,0,0,0,0],[0,0,0,0,0,0,0,0,0,0,0,0,0,0,0],[0,0,0,0,0,0,0,0,0,0,0,0,0,0,0],[0,0,0,0,0,0,0,0,0,0,0,0,0,0,0]],\"type\":\"heatmap\"}],\"name\":\"2019-10\"},{\"data\":[{\"colorscale\":[[0,\"#D3D3D3\"],[1,\"#4682B4\"]],\"showscale\":false,\"x\":[\"ARS\",\"AUD\",\"BRL\",\"CZK\",\"EUR\",\"GBP\",\"JPY\",\"MXN\",\"NGN\",\"PLN\",\"RON\",\"RUB\",\"TRY\",\"UAH\",\"ZAR\"],\"y\":[\"USDT\",\"BTC\",\"BUSD\",\"ETH\",\"BNB\",\"XRP\",\"SOL\",\"ADA\",\"LTC\",\"DOT\",\"Others\"],\"z\":[[0,0,0,0,0,0,0,0,0,0,0,0,0,0,0],[0,0,0,0,0,0,0,0,0,0,0,0,0,0,0],[0,0,0,0,0,0,0,0,1,0,0,0,0,0,0],[0,0,0,0,0,0,0,0,0,0,0,0,0,0,0],[0,0,0,0,0,0,0,0,1,0,0,0,0,0,0],[0,0,0,0,0,0,0,0,0,0,0,0,0,0,0],[0,0,0,0,0,0,0,0,0,0,0,0,0,0,0],[0,0,0,0,0,0,0,0,0,0,0,0,0,0,0],[0,0,0,0,0,0,0,0,0,0,0,0,0,0,0],[0,0,0,0,0,0,0,0,0,0,0,0,0,0,0],[0,0,0,0,0,0,0,0,0,0,0,0,0,0,0]],\"type\":\"heatmap\"}],\"name\":\"2019-11\"},{\"data\":[{\"colorscale\":[[0,\"#D3D3D3\"],[1,\"#4682B4\"]],\"showscale\":false,\"x\":[\"ARS\",\"AUD\",\"BRL\",\"CZK\",\"EUR\",\"GBP\",\"JPY\",\"MXN\",\"NGN\",\"PLN\",\"RON\",\"RUB\",\"TRY\",\"UAH\",\"ZAR\"],\"y\":[\"USDT\",\"BTC\",\"BUSD\",\"ETH\",\"BNB\",\"XRP\",\"SOL\",\"ADA\",\"LTC\",\"DOT\",\"Others\"],\"z\":[[0,0,0,0,0,0,0,0,0,0,0,0,0,0,0],[0,0,0,0,0,0,0,0,0,0,0,0,0,0,0],[0,0,0,0,0,0,0,0,1,0,0,0,0,0,0],[0,0,0,0,0,0,0,0,0,0,0,0,0,0,0],[0,0,0,0,0,0,0,0,1,0,0,0,0,0,0],[0,0,0,0,0,0,0,0,0,0,0,0,0,0,0],[0,0,0,0,0,0,0,0,0,0,0,0,0,0,0],[0,0,0,0,0,0,0,0,0,0,0,0,0,0,0],[0,0,0,0,0,0,0,0,0,0,0,0,0,0,0],[0,0,0,0,0,0,0,0,0,0,0,0,0,0,0],[0,0,0,0,0,0,0,0,0,0,0,0,0,0,0]],\"type\":\"heatmap\"}],\"name\":\"2019-12\"},{\"data\":[{\"colorscale\":[[0,\"#D3D3D3\"],[1,\"#4682B4\"]],\"showscale\":false,\"x\":[\"ARS\",\"AUD\",\"BRL\",\"CZK\",\"EUR\",\"GBP\",\"JPY\",\"MXN\",\"NGN\",\"PLN\",\"RON\",\"RUB\",\"TRY\",\"UAH\",\"ZAR\"],\"y\":[\"USDT\",\"BTC\",\"BUSD\",\"ETH\",\"BNB\",\"XRP\",\"SOL\",\"ADA\",\"LTC\",\"DOT\",\"Others\"],\"z\":[[0,0,0,0,0,0,0,0,0,0,0,0,0,0,0],[0,0,0,0,0,0,0,0,0,0,0,0,0,0,0],[0,0,0,0,0,0,0,0,1,0,0,0,0,0,0],[0,0,0,0,0,0,0,0,0,0,0,0,0,0,0],[0,0,0,0,0,0,0,0,1,0,0,0,0,0,0],[0,0,0,0,0,0,0,0,0,0,0,0,0,0,0],[0,0,0,0,0,0,0,0,0,0,0,0,0,0,0],[0,0,0,0,0,0,0,0,0,0,0,0,0,0,0],[0,0,0,0,0,0,0,0,0,0,0,0,0,0,0],[0,0,0,0,0,0,0,0,0,0,0,0,0,0,0],[0,0,0,0,0,0,0,0,0,0,0,0,0,0,0]],\"type\":\"heatmap\"}],\"name\":\"2020-01\"},{\"data\":[{\"colorscale\":[[0,\"#D3D3D3\"],[1,\"#4682B4\"]],\"showscale\":false,\"x\":[\"ARS\",\"AUD\",\"BRL\",\"CZK\",\"EUR\",\"GBP\",\"JPY\",\"MXN\",\"NGN\",\"PLN\",\"RON\",\"RUB\",\"TRY\",\"UAH\",\"ZAR\"],\"y\":[\"USDT\",\"BTC\",\"BUSD\",\"ETH\",\"BNB\",\"XRP\",\"SOL\",\"ADA\",\"LTC\",\"DOT\",\"Others\"],\"z\":[[0,0,0,0,0,0,0,0,0,0,0,0,0,0,0],[0,0,0,0,0,0,0,0,0,0,0,0,0,0,0],[0,0,0,0,0,0,0,0,1,0,0,0,0,0,0],[0,0,0,0,0,0,0,0,0,0,0,0,0,0,0],[0,0,0,0,0,0,0,0,1,0,0,0,0,0,0],[0,0,0,0,0,0,0,0,0,0,0,0,0,0,0],[0,0,0,0,0,0,0,0,0,0,0,0,0,0,0],[0,0,0,0,0,0,0,0,0,0,0,0,0,0,0],[0,0,0,0,0,0,0,0,0,0,0,0,0,0,0],[0,0,0,0,0,0,0,0,0,0,0,0,0,0,0],[0,0,0,0,0,0,0,0,0,0,0,0,0,0,0]],\"type\":\"heatmap\"}],\"name\":\"2020-02\"},{\"data\":[{\"colorscale\":[[0,\"#D3D3D3\"],[1,\"#4682B4\"]],\"showscale\":false,\"x\":[\"ARS\",\"AUD\",\"BRL\",\"CZK\",\"EUR\",\"GBP\",\"JPY\",\"MXN\",\"NGN\",\"PLN\",\"RON\",\"RUB\",\"TRY\",\"UAH\",\"ZAR\"],\"y\":[\"USDT\",\"BTC\",\"BUSD\",\"ETH\",\"BNB\",\"XRP\",\"SOL\",\"ADA\",\"LTC\",\"DOT\",\"Others\"],\"z\":[[0,0,0,0,0,0,0,0,0,0,0,0,0,0,0],[0,0,0,0,0,0,0,0,0,0,0,0,0,0,0],[0,0,0,0,0,0,0,0,1,0,0,0,0,0,0],[0,0,0,0,0,0,0,0,0,0,0,0,0,0,0],[0,0,0,0,0,0,0,0,1,0,0,0,0,0,1],[0,0,0,0,0,0,0,0,0,0,0,0,0,0,0],[0,0,0,0,0,0,0,0,0,0,0,0,0,0,0],[0,0,0,0,0,0,0,0,0,0,0,0,0,0,0],[0,0,0,0,0,0,0,0,0,0,0,0,0,0,0],[0,0,0,0,0,0,0,0,0,0,0,0,0,0,0],[0,0,0,0,0,0,0,0,0,0,0,0,0,0,0]],\"type\":\"heatmap\"}],\"name\":\"2020-03\"},{\"data\":[{\"colorscale\":[[0,\"#D3D3D3\"],[1,\"#4682B4\"]],\"showscale\":false,\"x\":[\"ARS\",\"AUD\",\"BRL\",\"CZK\",\"EUR\",\"GBP\",\"JPY\",\"MXN\",\"NGN\",\"PLN\",\"RON\",\"RUB\",\"TRY\",\"UAH\",\"ZAR\"],\"y\":[\"USDT\",\"BTC\",\"BUSD\",\"ETH\",\"BNB\",\"XRP\",\"SOL\",\"ADA\",\"LTC\",\"DOT\",\"Others\"],\"z\":[[0,0,0,0,0,0,0,0,0,0,0,0,0,0,0],[0,0,0,0,0,0,0,0,0,0,0,0,0,0,0],[0,0,0,0,0,0,0,0,1,0,0,0,0,0,0],[0,0,0,0,0,0,0,0,0,0,0,0,0,0,0],[0,0,0,0,0,0,0,0,1,0,0,0,0,0,1],[0,0,0,0,0,0,0,0,0,0,0,0,0,0,0],[0,0,0,0,0,0,0,0,0,0,0,0,0,0,0],[0,0,0,0,0,0,0,0,0,0,0,0,0,0,0],[0,0,0,0,0,0,0,0,0,0,0,0,0,0,0],[0,0,0,0,0,0,0,0,0,0,0,0,0,0,0],[0,0,0,0,0,0,0,0,0,0,0,0,0,0,0]],\"type\":\"heatmap\"}],\"name\":\"2020-04\"},{\"data\":[{\"colorscale\":[[0,\"#D3D3D3\"],[1,\"#4682B4\"]],\"showscale\":false,\"x\":[\"ARS\",\"AUD\",\"BRL\",\"CZK\",\"EUR\",\"GBP\",\"JPY\",\"MXN\",\"NGN\",\"PLN\",\"RON\",\"RUB\",\"TRY\",\"UAH\",\"ZAR\"],\"y\":[\"USDT\",\"BTC\",\"BUSD\",\"ETH\",\"BNB\",\"XRP\",\"SOL\",\"ADA\",\"LTC\",\"DOT\",\"Others\"],\"z\":[[0,0,0,0,0,0,0,0,0,0,0,0,0,0,0],[0,0,0,0,0,0,0,0,0,0,0,0,0,0,0],[0,0,0,0,0,0,0,0,1,0,0,0,0,0,0],[0,0,0,0,0,0,0,0,0,0,0,0,0,0,0],[0,0,0,0,0,0,0,0,1,0,0,0,0,0,1],[0,0,0,0,0,0,0,0,0,0,0,0,0,0,0],[0,0,0,0,0,0,0,0,0,0,0,0,0,0,0],[0,0,0,0,0,0,0,0,0,0,0,0,0,0,0],[0,0,0,0,0,0,0,0,0,0,0,0,0,0,0],[0,0,0,0,0,0,0,0,0,0,0,0,0,0,0],[0,0,0,0,0,0,0,0,0,0,0,0,0,0,0]],\"type\":\"heatmap\"}],\"name\":\"2020-05\"},{\"data\":[{\"colorscale\":[[0,\"#D3D3D3\"],[1,\"#4682B4\"]],\"showscale\":false,\"x\":[\"ARS\",\"AUD\",\"BRL\",\"CZK\",\"EUR\",\"GBP\",\"JPY\",\"MXN\",\"NGN\",\"PLN\",\"RON\",\"RUB\",\"TRY\",\"UAH\",\"ZAR\"],\"y\":[\"USDT\",\"BTC\",\"BUSD\",\"ETH\",\"BNB\",\"XRP\",\"SOL\",\"ADA\",\"LTC\",\"DOT\",\"Others\"],\"z\":[[0,0,0,0,0,0,0,0,0,0,0,0,0,0,0],[0,0,0,0,0,0,0,0,0,0,0,0,0,0,0],[0,0,0,0,0,0,0,0,1,0,0,0,0,0,0],[0,0,0,0,0,0,0,0,0,0,0,0,0,0,0],[0,0,0,0,0,0,0,0,1,0,0,0,0,0,1],[0,0,0,0,0,0,0,0,0,0,0,0,0,0,0],[0,0,0,0,0,0,0,0,0,0,0,0,0,0,0],[0,0,0,0,0,0,0,0,0,0,0,0,0,0,0],[0,0,0,0,0,0,0,0,0,0,0,0,0,0,0],[0,0,0,0,0,0,0,0,0,0,0,0,0,0,0],[0,0,0,0,0,0,0,0,0,0,0,0,0,0,0]],\"type\":\"heatmap\"}],\"name\":\"2020-06\"},{\"data\":[{\"colorscale\":[[0,\"#D3D3D3\"],[1,\"#4682B4\"]],\"showscale\":false,\"x\":[\"ARS\",\"AUD\",\"BRL\",\"CZK\",\"EUR\",\"GBP\",\"JPY\",\"MXN\",\"NGN\",\"PLN\",\"RON\",\"RUB\",\"TRY\",\"UAH\",\"ZAR\"],\"y\":[\"USDT\",\"BTC\",\"BUSD\",\"ETH\",\"BNB\",\"XRP\",\"SOL\",\"ADA\",\"LTC\",\"DOT\",\"Others\"],\"z\":[[0,0,0,0,0,0,0,0,0,0,0,0,0,0,0],[0,0,0,0,0,0,0,0,0,0,0,0,0,0,0],[0,0,0,0,0,0,0,0,1,0,0,0,0,0,0],[0,0,0,0,0,0,0,0,0,0,0,0,0,0,0],[0,0,0,0,0,0,0,0,1,0,0,0,0,0,1],[0,0,0,0,0,0,0,0,0,0,0,0,0,0,0],[0,0,0,0,0,0,0,0,0,0,0,0,0,0,0],[0,0,0,0,0,0,0,0,0,0,0,0,0,0,0],[0,0,0,0,0,0,0,0,0,0,0,0,0,0,0],[0,0,0,0,0,0,0,0,0,0,0,0,0,0,0],[0,0,0,0,0,0,0,0,0,0,0,0,0,0,0]],\"type\":\"heatmap\"}],\"name\":\"2020-07\"},{\"data\":[{\"colorscale\":[[0,\"#D3D3D3\"],[1,\"#4682B4\"]],\"showscale\":false,\"x\":[\"ARS\",\"AUD\",\"BRL\",\"CZK\",\"EUR\",\"GBP\",\"JPY\",\"MXN\",\"NGN\",\"PLN\",\"RON\",\"RUB\",\"TRY\",\"UAH\",\"ZAR\"],\"y\":[\"USDT\",\"BTC\",\"BUSD\",\"ETH\",\"BNB\",\"XRP\",\"SOL\",\"ADA\",\"LTC\",\"DOT\",\"Others\"],\"z\":[[0,0,0,0,0,0,0,0,0,0,0,0,0,0,0],[0,0,0,0,0,0,0,0,0,0,0,0,0,0,0],[0,0,0,0,0,0,0,0,1,0,0,0,0,0,0],[0,0,0,0,0,0,0,0,1,0,0,0,0,0,0],[0,0,0,0,0,0,0,0,1,0,0,0,0,0,1],[0,0,0,0,0,0,0,0,0,0,0,0,0,0,0],[0,0,0,0,0,0,0,0,0,0,0,0,0,0,0],[0,0,0,0,0,0,0,0,0,0,0,0,0,0,0],[0,0,0,0,0,0,0,0,0,0,0,0,0,0,0],[0,0,0,0,0,0,0,0,0,0,0,0,0,0,0],[0,0,0,0,0,0,0,0,0,0,0,0,0,0,0]],\"type\":\"heatmap\"}],\"name\":\"2020-08\"},{\"data\":[{\"colorscale\":[[0,\"#D3D3D3\"],[1,\"#4682B4\"]],\"showscale\":false,\"x\":[\"ARS\",\"AUD\",\"BRL\",\"CZK\",\"EUR\",\"GBP\",\"JPY\",\"MXN\",\"NGN\",\"PLN\",\"RON\",\"RUB\",\"TRY\",\"UAH\",\"ZAR\"],\"y\":[\"USDT\",\"BTC\",\"BUSD\",\"ETH\",\"BNB\",\"XRP\",\"SOL\",\"ADA\",\"LTC\",\"DOT\",\"Others\"],\"z\":[[0,0,0,0,0,0,0,0,0,0,0,0,0,0,0],[0,0,0,0,0,0,0,0,0,0,0,0,0,0,0],[0,0,0,0,0,0,0,0,1,0,0,0,0,0,0],[0,0,0,0,0,0,0,0,1,0,0,0,0,0,0],[0,0,0,0,0,0,0,0,1,0,0,0,0,0,1],[0,0,0,0,0,0,0,0,0,0,0,0,0,0,0],[0,0,0,0,0,0,0,0,0,0,0,0,0,0,0],[0,0,0,0,0,0,0,0,0,0,0,0,0,0,0],[0,0,0,0,0,0,0,0,0,0,0,0,0,0,0],[0,0,0,0,0,0,0,0,0,0,0,0,0,0,0],[0,1,0,0,0,0,0,0,0,0,0,0,0,0,0]],\"type\":\"heatmap\"}],\"name\":\"2020-09\"},{\"data\":[{\"colorscale\":[[0,\"#D3D3D3\"],[1,\"#4682B4\"]],\"showscale\":false,\"x\":[\"ARS\",\"AUD\",\"BRL\",\"CZK\",\"EUR\",\"GBP\",\"JPY\",\"MXN\",\"NGN\",\"PLN\",\"RON\",\"RUB\",\"TRY\",\"UAH\",\"ZAR\"],\"y\":[\"USDT\",\"BTC\",\"BUSD\",\"ETH\",\"BNB\",\"XRP\",\"SOL\",\"ADA\",\"LTC\",\"DOT\",\"Others\"],\"z\":[[0,0,0,0,0,0,0,0,0,0,0,0,0,0,0],[0,0,0,0,0,0,0,0,0,0,0,0,0,0,0],[0,0,0,0,0,0,0,0,1,0,0,0,0,0,0],[0,0,0,0,0,0,0,0,1,0,0,0,0,0,0],[0,0,0,0,0,0,0,0,1,0,0,0,0,0,1],[0,0,0,0,0,0,0,0,0,0,0,0,0,0,0],[0,0,0,0,0,0,0,0,0,0,0,0,0,0,0],[0,0,0,0,0,0,0,0,0,0,0,0,0,0,0],[0,0,0,0,0,0,0,0,0,0,0,0,0,0,0],[0,0,0,0,0,0,0,0,0,0,0,0,0,0,0],[0,1,0,0,0,0,0,0,1,0,0,0,0,0,0]],\"type\":\"heatmap\"}],\"name\":\"2020-10\"},{\"data\":[{\"colorscale\":[[0,\"#D3D3D3\"],[1,\"#4682B4\"]],\"showscale\":false,\"x\":[\"ARS\",\"AUD\",\"BRL\",\"CZK\",\"EUR\",\"GBP\",\"JPY\",\"MXN\",\"NGN\",\"PLN\",\"RON\",\"RUB\",\"TRY\",\"UAH\",\"ZAR\"],\"y\":[\"USDT\",\"BTC\",\"BUSD\",\"ETH\",\"BNB\",\"XRP\",\"SOL\",\"ADA\",\"LTC\",\"DOT\",\"Others\"],\"z\":[[0,0,0,0,0,0,0,0,0,0,0,0,0,0,0],[0,0,0,0,0,0,0,0,0,0,0,0,0,0,0],[0,0,0,0,0,0,0,0,1,0,0,0,0,0,0],[0,0,0,0,0,0,0,0,1,0,0,0,0,0,0],[0,0,0,0,0,0,0,0,1,0,0,0,0,0,1],[0,0,0,0,0,0,0,0,1,0,0,0,0,0,0],[0,0,0,0,0,0,0,0,0,0,0,0,0,0,0],[0,0,0,0,0,0,0,0,0,0,0,0,0,0,0],[0,0,0,0,0,0,0,0,1,0,0,0,0,0,0],[0,0,0,0,0,0,0,0,0,0,0,0,0,0,0],[0,1,0,0,0,0,0,0,1,0,0,0,0,0,0]],\"type\":\"heatmap\"}],\"name\":\"2020-11\"},{\"data\":[{\"colorscale\":[[0,\"#D3D3D3\"],[1,\"#4682B4\"]],\"showscale\":false,\"x\":[\"ARS\",\"AUD\",\"BRL\",\"CZK\",\"EUR\",\"GBP\",\"JPY\",\"MXN\",\"NGN\",\"PLN\",\"RON\",\"RUB\",\"TRY\",\"UAH\",\"ZAR\"],\"y\":[\"USDT\",\"BTC\",\"BUSD\",\"ETH\",\"BNB\",\"XRP\",\"SOL\",\"ADA\",\"LTC\",\"DOT\",\"Others\"],\"z\":[[0,0,0,0,0,0,0,0,0,0,0,0,0,0,0],[0,0,0,0,0,0,0,0,0,0,0,0,0,0,0],[0,0,0,0,0,0,0,0,1,0,0,0,0,0,0],[0,0,0,0,0,0,0,0,1,0,0,0,0,0,0],[0,0,0,0,0,0,0,0,1,0,0,0,0,0,1],[0,0,0,0,0,0,0,0,1,0,0,0,0,0,0],[0,0,0,0,0,0,0,0,0,0,0,0,0,0,0],[0,0,0,0,0,0,0,0,0,0,0,0,0,0,0],[0,0,0,0,0,0,0,0,1,0,0,0,0,0,0],[0,0,0,0,0,0,0,0,0,0,0,0,0,0,0],[0,1,0,0,0,0,0,0,1,0,0,0,0,0,0]],\"type\":\"heatmap\"}],\"name\":\"2020-12\"},{\"data\":[{\"colorscale\":[[0,\"#D3D3D3\"],[1,\"#4682B4\"]],\"showscale\":false,\"x\":[\"ARS\",\"AUD\",\"BRL\",\"CZK\",\"EUR\",\"GBP\",\"JPY\",\"MXN\",\"NGN\",\"PLN\",\"RON\",\"RUB\",\"TRY\",\"UAH\",\"ZAR\"],\"y\":[\"USDT\",\"BTC\",\"BUSD\",\"ETH\",\"BNB\",\"XRP\",\"SOL\",\"ADA\",\"LTC\",\"DOT\",\"Others\"],\"z\":[[0,0,0,0,0,0,0,0,0,0,0,0,0,0,1],[0,0,0,0,0,0,0,0,0,0,0,0,0,0,0],[0,0,0,0,0,0,0,0,1,0,0,0,0,0,1],[0,0,0,0,0,0,0,0,1,0,0,0,0,0,0],[0,0,0,0,0,0,0,0,1,0,0,0,0,0,1],[0,0,0,0,0,0,0,0,1,0,0,0,0,0,0],[0,0,0,0,0,0,0,0,0,0,0,0,0,0,0],[0,0,0,0,0,0,0,0,0,0,0,0,0,0,0],[0,0,0,0,0,0,0,0,1,0,0,0,0,0,0],[0,0,0,0,0,0,0,0,0,0,0,0,0,0,0],[0,1,0,0,0,1,0,0,1,0,0,0,0,0,0]],\"type\":\"heatmap\"}],\"name\":\"2021-01\"},{\"data\":[{\"colorscale\":[[0,\"#D3D3D3\"],[1,\"#4682B4\"]],\"showscale\":false,\"x\":[\"ARS\",\"AUD\",\"BRL\",\"CZK\",\"EUR\",\"GBP\",\"JPY\",\"MXN\",\"NGN\",\"PLN\",\"RON\",\"RUB\",\"TRY\",\"UAH\",\"ZAR\"],\"y\":[\"USDT\",\"BTC\",\"BUSD\",\"ETH\",\"BNB\",\"XRP\",\"SOL\",\"ADA\",\"LTC\",\"DOT\",\"Others\"],\"z\":[[0,0,0,0,0,0,0,0,0,0,0,0,0,0,1],[0,0,0,0,0,0,0,0,0,0,0,0,0,0,0],[0,0,0,0,0,0,0,0,1,0,0,0,0,0,1],[0,0,0,0,0,0,0,0,1,0,0,0,0,0,0],[0,0,0,0,0,0,0,0,1,0,0,0,0,0,1],[0,0,0,0,0,0,0,0,1,0,0,0,0,0,0],[0,0,0,0,0,0,0,0,0,0,0,0,0,0,0],[0,0,0,0,0,0,0,0,0,0,0,0,0,0,0],[0,0,0,0,0,0,0,0,1,0,0,0,0,0,0],[0,0,0,0,0,0,0,0,1,0,0,0,0,0,0],[0,1,0,0,0,1,0,0,1,0,0,0,0,0,0]],\"type\":\"heatmap\"}],\"name\":\"2021-02\"},{\"data\":[{\"colorscale\":[[0,\"#D3D3D3\"],[1,\"#4682B4\"]],\"showscale\":false,\"x\":[\"ARS\",\"AUD\",\"BRL\",\"CZK\",\"EUR\",\"GBP\",\"JPY\",\"MXN\",\"NGN\",\"PLN\",\"RON\",\"RUB\",\"TRY\",\"UAH\",\"ZAR\"],\"y\":[\"USDT\",\"BTC\",\"BUSD\",\"ETH\",\"BNB\",\"XRP\",\"SOL\",\"ADA\",\"LTC\",\"DOT\",\"Others\"],\"z\":[[0,0,0,0,0,0,0,0,0,0,0,0,0,0,1],[0,0,0,0,0,0,0,0,0,0,0,0,0,0,0],[0,0,0,0,0,0,0,0,0,0,0,0,0,0,1],[0,0,0,0,0,0,0,0,0,0,0,0,0,0,0],[0,0,0,0,0,0,0,0,0,0,0,0,0,0,1],[0,0,0,0,0,0,0,0,0,0,0,0,0,0,0],[0,0,0,0,0,0,0,0,0,0,0,0,0,0,0],[0,0,0,0,0,0,0,0,0,0,0,0,0,0,0],[0,0,0,0,0,0,0,0,0,0,0,0,0,0,0],[0,0,0,0,0,0,0,0,0,0,0,0,0,0,0],[0,1,0,0,1,1,0,0,0,0,0,0,1,0,0]],\"type\":\"heatmap\"}],\"name\":\"2021-03\"},{\"data\":[{\"colorscale\":[[0,\"#D3D3D3\"],[1,\"#4682B4\"]],\"showscale\":false,\"x\":[\"ARS\",\"AUD\",\"BRL\",\"CZK\",\"EUR\",\"GBP\",\"JPY\",\"MXN\",\"NGN\",\"PLN\",\"RON\",\"RUB\",\"TRY\",\"UAH\",\"ZAR\"],\"y\":[\"USDT\",\"BTC\",\"BUSD\",\"ETH\",\"BNB\",\"XRP\",\"SOL\",\"ADA\",\"LTC\",\"DOT\",\"Others\"],\"z\":[[0,0,0,0,0,0,0,0,0,0,0,0,0,0,1],[0,0,0,0,0,0,0,0,0,0,0,0,0,0,0],[0,0,0,0,0,0,0,0,0,0,0,0,0,0,1],[0,0,0,0,0,0,0,0,0,0,0,0,0,0,0],[0,0,0,0,0,0,0,0,0,0,0,0,0,0,1],[0,0,0,0,0,0,0,0,0,0,0,0,0,0,0],[0,0,0,0,0,0,0,0,0,0,0,0,0,0,0],[0,0,0,0,0,0,0,0,0,0,0,0,0,0,0],[0,0,0,0,0,0,0,0,0,0,0,0,0,0,0],[0,0,0,0,0,0,0,0,0,0,0,0,0,0,0],[0,1,1,0,1,1,0,0,0,0,0,0,1,0,0]],\"type\":\"heatmap\"}],\"name\":\"2021-04\"},{\"data\":[{\"colorscale\":[[0,\"#D3D3D3\"],[1,\"#4682B4\"]],\"showscale\":false,\"x\":[\"ARS\",\"AUD\",\"BRL\",\"CZK\",\"EUR\",\"GBP\",\"JPY\",\"MXN\",\"NGN\",\"PLN\",\"RON\",\"RUB\",\"TRY\",\"UAH\",\"ZAR\"],\"y\":[\"USDT\",\"BTC\",\"BUSD\",\"ETH\",\"BNB\",\"XRP\",\"SOL\",\"ADA\",\"LTC\",\"DOT\",\"Others\"],\"z\":[[0,0,0,0,0,0,0,0,0,0,0,0,0,0,0],[0,0,0,0,0,0,0,0,0,0,0,0,0,0,0],[0,0,0,0,0,0,0,0,0,0,0,0,0,0,0],[0,0,0,0,0,0,0,0,0,0,0,0,0,0,0],[0,0,0,0,0,0,0,0,0,0,0,0,0,0,0],[0,0,0,0,0,0,0,0,0,0,0,0,0,0,0],[0,0,0,0,0,0,0,0,0,0,0,0,0,0,0],[0,0,0,0,0,0,0,0,0,0,0,0,0,0,0],[0,0,0,0,0,0,0,0,0,0,0,0,0,0,0],[0,0,0,0,0,0,0,0,0,0,0,0,0,0,0],[0,1,1,0,1,1,0,0,0,0,0,1,1,0,0]],\"type\":\"heatmap\"}],\"name\":\"2021-05\"},{\"data\":[{\"colorscale\":[[0,\"#D3D3D3\"],[1,\"#4682B4\"]],\"showscale\":false,\"x\":[\"ARS\",\"AUD\",\"BRL\",\"CZK\",\"EUR\",\"GBP\",\"JPY\",\"MXN\",\"NGN\",\"PLN\",\"RON\",\"RUB\",\"TRY\",\"UAH\",\"ZAR\"],\"y\":[\"USDT\",\"BTC\",\"BUSD\",\"ETH\",\"BNB\",\"XRP\",\"SOL\",\"ADA\",\"LTC\",\"DOT\",\"Others\"],\"z\":[[0,0,0,0,0,0,0,0,0,0,0,0,0,0,0],[0,0,0,0,0,0,0,0,0,0,0,0,0,0,0],[0,0,0,0,0,0,0,0,0,0,0,0,0,0,0],[0,0,0,0,0,0,0,0,0,0,0,0,0,0,0],[0,0,0,0,0,0,0,0,0,0,0,0,0,0,0],[0,0,0,0,0,0,0,0,0,0,0,0,0,0,0],[0,0,0,0,0,0,0,0,0,0,0,0,0,0,0],[0,0,0,0,0,0,0,0,0,0,0,0,0,0,0],[0,0,0,0,0,0,0,0,0,0,0,0,0,0,0],[0,0,0,0,0,0,0,0,0,0,0,0,0,0,0],[0,1,1,0,1,1,0,0,0,0,0,1,1,0,0]],\"type\":\"heatmap\"}],\"name\":\"2021-06\"},{\"data\":[{\"colorscale\":[[0,\"#D3D3D3\"],[1,\"#4682B4\"]],\"showscale\":false,\"x\":[\"ARS\",\"AUD\",\"BRL\",\"CZK\",\"EUR\",\"GBP\",\"JPY\",\"MXN\",\"NGN\",\"PLN\",\"RON\",\"RUB\",\"TRY\",\"UAH\",\"ZAR\"],\"y\":[\"USDT\",\"BTC\",\"BUSD\",\"ETH\",\"BNB\",\"XRP\",\"SOL\",\"ADA\",\"LTC\",\"DOT\",\"Others\"],\"z\":[[0,0,0,0,0,0,0,0,0,0,0,0,0,0,0],[0,0,0,0,0,0,0,0,0,0,0,0,0,0,0],[0,0,0,0,0,0,0,0,0,0,0,0,0,0,0],[0,0,0,0,0,0,0,0,0,0,0,0,0,0,0],[0,0,0,0,0,0,0,0,0,0,0,0,0,0,0],[0,0,0,0,0,0,0,0,0,0,0,0,0,0,0],[0,0,0,0,0,0,0,0,0,0,0,0,0,0,0],[0,0,0,0,0,0,0,0,0,0,0,0,0,0,0],[0,0,0,0,0,0,0,0,0,0,0,0,0,0,0],[0,0,0,0,0,0,0,0,0,0,0,0,0,0,0],[0,1,1,0,1,1,0,0,0,0,0,1,1,0,0]],\"type\":\"heatmap\"}],\"name\":\"2021-07\"},{\"data\":[{\"colorscale\":[[0,\"#D3D3D3\"],[1,\"#4682B4\"]],\"showscale\":false,\"x\":[\"ARS\",\"AUD\",\"BRL\",\"CZK\",\"EUR\",\"GBP\",\"JPY\",\"MXN\",\"NGN\",\"PLN\",\"RON\",\"RUB\",\"TRY\",\"UAH\",\"ZAR\"],\"y\":[\"USDT\",\"BTC\",\"BUSD\",\"ETH\",\"BNB\",\"XRP\",\"SOL\",\"ADA\",\"LTC\",\"DOT\",\"Others\"],\"z\":[[0,0,0,0,0,0,0,0,0,0,0,0,0,0,0],[0,0,0,0,0,0,0,0,1,0,0,0,0,0,0],[0,0,0,0,0,0,0,0,0,0,0,0,0,0,0],[0,0,0,0,0,0,0,0,0,0,0,0,0,0,0],[0,0,0,0,0,0,0,0,0,0,0,0,0,0,0],[0,0,0,0,0,0,0,0,0,0,0,0,0,0,0],[0,0,0,0,0,0,0,0,0,0,0,0,0,0,0],[0,0,0,0,0,0,0,0,0,0,0,0,0,0,0],[0,0,0,0,0,0,0,0,0,0,0,0,0,0,0],[0,0,0,0,0,0,0,0,0,0,0,0,0,0,0],[0,1,1,0,1,1,0,0,0,0,0,1,1,0,0]],\"type\":\"heatmap\"}],\"name\":\"2021-08\"},{\"data\":[{\"colorscale\":[[0,\"#D3D3D3\"],[1,\"#4682B4\"]],\"showscale\":false,\"x\":[\"ARS\",\"AUD\",\"BRL\",\"CZK\",\"EUR\",\"GBP\",\"JPY\",\"MXN\",\"NGN\",\"PLN\",\"RON\",\"RUB\",\"TRY\",\"UAH\",\"ZAR\"],\"y\":[\"USDT\",\"BTC\",\"BUSD\",\"ETH\",\"BNB\",\"XRP\",\"SOL\",\"ADA\",\"LTC\",\"DOT\",\"Others\"],\"z\":[[0,0,0,0,0,0,0,0,0,0,0,0,0,0,0],[0,0,0,0,0,0,0,0,1,0,0,0,0,0,0],[0,0,0,0,0,0,0,0,0,0,0,0,0,0,0],[0,0,0,0,0,0,0,0,0,0,0,0,0,0,0],[0,0,0,0,0,0,0,0,0,0,0,0,0,0,0],[0,0,0,0,0,0,0,0,0,0,0,0,0,0,0],[0,0,0,0,0,0,0,0,0,0,0,0,0,0,0],[0,0,0,0,0,0,0,0,0,0,0,0,0,0,0],[0,0,0,0,0,0,0,0,0,0,0,0,0,0,0],[0,0,0,0,0,0,0,0,0,0,0,0,0,0,0],[0,1,1,0,1,1,0,0,0,0,0,1,1,0,0]],\"type\":\"heatmap\"}],\"name\":\"2021-09\"},{\"data\":[{\"colorscale\":[[0,\"#D3D3D3\"],[1,\"#4682B4\"]],\"showscale\":false,\"x\":[\"ARS\",\"AUD\",\"BRL\",\"CZK\",\"EUR\",\"GBP\",\"JPY\",\"MXN\",\"NGN\",\"PLN\",\"RON\",\"RUB\",\"TRY\",\"UAH\",\"ZAR\"],\"y\":[\"USDT\",\"BTC\",\"BUSD\",\"ETH\",\"BNB\",\"XRP\",\"SOL\",\"ADA\",\"LTC\",\"DOT\",\"Others\"],\"z\":[[0,0,0,0,0,0,0,0,0,0,0,0,0,0,0],[0,0,0,0,0,0,0,0,1,0,0,0,0,0,0],[0,0,0,0,0,0,0,0,0,0,0,0,0,0,0],[0,0,0,0,0,0,0,0,0,0,0,0,0,0,0],[0,0,0,0,0,0,0,0,0,0,0,0,0,0,0],[0,0,0,0,0,0,0,0,0,0,0,0,0,0,0],[0,0,0,0,0,0,0,0,0,0,0,0,0,0,0],[0,0,0,0,0,0,0,0,0,0,0,0,0,0,0],[0,0,0,0,0,0,0,0,0,0,0,0,0,0,0],[0,0,0,0,0,0,0,0,0,0,0,0,0,0,0],[0,1,1,0,1,1,0,0,0,0,0,1,1,0,0]],\"type\":\"heatmap\"}],\"name\":\"2021-10\"},{\"data\":[{\"colorscale\":[[0,\"#D3D3D3\"],[1,\"#4682B4\"]],\"showscale\":false,\"x\":[\"ARS\",\"AUD\",\"BRL\",\"CZK\",\"EUR\",\"GBP\",\"JPY\",\"MXN\",\"NGN\",\"PLN\",\"RON\",\"RUB\",\"TRY\",\"UAH\",\"ZAR\"],\"y\":[\"USDT\",\"BTC\",\"BUSD\",\"ETH\",\"BNB\",\"XRP\",\"SOL\",\"ADA\",\"LTC\",\"DOT\",\"Others\"],\"z\":[[0,0,0,0,0,0,0,0,0,0,0,0,0,0,0],[0,0,0,0,0,0,0,0,1,0,0,0,0,0,0],[0,0,0,0,0,0,0,0,0,0,0,0,0,0,0],[0,0,0,0,0,0,0,0,0,0,0,0,0,0,0],[0,0,0,0,0,0,0,0,0,0,0,0,0,0,0],[0,0,0,0,0,0,0,0,0,0,0,0,0,0,0],[0,0,0,0,0,0,0,0,0,0,0,0,0,0,0],[0,0,0,0,0,0,0,0,0,0,0,0,0,0,0],[0,0,0,0,0,0,0,0,0,0,0,0,0,0,0],[0,0,0,0,0,0,0,0,0,0,0,0,0,0,0],[0,1,1,0,1,1,0,0,0,0,0,1,1,1,0]],\"type\":\"heatmap\"}],\"name\":\"2021-11\"},{\"data\":[{\"colorscale\":[[0,\"#D3D3D3\"],[1,\"#4682B4\"]],\"showscale\":false,\"x\":[\"ARS\",\"AUD\",\"BRL\",\"CZK\",\"EUR\",\"GBP\",\"JPY\",\"MXN\",\"NGN\",\"PLN\",\"RON\",\"RUB\",\"TRY\",\"UAH\",\"ZAR\"],\"y\":[\"USDT\",\"BTC\",\"BUSD\",\"ETH\",\"BNB\",\"XRP\",\"SOL\",\"ADA\",\"LTC\",\"DOT\",\"Others\"],\"z\":[[0,0,0,0,0,0,0,0,0,0,0,0,0,0,0],[0,0,0,0,0,0,0,0,1,0,0,0,0,0,0],[0,0,0,0,0,0,0,0,0,0,0,0,0,0,0],[0,0,0,0,0,0,0,0,0,0,0,0,0,0,0],[0,0,0,0,0,0,0,0,0,0,0,0,0,0,0],[0,0,0,0,0,0,0,0,0,0,0,0,0,0,0],[0,0,0,0,0,0,0,0,0,0,0,0,0,0,0],[0,0,0,0,0,0,0,0,0,0,0,0,0,0,0],[0,0,0,0,0,0,0,0,0,0,0,0,0,0,0],[0,0,0,0,0,0,0,0,0,0,0,0,0,0,0],[0,1,1,0,1,1,0,0,0,0,0,1,1,1,0]],\"type\":\"heatmap\"}],\"name\":\"2021-12\"},{\"data\":[{\"colorscale\":[[0,\"#D3D3D3\"],[1,\"#4682B4\"]],\"showscale\":false,\"x\":[\"ARS\",\"AUD\",\"BRL\",\"CZK\",\"EUR\",\"GBP\",\"JPY\",\"MXN\",\"NGN\",\"PLN\",\"RON\",\"RUB\",\"TRY\",\"UAH\",\"ZAR\"],\"y\":[\"USDT\",\"BTC\",\"BUSD\",\"ETH\",\"BNB\",\"XRP\",\"SOL\",\"ADA\",\"LTC\",\"DOT\",\"Others\"],\"z\":[[0,1,0,0,0,0,0,0,0,0,0,0,0,0,0],[0,1,0,0,0,0,0,0,1,0,0,0,0,0,0],[0,1,0,0,0,0,0,0,0,0,0,0,0,0,0],[0,1,0,0,0,0,0,0,0,0,0,0,0,0,0],[0,1,0,0,0,0,0,0,0,0,0,0,0,0,0],[0,1,0,0,0,0,0,0,0,0,0,0,0,0,0],[0,1,0,0,0,0,0,0,0,0,0,0,0,0,0],[0,1,0,0,0,0,0,0,0,0,0,0,0,0,0],[0,0,0,0,0,0,0,0,0,0,0,0,0,0,0],[0,1,0,0,0,0,0,0,0,0,0,0,0,0,0],[0,1,1,0,1,1,0,0,0,0,0,1,1,1,0]],\"type\":\"heatmap\"}],\"name\":\"2022-01\"},{\"data\":[{\"colorscale\":[[0,\"#D3D3D3\"],[1,\"#4682B4\"]],\"showscale\":false,\"x\":[\"ARS\",\"AUD\",\"BRL\",\"CZK\",\"EUR\",\"GBP\",\"JPY\",\"MXN\",\"NGN\",\"PLN\",\"RON\",\"RUB\",\"TRY\",\"UAH\",\"ZAR\"],\"y\":[\"USDT\",\"BTC\",\"BUSD\",\"ETH\",\"BNB\",\"XRP\",\"SOL\",\"ADA\",\"LTC\",\"DOT\",\"Others\"],\"z\":[[0,1,0,0,0,0,0,0,0,0,0,0,0,0,0],[0,1,0,0,0,0,0,0,1,0,0,0,0,0,0],[0,1,0,0,0,0,0,0,0,0,0,0,0,0,0],[0,1,0,0,0,0,0,0,0,0,0,0,0,0,0],[0,1,0,0,0,0,0,0,0,0,0,0,0,0,0],[0,1,0,0,0,0,0,0,0,0,0,0,0,0,0],[0,1,0,0,0,0,0,0,0,0,0,0,0,0,0],[0,1,0,0,0,0,0,0,0,0,0,0,0,0,0],[0,0,0,0,0,0,0,0,0,0,0,0,0,0,0],[0,1,0,0,0,0,0,0,0,0,0,0,0,0,0],[0,1,1,0,1,1,0,0,0,0,0,1,1,1,0]],\"type\":\"heatmap\"}],\"name\":\"2022-02\"},{\"data\":[{\"colorscale\":[[0,\"#D3D3D3\"],[1,\"#4682B4\"]],\"showscale\":false,\"x\":[\"ARS\",\"AUD\",\"BRL\",\"CZK\",\"EUR\",\"GBP\",\"JPY\",\"MXN\",\"NGN\",\"PLN\",\"RON\",\"RUB\",\"TRY\",\"UAH\",\"ZAR\"],\"y\":[\"USDT\",\"BTC\",\"BUSD\",\"ETH\",\"BNB\",\"XRP\",\"SOL\",\"ADA\",\"LTC\",\"DOT\",\"Others\"],\"z\":[[0,1,0,0,0,0,0,0,0,0,0,0,0,0,0],[0,1,0,0,0,0,0,0,1,0,0,0,0,0,0],[0,1,0,0,0,0,0,0,0,0,0,0,0,0,0],[0,1,0,0,0,0,0,0,0,0,0,0,0,0,0],[0,1,0,0,0,0,0,0,0,0,0,0,0,0,0],[0,1,0,0,0,0,0,0,0,0,0,0,0,0,0],[0,1,0,0,0,0,0,0,0,0,0,0,0,0,0],[0,1,0,0,0,0,0,0,0,0,0,0,0,0,0],[0,0,0,0,0,0,0,0,0,0,0,0,0,0,0],[0,1,0,0,0,0,0,0,0,0,0,0,0,0,0],[0,1,1,0,1,1,0,0,0,0,0,1,1,1,0]],\"type\":\"heatmap\"}],\"name\":\"2022-03\"},{\"data\":[{\"colorscale\":[[0,\"#D3D3D3\"],[1,\"#4682B4\"]],\"showscale\":false,\"x\":[\"ARS\",\"AUD\",\"BRL\",\"CZK\",\"EUR\",\"GBP\",\"JPY\",\"MXN\",\"NGN\",\"PLN\",\"RON\",\"RUB\",\"TRY\",\"UAH\",\"ZAR\"],\"y\":[\"USDT\",\"BTC\",\"BUSD\",\"ETH\",\"BNB\",\"XRP\",\"SOL\",\"ADA\",\"LTC\",\"DOT\",\"Others\"],\"z\":[[0,1,0,0,0,0,0,0,0,0,0,0,0,0,0],[0,1,0,0,0,0,0,0,1,0,0,0,0,0,0],[0,1,0,0,0,0,0,0,0,0,0,0,0,0,0],[0,1,0,0,0,0,0,0,0,0,0,0,0,0,0],[0,1,0,0,0,0,0,0,0,0,0,0,0,0,0],[0,1,0,0,0,0,0,0,0,0,0,0,0,0,0],[0,1,0,0,0,0,0,0,0,0,0,0,0,0,0],[0,1,0,0,0,0,0,0,0,0,0,0,0,0,0],[0,0,0,0,0,0,0,0,0,0,0,0,0,0,0],[0,1,0,0,0,0,0,0,0,0,0,0,0,0,0],[0,1,1,0,1,1,0,0,0,0,0,1,1,1,0]],\"type\":\"heatmap\"}],\"name\":\"2022-04\"},{\"data\":[{\"colorscale\":[[0,\"#D3D3D3\"],[1,\"#4682B4\"]],\"showscale\":false,\"x\":[\"ARS\",\"AUD\",\"BRL\",\"CZK\",\"EUR\",\"GBP\",\"JPY\",\"MXN\",\"NGN\",\"PLN\",\"RON\",\"RUB\",\"TRY\",\"UAH\",\"ZAR\"],\"y\":[\"USDT\",\"BTC\",\"BUSD\",\"ETH\",\"BNB\",\"XRP\",\"SOL\",\"ADA\",\"LTC\",\"DOT\",\"Others\"],\"z\":[[0,1,0,0,0,0,0,0,0,0,0,0,0,0,0],[0,1,0,0,0,0,0,0,0,0,0,0,0,0,0],[0,1,0,0,0,0,0,0,0,0,0,0,0,0,0],[0,1,0,0,0,0,0,0,0,0,0,0,0,0,0],[0,1,0,0,0,0,0,0,0,0,0,0,0,0,0],[0,1,0,0,0,0,0,0,0,0,0,0,0,0,0],[0,1,0,0,0,0,0,0,0,0,0,0,0,0,0],[0,1,0,0,0,0,0,0,0,0,0,0,0,0,0],[0,0,0,0,0,0,0,0,0,0,0,0,0,0,0],[0,1,0,0,0,0,0,0,0,0,0,0,0,0,0],[0,1,1,0,1,1,0,0,0,0,0,1,1,0,0]],\"type\":\"heatmap\"}],\"name\":\"2022-05\"},{\"data\":[{\"colorscale\":[[0,\"#D3D3D3\"],[1,\"#4682B4\"]],\"showscale\":false,\"x\":[\"ARS\",\"AUD\",\"BRL\",\"CZK\",\"EUR\",\"GBP\",\"JPY\",\"MXN\",\"NGN\",\"PLN\",\"RON\",\"RUB\",\"TRY\",\"UAH\",\"ZAR\"],\"y\":[\"USDT\",\"BTC\",\"BUSD\",\"ETH\",\"BNB\",\"XRP\",\"SOL\",\"ADA\",\"LTC\",\"DOT\",\"Others\"],\"z\":[[0,1,0,0,0,0,0,0,0,0,0,0,0,0,0],[0,1,0,0,0,0,0,0,0,0,0,0,0,0,0],[0,1,0,0,0,1,0,0,0,0,0,0,0,0,0],[0,1,0,0,0,0,0,0,0,0,0,0,0,0,0],[0,1,0,0,0,0,0,0,0,0,0,0,0,0,0],[0,1,0,0,0,0,0,0,0,0,0,0,0,0,0],[0,1,0,0,0,0,0,0,0,0,0,0,0,0,0],[0,1,0,0,0,0,0,0,0,0,0,0,0,0,0],[0,0,0,0,0,0,0,0,0,0,0,0,0,0,0],[0,1,0,0,0,1,0,0,0,0,0,0,0,0,0],[0,1,1,0,1,1,0,0,0,0,0,1,1,0,0]],\"type\":\"heatmap\"}],\"name\":\"2022-06\"},{\"data\":[{\"colorscale\":[[0,\"#D3D3D3\"],[1,\"#4682B4\"]],\"showscale\":false,\"x\":[\"ARS\",\"AUD\",\"BRL\",\"CZK\",\"EUR\",\"GBP\",\"JPY\",\"MXN\",\"NGN\",\"PLN\",\"RON\",\"RUB\",\"TRY\",\"UAH\",\"ZAR\"],\"y\":[\"USDT\",\"BTC\",\"BUSD\",\"ETH\",\"BNB\",\"XRP\",\"SOL\",\"ADA\",\"LTC\",\"DOT\",\"Others\"],\"z\":[[0,1,0,0,0,0,0,0,0,0,0,0,0,0,0],[0,1,0,0,0,0,0,0,0,0,0,0,0,0,0],[0,1,1,0,1,1,0,0,0,0,0,1,1,1,0],[0,1,0,0,0,0,0,0,0,0,0,1,0,0,0],[0,1,0,0,0,0,0,0,0,0,0,1,0,0,0],[0,1,0,0,0,0,0,0,0,0,0,1,0,0,0],[0,1,0,0,0,0,0,0,0,0,0,1,0,0,0],[0,1,0,0,0,0,0,0,0,0,0,1,0,0,0],[0,0,0,0,0,0,0,0,0,0,0,1,0,0,0],[0,1,0,0,0,1,0,0,0,0,0,1,0,0,0],[0,1,1,0,1,1,0,0,0,0,0,1,1,0,0]],\"type\":\"heatmap\"}],\"name\":\"2022-07\"},{\"data\":[{\"colorscale\":[[0,\"#D3D3D3\"],[1,\"#4682B4\"]],\"showscale\":false,\"x\":[\"ARS\",\"AUD\",\"BRL\",\"CZK\",\"EUR\",\"GBP\",\"JPY\",\"MXN\",\"NGN\",\"PLN\",\"RON\",\"RUB\",\"TRY\",\"UAH\",\"ZAR\"],\"y\":[\"USDT\",\"BTC\",\"BUSD\",\"ETH\",\"BNB\",\"XRP\",\"SOL\",\"ADA\",\"LTC\",\"DOT\",\"Others\"],\"z\":[[0,1,0,0,0,1,0,0,0,0,0,0,0,0,0],[0,1,0,0,0,1,0,0,0,0,0,0,0,0,0],[0,1,1,0,1,1,0,0,0,0,0,1,1,1,0],[0,1,0,0,0,1,0,0,0,0,0,1,0,0,0],[0,1,0,0,0,1,0,0,0,0,0,1,0,0,0],[0,1,0,0,0,1,0,0,0,0,0,1,0,0,0],[0,1,0,0,0,1,0,0,0,0,0,1,0,0,0],[0,1,0,0,0,1,0,0,0,0,0,1,0,0,0],[0,0,0,0,0,1,0,0,0,0,0,1,0,1,0],[0,1,0,0,0,1,0,0,0,0,0,1,0,0,0],[0,1,1,0,1,1,0,0,0,0,0,1,1,0,0]],\"type\":\"heatmap\"}],\"name\":\"2022-08\"},{\"data\":[{\"colorscale\":[[0,\"#D3D3D3\"],[1,\"#4682B4\"]],\"showscale\":false,\"x\":[\"ARS\",\"AUD\",\"BRL\",\"CZK\",\"EUR\",\"GBP\",\"JPY\",\"MXN\",\"NGN\",\"PLN\",\"RON\",\"RUB\",\"TRY\",\"UAH\",\"ZAR\"],\"y\":[\"USDT\",\"BTC\",\"BUSD\",\"ETH\",\"BNB\",\"XRP\",\"SOL\",\"ADA\",\"LTC\",\"DOT\",\"Others\"],\"z\":[[0,1,0,0,0,1,0,0,0,0,0,1,0,0,0],[0,1,0,0,0,1,0,0,0,0,0,1,0,0,0],[0,1,1,0,1,1,0,0,0,0,0,1,1,1,0],[0,1,0,0,0,1,0,0,0,0,0,1,0,0,0],[0,1,0,0,0,1,0,0,0,0,0,1,0,0,0],[0,1,0,0,0,1,0,0,0,0,0,1,0,0,0],[0,1,0,0,0,1,0,0,0,0,0,1,0,0,0],[0,1,0,0,0,1,0,0,0,0,0,1,0,0,0],[0,0,0,0,0,1,0,0,0,0,0,1,0,1,0],[0,1,0,0,0,1,0,0,0,0,0,1,0,0,0],[0,1,1,0,1,1,0,0,0,0,0,1,1,0,0]],\"type\":\"heatmap\"}],\"name\":\"2022-09\"},{\"data\":[{\"colorscale\":[[0,\"#D3D3D3\"],[1,\"#4682B4\"]],\"showscale\":false,\"x\":[\"ARS\",\"AUD\",\"BRL\",\"CZK\",\"EUR\",\"GBP\",\"JPY\",\"MXN\",\"NGN\",\"PLN\",\"RON\",\"RUB\",\"TRY\",\"UAH\",\"ZAR\"],\"y\":[\"USDT\",\"BTC\",\"BUSD\",\"ETH\",\"BNB\",\"XRP\",\"SOL\",\"ADA\",\"LTC\",\"DOT\",\"Others\"],\"z\":[[0,1,0,0,0,1,0,0,1,0,0,1,0,0,0],[0,1,0,0,0,1,0,0,0,0,0,1,0,0,0],[0,1,1,0,1,1,0,0,0,1,0,1,1,1,1],[0,1,0,0,0,1,0,0,0,0,0,1,0,0,0],[0,1,0,0,0,1,0,0,0,0,0,1,0,0,0],[0,1,0,0,0,1,0,0,0,0,0,1,0,0,0],[0,1,0,0,0,1,0,0,0,0,0,1,0,0,0],[0,1,0,0,0,1,0,0,0,0,0,1,0,0,0],[0,0,0,0,0,1,0,0,0,0,0,1,0,1,0],[0,1,0,0,0,1,0,0,0,0,0,1,0,0,0],[0,1,1,0,1,1,0,0,0,0,0,1,1,0,0]],\"type\":\"heatmap\"}],\"name\":\"2022-10\"},{\"data\":[{\"colorscale\":[[0,\"#D3D3D3\"],[1,\"#4682B4\"]],\"showscale\":false,\"x\":[\"ARS\",\"AUD\",\"BRL\",\"CZK\",\"EUR\",\"GBP\",\"JPY\",\"MXN\",\"NGN\",\"PLN\",\"RON\",\"RUB\",\"TRY\",\"UAH\",\"ZAR\"],\"y\":[\"USDT\",\"BTC\",\"BUSD\",\"ETH\",\"BNB\",\"XRP\",\"SOL\",\"ADA\",\"LTC\",\"DOT\",\"Others\"],\"z\":[[0,1,0,0,0,1,0,0,1,0,0,1,0,0,0],[0,1,0,0,0,1,0,0,0,0,0,1,0,0,0],[0,1,1,0,1,1,0,0,0,1,0,1,1,1,1],[0,1,0,0,0,1,0,0,0,0,0,1,0,0,0],[0,1,0,0,0,1,0,0,0,0,0,1,0,0,0],[0,1,0,0,0,1,0,0,0,0,0,1,0,0,0],[0,1,0,0,0,1,0,0,0,0,0,1,0,0,0],[0,1,0,0,0,1,0,0,0,0,0,1,0,0,0],[0,0,0,0,0,1,0,0,0,0,0,1,0,1,0],[0,1,0,0,0,1,0,0,0,0,0,1,0,0,0],[0,1,1,0,1,1,0,0,0,0,0,1,1,0,0]],\"type\":\"heatmap\"}],\"name\":\"2022-11\"},{\"data\":[{\"colorscale\":[[0,\"#D3D3D3\"],[1,\"#4682B4\"]],\"showscale\":false,\"x\":[\"ARS\",\"AUD\",\"BRL\",\"CZK\",\"EUR\",\"GBP\",\"JPY\",\"MXN\",\"NGN\",\"PLN\",\"RON\",\"RUB\",\"TRY\",\"UAH\",\"ZAR\"],\"y\":[\"USDT\",\"BTC\",\"BUSD\",\"ETH\",\"BNB\",\"XRP\",\"SOL\",\"ADA\",\"LTC\",\"DOT\",\"Others\"],\"z\":[[0,1,0,0,0,1,0,0,1,0,0,1,0,0,0],[0,1,0,0,0,1,0,0,0,0,0,1,0,0,0],[0,1,1,0,1,1,0,0,0,1,1,1,1,1,1],[0,1,0,0,0,1,0,0,0,0,0,1,0,0,0],[0,1,0,0,0,1,0,0,0,0,0,1,0,0,0],[0,1,0,0,0,1,0,0,0,0,0,1,0,0,0],[0,1,0,0,0,1,0,0,0,0,0,1,0,0,0],[0,1,0,0,0,1,0,0,0,0,0,1,0,0,0],[0,0,0,0,0,1,0,0,0,0,0,1,0,1,0],[0,1,0,0,0,1,0,0,0,0,0,1,0,0,0],[0,1,1,0,1,1,0,0,0,0,0,1,1,0,0]],\"type\":\"heatmap\"}],\"name\":\"2022-12\"},{\"data\":[{\"colorscale\":[[0,\"#D3D3D3\"],[1,\"#4682B4\"]],\"showscale\":false,\"x\":[\"ARS\",\"AUD\",\"BRL\",\"CZK\",\"EUR\",\"GBP\",\"JPY\",\"MXN\",\"NGN\",\"PLN\",\"RON\",\"RUB\",\"TRY\",\"UAH\",\"ZAR\"],\"y\":[\"USDT\",\"BTC\",\"BUSD\",\"ETH\",\"BNB\",\"XRP\",\"SOL\",\"ADA\",\"LTC\",\"DOT\",\"Others\"],\"z\":[[0,1,0,0,0,1,0,0,1,0,0,1,0,0,0],[0,1,0,0,0,1,0,0,0,0,0,1,0,0,0],[0,1,1,0,1,1,0,0,0,1,1,1,1,1,1],[0,1,0,0,0,1,0,0,0,0,0,1,0,0,0],[0,1,0,0,0,1,0,0,0,0,0,1,0,0,0],[0,1,0,0,0,1,0,0,0,0,0,1,0,0,0],[0,1,0,0,0,1,0,0,0,0,0,1,0,0,0],[0,1,0,0,0,1,0,0,0,0,0,1,0,0,0],[0,0,0,0,0,1,0,0,0,0,0,1,0,1,0],[0,1,0,0,0,1,0,0,0,0,0,1,0,0,0],[0,1,1,0,1,1,0,0,0,0,0,1,1,0,0]],\"type\":\"heatmap\"}],\"name\":\"2023-01\"},{\"data\":[{\"colorscale\":[[0,\"#D3D3D3\"],[1,\"#4682B4\"]],\"showscale\":false,\"x\":[\"ARS\",\"AUD\",\"BRL\",\"CZK\",\"EUR\",\"GBP\",\"JPY\",\"MXN\",\"NGN\",\"PLN\",\"RON\",\"RUB\",\"TRY\",\"UAH\",\"ZAR\"],\"y\":[\"USDT\",\"BTC\",\"BUSD\",\"ETH\",\"BNB\",\"XRP\",\"SOL\",\"ADA\",\"LTC\",\"DOT\",\"Others\"],\"z\":[[0,1,0,0,0,1,0,0,1,0,0,1,0,0,0],[0,1,0,0,0,1,0,0,0,0,0,1,0,0,0],[0,1,1,0,1,1,0,0,0,1,1,1,1,1,1],[0,1,0,0,0,1,0,0,0,0,0,1,0,0,0],[0,1,0,0,0,1,0,0,0,0,0,1,0,0,0],[0,1,0,0,0,1,0,0,0,0,0,1,0,0,0],[0,1,0,0,0,1,0,0,0,0,0,1,0,0,0],[0,1,0,0,0,1,0,0,0,0,0,1,0,0,0],[0,0,0,0,0,1,0,0,0,0,0,1,0,1,0],[0,1,0,0,0,1,0,0,0,0,0,1,0,0,0],[0,1,1,0,1,1,0,0,0,0,0,1,1,0,0]],\"type\":\"heatmap\"}],\"name\":\"2023-02\"},{\"data\":[{\"colorscale\":[[0,\"#D3D3D3\"],[1,\"#4682B4\"]],\"showscale\":false,\"x\":[\"ARS\",\"AUD\",\"BRL\",\"CZK\",\"EUR\",\"GBP\",\"JPY\",\"MXN\",\"NGN\",\"PLN\",\"RON\",\"RUB\",\"TRY\",\"UAH\",\"ZAR\"],\"y\":[\"USDT\",\"BTC\",\"BUSD\",\"ETH\",\"BNB\",\"XRP\",\"SOL\",\"ADA\",\"LTC\",\"DOT\",\"Others\"],\"z\":[[0,1,0,0,0,1,0,0,1,0,0,1,0,0,0],[0,1,0,0,0,1,0,0,0,0,0,1,0,0,0],[0,1,1,0,1,1,0,0,0,1,1,1,1,1,1],[0,1,0,0,0,1,0,0,0,0,0,1,0,0,0],[0,1,0,0,0,1,0,0,0,0,0,1,0,0,0],[0,1,0,0,0,1,0,0,0,0,0,1,0,0,0],[0,1,0,0,0,1,0,0,0,0,0,1,0,0,0],[0,1,0,0,0,1,0,0,0,0,0,1,0,0,0],[0,0,0,0,0,1,0,0,0,0,0,1,0,1,0],[0,1,0,0,0,1,0,0,0,0,0,1,0,0,0],[0,1,1,0,1,1,0,0,0,0,0,1,1,0,0]],\"type\":\"heatmap\"}],\"name\":\"2023-03\"},{\"data\":[{\"colorscale\":[[0,\"#D3D3D3\"],[1,\"#4682B4\"]],\"showscale\":false,\"x\":[\"ARS\",\"AUD\",\"BRL\",\"CZK\",\"EUR\",\"GBP\",\"JPY\",\"MXN\",\"NGN\",\"PLN\",\"RON\",\"RUB\",\"TRY\",\"UAH\",\"ZAR\"],\"y\":[\"USDT\",\"BTC\",\"BUSD\",\"ETH\",\"BNB\",\"XRP\",\"SOL\",\"ADA\",\"LTC\",\"DOT\",\"Others\"],\"z\":[[1,1,1,0,1,1,0,0,1,1,1,1,1,1,0],[0,1,1,0,1,1,0,0,0,1,1,1,1,1,1],[0,1,1,0,1,1,0,0,0,1,1,1,1,1,1],[0,1,1,0,1,1,0,0,0,1,0,1,1,1,1],[0,1,1,0,1,1,0,0,0,0,0,1,1,1,0],[0,1,1,0,1,1,0,0,0,0,0,1,1,0,0],[0,1,1,0,1,1,0,0,0,0,0,1,1,0,0],[0,1,1,0,1,1,0,0,0,0,0,1,1,0,0],[0,0,1,0,1,1,0,0,0,0,0,1,0,1,0],[0,1,1,0,1,1,0,0,0,0,0,1,1,0,0],[0,1,1,0,1,1,0,0,0,0,1,1,1,0,0]],\"type\":\"heatmap\"}],\"name\":\"2023-04\"},{\"data\":[{\"colorscale\":[[0,\"#D3D3D3\"],[1,\"#4682B4\"]],\"showscale\":false,\"x\":[\"ARS\",\"AUD\",\"BRL\",\"CZK\",\"EUR\",\"GBP\",\"JPY\",\"MXN\",\"NGN\",\"PLN\",\"RON\",\"RUB\",\"TRY\",\"UAH\",\"ZAR\"],\"y\":[\"USDT\",\"BTC\",\"BUSD\",\"ETH\",\"BNB\",\"XRP\",\"SOL\",\"ADA\",\"LTC\",\"DOT\",\"Others\"],\"z\":[[1,1,1,0,1,1,0,0,1,1,1,1,1,1,0],[0,1,1,0,1,1,0,0,0,1,1,1,1,1,1],[0,1,1,0,1,1,0,0,0,1,1,1,1,1,1],[0,1,1,0,1,1,0,0,0,1,0,1,1,1,1],[0,1,1,0,1,1,0,0,0,0,0,1,1,1,0],[0,1,1,0,1,1,0,0,0,0,0,1,1,0,0],[0,1,1,0,1,1,0,0,0,0,0,1,1,0,0],[0,1,1,0,1,1,0,0,0,0,0,1,1,0,0],[0,0,1,0,1,1,0,0,0,0,0,1,0,1,0],[0,1,1,0,1,1,0,0,0,0,0,1,1,0,0],[0,1,1,0,1,1,0,0,0,0,1,1,1,0,0]],\"type\":\"heatmap\"}],\"name\":\"2023-05\"},{\"data\":[{\"colorscale\":[[0,\"#D3D3D3\"],[1,\"#4682B4\"]],\"showscale\":false,\"x\":[\"ARS\",\"AUD\",\"BRL\",\"CZK\",\"EUR\",\"GBP\",\"JPY\",\"MXN\",\"NGN\",\"PLN\",\"RON\",\"RUB\",\"TRY\",\"UAH\",\"ZAR\"],\"y\":[\"USDT\",\"BTC\",\"BUSD\",\"ETH\",\"BNB\",\"XRP\",\"SOL\",\"ADA\",\"LTC\",\"DOT\",\"Others\"],\"z\":[[1,1,1,0,1,1,0,0,1,1,1,1,1,1,1],[1,1,1,0,1,1,0,0,1,1,1,1,1,1,1],[0,1,1,0,1,1,0,0,0,1,1,1,1,1,1],[0,1,1,0,1,1,0,0,0,1,0,1,1,1,1],[0,1,1,0,1,1,0,0,0,0,0,1,1,1,0],[0,1,1,0,1,1,0,0,0,0,0,1,1,0,0],[0,1,1,0,1,1,0,0,0,0,0,1,1,0,0],[0,1,1,0,1,1,0,0,0,0,0,1,1,0,0],[0,0,1,0,1,1,0,0,0,0,0,1,1,1,0],[0,0,1,0,1,1,0,0,0,0,0,1,1,0,0],[0,1,1,0,1,1,0,0,0,0,1,1,1,0,0]],\"type\":\"heatmap\"}],\"name\":\"2023-06\"},{\"data\":[{\"colorscale\":[[0,\"#D3D3D3\"],[1,\"#4682B4\"]],\"showscale\":false,\"x\":[\"ARS\",\"AUD\",\"BRL\",\"CZK\",\"EUR\",\"GBP\",\"JPY\",\"MXN\",\"NGN\",\"PLN\",\"RON\",\"RUB\",\"TRY\",\"UAH\",\"ZAR\"],\"y\":[\"USDT\",\"BTC\",\"BUSD\",\"ETH\",\"BNB\",\"XRP\",\"SOL\",\"ADA\",\"LTC\",\"DOT\",\"Others\"],\"z\":[[1,0,1,0,1,1,0,0,1,1,1,1,1,1,1],[1,0,1,0,1,1,0,0,1,1,1,1,1,1,1],[0,0,1,0,1,1,0,0,0,1,1,1,1,1,1],[0,0,1,0,1,1,0,0,0,1,0,1,1,1,1],[0,0,1,0,1,1,0,0,0,0,0,1,1,1,0],[0,0,1,0,1,1,0,0,0,0,0,1,1,0,0],[0,0,1,0,1,1,0,0,0,0,0,1,1,0,0],[0,0,1,0,1,1,0,0,0,0,0,1,1,0,0],[0,0,1,0,1,1,0,0,0,0,0,1,1,1,0],[0,0,1,0,1,1,0,0,0,0,0,1,1,0,0],[0,0,1,0,1,1,0,0,0,0,1,1,1,0,0]],\"type\":\"heatmap\"}],\"name\":\"2023-07\"},{\"data\":[{\"colorscale\":[[0,\"#D3D3D3\"],[1,\"#4682B4\"]],\"showscale\":false,\"x\":[\"ARS\",\"AUD\",\"BRL\",\"CZK\",\"EUR\",\"GBP\",\"JPY\",\"MXN\",\"NGN\",\"PLN\",\"RON\",\"RUB\",\"TRY\",\"UAH\",\"ZAR\"],\"y\":[\"USDT\",\"BTC\",\"BUSD\",\"ETH\",\"BNB\",\"XRP\",\"SOL\",\"ADA\",\"LTC\",\"DOT\",\"Others\"],\"z\":[[1,0,1,0,1,1,0,0,1,1,1,1,1,1,1],[1,0,1,0,1,1,0,0,1,1,1,1,1,1,1],[0,0,1,0,1,1,0,0,0,1,1,1,1,1,1],[0,0,1,0,1,1,0,0,0,1,0,1,1,1,1],[0,0,1,0,1,1,0,0,0,0,0,1,1,1,0],[0,0,1,0,1,1,0,0,0,0,0,1,1,0,0],[0,0,1,0,1,1,0,0,0,0,0,1,1,0,0],[0,0,1,0,1,1,0,0,0,0,0,1,1,0,0],[0,0,1,0,1,1,0,0,0,0,0,1,1,1,0],[0,0,1,0,1,1,0,0,0,0,0,1,1,0,0],[0,0,1,0,1,1,0,0,0,0,1,1,1,0,0]],\"type\":\"heatmap\"}],\"name\":\"2023-08\"},{\"data\":[{\"colorscale\":[[0,\"#D3D3D3\"],[1,\"#4682B4\"]],\"showscale\":false,\"x\":[\"ARS\",\"AUD\",\"BRL\",\"CZK\",\"EUR\",\"GBP\",\"JPY\",\"MXN\",\"NGN\",\"PLN\",\"RON\",\"RUB\",\"TRY\",\"UAH\",\"ZAR\"],\"y\":[\"USDT\",\"BTC\",\"BUSD\",\"ETH\",\"BNB\",\"XRP\",\"SOL\",\"ADA\",\"LTC\",\"DOT\",\"Others\"],\"z\":[[1,0,1,0,1,1,0,0,1,1,1,1,1,1,1],[1,0,1,0,1,1,0,0,1,1,1,1,1,1,1],[0,0,1,0,1,1,0,0,0,1,1,1,1,1,1],[0,0,1,0,1,1,0,0,0,1,0,1,1,1,1],[0,0,1,0,1,1,0,0,0,0,0,1,1,1,0],[0,0,1,0,1,1,0,0,0,0,0,1,1,0,0],[0,0,1,0,1,1,0,0,0,0,0,1,1,0,0],[0,0,1,0,1,1,0,0,0,0,0,1,1,0,0],[0,0,1,0,1,1,0,0,0,0,0,1,1,1,0],[0,0,1,0,1,1,0,0,0,0,0,1,1,0,0],[0,0,1,0,1,1,0,0,0,0,1,1,1,0,0]],\"type\":\"heatmap\"}],\"name\":\"2023-09\"},{\"data\":[{\"colorscale\":[[0,\"#D3D3D3\"],[1,\"#4682B4\"]],\"showscale\":false,\"x\":[\"ARS\",\"AUD\",\"BRL\",\"CZK\",\"EUR\",\"GBP\",\"JPY\",\"MXN\",\"NGN\",\"PLN\",\"RON\",\"RUB\",\"TRY\",\"UAH\",\"ZAR\"],\"y\":[\"USDT\",\"BTC\",\"BUSD\",\"ETH\",\"BNB\",\"XRP\",\"SOL\",\"ADA\",\"LTC\",\"DOT\",\"Others\"],\"z\":[[1,0,1,0,1,1,0,0,1,1,1,1,1,1,1],[1,0,1,0,1,1,0,0,1,1,1,1,1,1,1],[0,0,1,0,1,1,0,0,0,1,1,1,1,1,1],[0,0,1,0,1,1,0,0,0,1,0,1,1,1,1],[0,0,1,0,1,1,0,0,0,0,0,1,1,1,0],[0,0,1,0,1,1,0,0,0,0,0,1,1,0,0],[0,0,1,0,1,1,0,0,0,0,0,1,1,0,0],[0,0,1,0,1,1,0,0,0,0,0,1,1,0,0],[0,0,1,0,1,1,0,0,0,0,0,1,1,1,0],[0,0,1,0,1,1,0,0,0,0,0,1,1,0,0],[0,0,1,0,1,1,0,0,0,0,1,1,1,0,0]],\"type\":\"heatmap\"}],\"name\":\"2023-10\"},{\"data\":[{\"colorscale\":[[0,\"#D3D3D3\"],[1,\"#4682B4\"]],\"showscale\":false,\"x\":[\"ARS\",\"AUD\",\"BRL\",\"CZK\",\"EUR\",\"GBP\",\"JPY\",\"MXN\",\"NGN\",\"PLN\",\"RON\",\"RUB\",\"TRY\",\"UAH\",\"ZAR\"],\"y\":[\"USDT\",\"BTC\",\"BUSD\",\"ETH\",\"BNB\",\"XRP\",\"SOL\",\"ADA\",\"LTC\",\"DOT\",\"Others\"],\"z\":[[1,0,1,0,1,1,0,0,1,1,1,1,1,1,1],[1,0,1,0,1,1,0,0,1,1,1,1,1,1,1],[0,0,1,0,1,1,0,0,0,1,1,1,1,1,1],[0,0,1,0,1,1,0,0,0,1,0,1,1,1,1],[0,0,1,0,1,1,0,0,0,0,0,1,1,1,0],[0,0,1,0,1,1,0,0,0,0,0,1,1,0,0],[0,0,1,0,1,1,0,0,0,0,0,1,1,0,0],[0,0,1,0,1,1,0,0,0,0,0,1,1,0,0],[0,0,1,0,1,1,0,0,0,0,0,1,1,1,0],[0,0,1,0,1,0,0,0,0,0,0,1,1,0,0],[0,0,1,0,1,1,0,0,0,0,1,1,1,0,0]],\"type\":\"heatmap\"}],\"name\":\"2023-11\"},{\"data\":[{\"colorscale\":[[0,\"#D3D3D3\"],[1,\"#4682B4\"]],\"showscale\":false,\"x\":[\"ARS\",\"AUD\",\"BRL\",\"CZK\",\"EUR\",\"GBP\",\"JPY\",\"MXN\",\"NGN\",\"PLN\",\"RON\",\"RUB\",\"TRY\",\"UAH\",\"ZAR\"],\"y\":[\"USDT\",\"BTC\",\"BUSD\",\"ETH\",\"BNB\",\"XRP\",\"SOL\",\"ADA\",\"LTC\",\"DOT\",\"Others\"],\"z\":[[1,0,1,0,1,1,0,0,1,1,1,1,1,1,1],[1,0,1,0,1,1,0,0,1,1,1,1,1,1,1],[0,0,1,0,1,0,0,0,0,0,0,0,1,0,0],[0,0,1,0,1,1,0,0,0,1,0,0,1,1,1],[0,0,1,0,1,1,0,0,0,0,0,0,1,1,0],[0,0,1,0,1,1,0,0,0,0,0,0,1,0,0],[0,0,1,0,1,1,0,0,0,0,0,0,1,0,0],[0,0,1,0,1,1,0,0,0,0,0,0,1,0,0],[0,0,1,0,1,1,0,0,0,0,0,0,1,1,0],[0,0,1,0,1,0,0,0,0,0,0,0,1,0,0],[0,0,1,0,1,1,0,0,0,0,1,0,1,0,0]],\"type\":\"heatmap\"}],\"name\":\"2023-12\"},{\"data\":[{\"colorscale\":[[0,\"#D3D3D3\"],[1,\"#4682B4\"]],\"showscale\":false,\"x\":[\"ARS\",\"AUD\",\"BRL\",\"CZK\",\"EUR\",\"GBP\",\"JPY\",\"MXN\",\"NGN\",\"PLN\",\"RON\",\"RUB\",\"TRY\",\"UAH\",\"ZAR\"],\"y\":[\"USDT\",\"BTC\",\"BUSD\",\"ETH\",\"BNB\",\"XRP\",\"SOL\",\"ADA\",\"LTC\",\"DOT\",\"Others\"],\"z\":[[1,0,1,0,1,0,0,0,1,1,1,1,1,1,1],[1,0,1,0,1,0,0,0,1,1,1,1,1,1,1],[0,0,0,0,0,0,0,0,0,0,0,0,0,0,0],[0,0,1,0,1,0,0,0,0,1,0,0,1,1,1],[0,0,1,0,1,0,0,0,0,0,0,0,1,1,0],[0,0,1,0,1,0,0,0,0,0,0,0,1,0,0],[0,0,1,0,1,0,0,0,0,0,0,0,1,0,0],[0,0,1,0,1,0,0,0,0,0,0,0,1,0,0],[0,0,1,0,1,0,0,0,0,0,0,0,1,1,0],[0,0,1,0,1,0,0,0,0,0,0,0,1,0,0],[0,0,1,0,1,0,0,0,0,0,1,0,1,0,0]],\"type\":\"heatmap\"}],\"name\":\"2024-01\"},{\"data\":[{\"colorscale\":[[0,\"#D3D3D3\"],[1,\"#4682B4\"]],\"showscale\":false,\"x\":[\"ARS\",\"AUD\",\"BRL\",\"CZK\",\"EUR\",\"GBP\",\"JPY\",\"MXN\",\"NGN\",\"PLN\",\"RON\",\"RUB\",\"TRY\",\"UAH\",\"ZAR\"],\"y\":[\"USDT\",\"BTC\",\"BUSD\",\"ETH\",\"BNB\",\"XRP\",\"SOL\",\"ADA\",\"LTC\",\"DOT\",\"Others\"],\"z\":[[1,0,1,0,1,0,0,0,1,1,1,0,1,1,1],[1,0,1,0,1,0,0,0,1,1,1,0,1,1,1],[0,0,0,0,0,0,0,0,0,0,0,0,0,0,0],[0,0,1,0,1,0,0,0,0,1,0,0,1,1,1],[0,0,1,0,1,0,0,0,0,0,0,0,1,1,0],[0,0,1,0,1,0,0,0,0,0,0,0,1,0,0],[0,0,1,0,1,0,0,0,0,0,0,0,1,0,0],[0,0,1,0,1,0,0,0,0,0,0,0,1,0,0],[0,0,1,0,1,0,0,0,0,0,0,0,1,0,0],[0,0,1,0,1,0,0,0,0,0,0,0,1,0,0],[0,0,1,0,1,0,0,0,0,0,1,0,1,0,0]],\"type\":\"heatmap\"}],\"name\":\"2024-02\"},{\"data\":[{\"colorscale\":[[0,\"#D3D3D3\"],[1,\"#4682B4\"]],\"showscale\":false,\"x\":[\"ARS\",\"AUD\",\"BRL\",\"CZK\",\"EUR\",\"GBP\",\"JPY\",\"MXN\",\"NGN\",\"PLN\",\"RON\",\"RUB\",\"TRY\",\"UAH\",\"ZAR\"],\"y\":[\"USDT\",\"BTC\",\"BUSD\",\"ETH\",\"BNB\",\"XRP\",\"SOL\",\"ADA\",\"LTC\",\"DOT\",\"Others\"],\"z\":[[1,0,1,0,1,0,0,0,1,1,1,0,1,1,1],[1,0,1,0,1,0,1,0,1,1,1,0,1,1,1],[0,0,0,0,0,0,0,0,0,0,0,0,0,0,0],[0,0,1,0,1,0,1,0,0,1,0,0,1,1,1],[0,0,1,0,1,0,1,0,0,0,0,0,1,1,0],[0,0,1,0,1,0,0,0,0,0,0,0,1,0,0],[0,0,1,0,1,0,0,0,0,0,0,0,1,0,0],[0,0,1,0,1,0,0,0,0,0,0,0,1,0,0],[0,0,1,0,1,0,0,0,0,0,0,0,1,0,0],[0,0,1,0,1,0,0,0,0,0,0,0,1,0,0],[0,0,1,0,1,0,0,0,0,0,1,0,1,0,0]],\"type\":\"heatmap\"}],\"name\":\"2024-03\"},{\"data\":[{\"colorscale\":[[0,\"#D3D3D3\"],[1,\"#4682B4\"]],\"showscale\":false,\"x\":[\"ARS\",\"AUD\",\"BRL\",\"CZK\",\"EUR\",\"GBP\",\"JPY\",\"MXN\",\"NGN\",\"PLN\",\"RON\",\"RUB\",\"TRY\",\"UAH\",\"ZAR\"],\"y\":[\"USDT\",\"BTC\",\"BUSD\",\"ETH\",\"BNB\",\"XRP\",\"SOL\",\"ADA\",\"LTC\",\"DOT\",\"Others\"],\"z\":[[1,0,1,1,1,0,0,1,0,1,1,0,1,1,1],[1,0,1,0,1,0,1,0,0,1,1,0,1,1,1],[0,0,0,0,0,0,0,0,0,0,0,0,0,0,0],[0,0,1,0,1,0,1,0,0,1,0,0,1,1,1],[0,0,1,0,1,0,1,0,0,0,0,0,1,1,0],[0,0,1,0,1,0,1,0,0,0,0,0,1,0,0],[0,0,1,0,1,0,1,0,0,0,0,0,1,0,0],[0,0,1,0,1,0,1,0,0,0,0,0,1,0,0],[0,0,1,0,1,0,0,0,0,0,0,0,1,0,0],[0,0,1,0,1,0,0,0,0,0,0,0,1,0,0],[0,0,1,0,1,0,1,0,0,0,1,0,1,0,0]],\"type\":\"heatmap\"}],\"name\":\"2024-04\"},{\"data\":[{\"colorscale\":[[0,\"#D3D3D3\"],[1,\"#4682B4\"]],\"showscale\":false,\"x\":[\"ARS\",\"AUD\",\"BRL\",\"CZK\",\"EUR\",\"GBP\",\"JPY\",\"MXN\",\"NGN\",\"PLN\",\"RON\",\"RUB\",\"TRY\",\"UAH\",\"ZAR\"],\"y\":[\"USDT\",\"BTC\",\"BUSD\",\"ETH\",\"BNB\",\"XRP\",\"SOL\",\"ADA\",\"LTC\",\"DOT\",\"Others\"],\"z\":[[1,0,1,1,1,0,0,1,0,1,1,0,1,1,1],[1,0,1,0,1,0,1,1,0,1,1,0,1,1,1],[0,0,0,0,0,0,0,0,0,0,0,0,0,0,0],[0,0,1,0,1,0,1,0,0,1,0,0,1,1,1],[0,0,1,0,1,0,1,0,0,0,0,0,1,1,0],[0,0,1,0,1,0,1,1,0,0,0,0,1,0,0],[0,0,1,0,1,0,1,0,0,0,0,0,1,0,0],[0,0,1,0,1,0,1,0,0,0,0,0,1,0,0],[0,0,1,0,1,0,0,0,0,0,0,0,1,0,0],[0,0,1,0,1,0,0,0,0,0,0,0,1,0,0],[0,0,1,0,1,0,1,0,0,0,1,0,1,0,0]],\"type\":\"heatmap\"}],\"name\":\"2024-05\"},{\"data\":[{\"colorscale\":[[0,\"#D3D3D3\"],[1,\"#4682B4\"]],\"showscale\":false,\"x\":[\"ARS\",\"AUD\",\"BRL\",\"CZK\",\"EUR\",\"GBP\",\"JPY\",\"MXN\",\"NGN\",\"PLN\",\"RON\",\"RUB\",\"TRY\",\"UAH\",\"ZAR\"],\"y\":[\"USDT\",\"BTC\",\"BUSD\",\"ETH\",\"BNB\",\"XRP\",\"SOL\",\"ADA\",\"LTC\",\"DOT\",\"Others\"],\"z\":[[1,0,1,1,1,0,0,1,0,1,1,0,1,1,1],[1,0,1,0,1,0,1,1,0,1,1,0,1,1,1],[0,0,0,0,0,0,0,0,0,0,0,0,0,0,0],[0,0,1,0,1,0,1,0,0,1,0,0,1,1,1],[0,0,1,0,1,0,1,0,0,0,0,0,1,1,0],[0,0,1,0,1,0,1,1,0,0,0,0,1,0,0],[0,0,1,0,1,0,1,0,0,0,0,0,1,0,0],[0,0,1,0,1,0,1,0,0,0,0,0,1,0,0],[0,0,1,0,1,0,0,0,0,0,0,0,1,0,0],[0,0,1,0,1,0,0,0,0,0,0,0,1,0,0],[0,0,1,0,1,0,1,0,0,0,1,0,1,0,0]],\"type\":\"heatmap\"}],\"name\":\"2024-06\"},{\"data\":[{\"colorscale\":[[0,\"#D3D3D3\"],[1,\"#4682B4\"]],\"showscale\":false,\"x\":[\"ARS\",\"AUD\",\"BRL\",\"CZK\",\"EUR\",\"GBP\",\"JPY\",\"MXN\",\"NGN\",\"PLN\",\"RON\",\"RUB\",\"TRY\",\"UAH\",\"ZAR\"],\"y\":[\"USDT\",\"BTC\",\"BUSD\",\"ETH\",\"BNB\",\"XRP\",\"SOL\",\"ADA\",\"LTC\",\"DOT\",\"Others\"],\"z\":[[1,0,1,1,1,0,0,1,0,1,1,0,1,1,1],[1,0,1,0,1,0,1,1,0,1,1,0,1,1,1],[0,0,0,0,0,0,0,0,0,0,0,0,0,0,0],[1,0,1,0,1,0,1,0,0,1,0,0,1,1,1],[0,0,1,0,1,0,1,0,0,0,0,0,1,1,0],[0,0,1,0,1,0,1,1,0,0,0,0,1,0,0],[0,0,1,0,1,0,1,0,0,0,0,0,1,0,0],[0,0,1,0,1,0,1,0,0,0,0,0,1,0,0],[0,0,1,0,1,0,0,0,0,0,0,0,1,0,0],[0,0,1,0,1,0,0,0,0,0,0,0,1,0,0],[0,0,1,0,1,0,1,0,0,0,1,0,1,0,0]],\"type\":\"heatmap\"}],\"name\":\"2024-07\"},{\"data\":[{\"colorscale\":[[0,\"#D3D3D3\"],[1,\"#4682B4\"]],\"showscale\":false,\"x\":[\"ARS\",\"AUD\",\"BRL\",\"CZK\",\"EUR\",\"GBP\",\"JPY\",\"MXN\",\"NGN\",\"PLN\",\"RON\",\"RUB\",\"TRY\",\"UAH\",\"ZAR\"],\"y\":[\"USDT\",\"BTC\",\"BUSD\",\"ETH\",\"BNB\",\"XRP\",\"SOL\",\"ADA\",\"LTC\",\"DOT\",\"Others\"],\"z\":[[1,0,1,1,1,0,0,1,0,1,1,0,1,1,1],[1,0,1,0,1,0,1,1,0,1,1,0,1,1,1],[0,0,0,0,0,0,0,0,0,0,0,0,0,0,0],[1,0,1,0,1,0,1,0,0,1,0,0,1,1,1],[0,0,1,0,1,0,1,0,0,0,0,0,1,1,0],[0,0,1,0,1,0,1,1,0,0,0,0,1,0,0],[0,0,1,0,1,0,1,0,0,0,0,0,1,0,0],[0,0,1,0,1,0,1,0,0,0,0,0,1,0,0],[0,0,1,0,1,0,0,0,0,0,0,0,1,0,0],[0,0,1,0,1,0,0,0,0,0,0,0,1,0,0],[0,0,1,0,1,0,1,0,0,0,1,0,1,0,0]],\"type\":\"heatmap\"}],\"name\":\"2024-08\"}]);\n",
       "                        }).then(function(){\n",
       "                            \n",
       "var gd = document.getElementById('de253b36-76c4-4442-8d2e-fc471a608a30');\n",
       "var x = new MutationObserver(function (mutations, observer) {{\n",
       "        var display = window.getComputedStyle(gd).display;\n",
       "        if (!display || display === 'none') {{\n",
       "            console.log([gd, 'removed!']);\n",
       "            Plotly.purge(gd);\n",
       "            observer.disconnect();\n",
       "        }}\n",
       "}});\n",
       "\n",
       "// Listen for the removal of the full notebook cells\n",
       "var notebookContainer = gd.closest('#notebook-container');\n",
       "if (notebookContainer) {{\n",
       "    x.observe(notebookContainer, {childList: true});\n",
       "}}\n",
       "\n",
       "// Listen for the clearing of the current output cell\n",
       "var outputEl = gd.closest('.output');\n",
       "if (outputEl) {{\n",
       "    x.observe(outputEl, {childList: true});\n",
       "}}\n",
       "\n",
       "                        })                };                });            </script>        </div>"
      ]
     },
     "metadata": {},
     "output_type": "display_data"
    }
   ],
   "source": [
    "import pandas as pd\n",
    "import plotly.graph_objects as go\n",
    "import warnings\n",
    "from tqdm.notebook import tqdm  # To show progress bar\n",
    "\n",
    "# Suppress the SettingWithCopyWarning\n",
    "warnings.simplefilter(action='ignore', category=pd.errors.SettingWithCopyWarning)\n",
    "\n",
    "# Ensure 'timestamp' is in datetime format\n",
    "final_df['timestamp'] = pd.to_datetime(final_df['timestamp'])\n",
    "\n",
    "# Count the number of pairs for each cryptocurrency across the entire dataset\n",
    "all_crypto_counts = final_df['crypto_currency'].value_counts()\n",
    "\n",
    "# Identify the top 10 cryptocurrencies based on the entire dataset\n",
    "top_10_cryptos = all_crypto_counts.nlargest(10).index.tolist()\n",
    "\n",
    "# Define categories for Y-axis (top 10 cryptos + 'Others')\n",
    "categories = top_10_cryptos + ['Others']\n",
    "\n",
    "# Extract the month from the timestamp\n",
    "final_df['month'] = final_df['timestamp'].dt.to_period('M')\n",
    "\n",
    "# Extend the data to include up to 2024-08, even if there are no new data entries\n",
    "all_months = pd.period_range(final_df['month'].min(), '2024-08', freq='M')\n",
    "\n",
    "# List of all fiat currencies present in the dataset\n",
    "all_fiats = sorted(final_df['fiat_currency'].unique())  # Sort fiat currencies alphabetically\n",
    "\n",
    "# Initialize a list to store all frames\n",
    "frames = []\n",
    "\n",
    "# Generate a frame for each month\n",
    "for month in tqdm(all_months, desc=\"Generating frames\"):\n",
    "    # Filter the data for the given month\n",
    "    monthly_data = final_df[final_df['month'] == month].copy()\n",
    "\n",
    "    # Group the remaining cryptocurrencies into \"Others\"\n",
    "    if not monthly_data.empty:\n",
    "        monthly_data.loc[:, 'crypto_category'] = monthly_data['crypto_currency'].apply(\n",
    "            lambda x: x if x in top_10_cryptos else 'Others'\n",
    "        )\n",
    "\n",
    "    # Initialize an empty matrix with zeros (no pairs)\n",
    "    matrix = pd.DataFrame(0, index=categories, columns=all_fiats)\n",
    "\n",
    "    # Fill the matrix with 1 where pairs exist\n",
    "    if not monthly_data.empty:\n",
    "        for _, row in monthly_data.iterrows():\n",
    "            matrix.loc[row['crypto_category'], row['fiat_currency']] = 1\n",
    "\n",
    "    # Create a frame for this month\n",
    "    frames.append(go.Frame(\n",
    "        data=go.Heatmap(\n",
    "            z=matrix.values,\n",
    "            x=matrix.columns,\n",
    "            y=matrix.index,\n",
    "            colorscale=[[0, '#D3D3D3'], [1, '#4682B4']],  # Light gray for no pair, steel blue for all pairs\n",
    "            showscale=False\n",
    "        ),\n",
    "        name=str(month)\n",
    "    ))\n",
    "\n",
    "# Plot using Plotly\n",
    "fig2 = go.Figure(\n",
    "    data=frames[0]['data'],  # Use the first month's data as the starting point\n",
    "    layout=go.Layout(\n",
    "        title=\"Top 10 Crypto-Fiat Pair Presence and 'Others' Over Time (All Fiat Currencies)\",\n",
    "        xaxis_title=\"Fiat Currency\",\n",
    "        yaxis_title=\"Cryptocurrency\",\n",
    "        yaxis=dict(\n",
    "            tickmode='array',\n",
    "            tickvals=list(range(len(categories))),\n",
    "            ticktext=[f'<b>{crypto}</b>' if crypto == 'Others' else crypto for crypto in categories],\n",
    "            tickfont=dict(size=10),\n",
    "            side='left'\n",
    "        ),\n",
    "        xaxis=dict(\n",
    "            tickmode='array',\n",
    "            tickvals=list(range(len(all_fiats))),\n",
    "            ticktext=all_fiats  # This is now sorted alphabetically\n",
    "        ),\n",
    "        template=\"plotly_white\",\n",
    "        updatemenus=[dict(type=\"buttons\", showactive=False,\n",
    "                          buttons=[dict(label=\"Play\",\n",
    "                                        method=\"animate\",\n",
    "                                        args=[None, {\"frame\": {\"duration\": 500, \"redraw\": True},\n",
    "                                                     \"fromcurrent\": True,\n",
    "                                                     \"transition\": {\"duration\": 300}}]),\n",
    "                                   dict(label=\"Pause\",\n",
    "                                        method=\"animate\",\n",
    "                                        args=[[None], {\"frame\": {\"duration\": 0, \"redraw\": False},\n",
    "                                                       \"mode\": \"immediate\",\n",
    "                                                       \"transition\": {\"duration\": 0}}])])],\n",
    "        sliders=[{\n",
    "            'currentvalue': {\n",
    "                'prefix': 'Month: ',\n",
    "                'font': {'size': 20}\n",
    "            },\n",
    "            'pad': {'b': 10},\n",
    "            'len': 0.9,\n",
    "            'x': 0.1,\n",
    "            'y': 0,\n",
    "            'steps': [{\n",
    "                'args': [[str(month)], {\n",
    "                    'frame': {'duration': 500, 'redraw': True},\n",
    "                    'mode': 'immediate',\n",
    "                    'transition': {'duration': 300}\n",
    "                }],\n",
    "                'label': str(month),\n",
    "                'method': 'animate'\n",
    "            } for month in all_months]\n",
    "        }]\n",
    "    ),\n",
    "    frames=frames  # Add the frames to the figure\n",
    ")\n",
    "\n",
    "# Show the plot\n",
    "fig2.show()\n"
   ]
  },
  {
   "cell_type": "markdown",
   "id": "9d277862",
   "metadata": {
    "papermill": {
     "duration": 0.011957,
     "end_time": "2024-08-14T20:39:48.730525",
     "exception": false,
     "start_time": "2024-08-14T20:39:48.718568",
     "status": "completed"
    },
    "tags": []
   },
   "source": [
    "## Appendix: Automating Graph Exports\n",
    "\n",
    "This appendix covers the automation of exporting graphs to different platforms. It includes two main subsections: one for publishing graphs on GitHub and another (to be added) for exporting to Plotly Studio Chart."
   ]
  },
  {
   "cell_type": "markdown",
   "id": "e098a1b7",
   "metadata": {
    "papermill": {
     "duration": 0.011798,
     "end_time": "2024-08-14T20:39:48.754952",
     "exception": false,
     "start_time": "2024-08-14T20:39:48.743154",
     "status": "completed"
    },
    "tags": []
   },
   "source": [
    "### Subsection 1: Publishing Graphs on GitHub\n",
    "\n",
    "This subsection outlines the steps to automate the export of your Plotly graphs to HTML files and publish them to a GitHub repository.\n",
    "\n",
    "#### Steps:\n",
    "\n",
    "1. **Export Graphs to HTML**: Save the generated graphs as HTML files.\n",
    "2. **GitHub Setup**: Configure GitHub credentials and clone the repository.\n",
    "3. **Move Files to Repository**: Copy the HTML files to the cloned repository.\n",
    "4. **Commit and Push**: Commit and push the files to GitHub.\n"
   ]
  },
  {
   "cell_type": "code",
   "execution_count": 14,
   "id": "f3b11fce",
   "metadata": {
    "execution": {
     "iopub.execute_input": "2024-08-14T20:39:48.781828Z",
     "iopub.status.busy": "2024-08-14T20:39:48.781415Z",
     "iopub.status.idle": "2024-08-14T20:39:54.343020Z",
     "shell.execute_reply": "2024-08-14T20:39:54.341715Z"
    },
    "papermill": {
     "duration": 5.578676,
     "end_time": "2024-08-14T20:39:54.346217",
     "exception": false,
     "start_time": "2024-08-14T20:39:48.767541",
     "status": "completed"
    },
    "tags": []
   },
   "outputs": [
    {
     "data": {
      "text/plain": [
       "[<git.remote.PushInfo at 0x78e1b715a480>]"
      ]
     },
     "execution_count": 14,
     "metadata": {},
     "output_type": "execute_result"
    }
   ],
   "source": [
    "import os\n",
    "import git\n",
    "from kaggle_secrets import UserSecretsClient\n",
    "\n",
    "# Retrieve GitHub token securely from Kaggle secrets\n",
    "user_secrets = UserSecretsClient()\n",
    "GITHUB_TOKEN = user_secrets.get_secret(\"GITHUB_TOKEN\")\n",
    "\n",
    "# Set up the repository URL using the secured token\n",
    "REPO_URL = \"https://{}@github.com/emigiupponi/CryptoFiatVisualizer.git\".format(GITHUB_TOKEN)\n",
    "\n",
    "# Clone the repository if not already done\n",
    "if not os.path.exists('repo'):\n",
    "    repo = git.Repo.clone_from(REPO_URL, 'repo')\n",
    "\n",
    "repo = git.Repo('repo')\n",
    "\n",
    "# Export graphs to HTML\n",
    "fig1.write_html(\"crypto_fiat_animation.html\")\n",
    "fig2.write_html(\"crypto_fiat_animation_new.html\")\n",
    "\n",
    "# Move HTML files to the repo\n",
    "os.system('cp crypto_fiat_animation.html repo/')\n",
    "os.system('cp crypto_fiat_animation_new.html repo/')\n",
    "\n",
    "# Commit and push to GitHub\n",
    "repo.index.add(['crypto_fiat_animation.html', 'crypto_fiat_animation_new.html'])\n",
    "repo.index.commit(\"Add crypto_fiat animations\")\n",
    "repo.remote(name='origin').push()\n"
   ]
  }
 ],
 "metadata": {
  "kaggle": {
   "accelerator": "none",
   "dataSources": [],
   "dockerImageVersionId": 30746,
   "isGpuEnabled": false,
   "isInternetEnabled": true,
   "language": "python",
   "sourceType": "notebook"
  },
  "kernelspec": {
   "display_name": "Python 3",
   "language": "python",
   "name": "python3"
  },
  "language_info": {
   "codemirror_mode": {
    "name": "ipython",
    "version": 3
   },
   "file_extension": ".py",
   "mimetype": "text/x-python",
   "name": "python",
   "nbconvert_exporter": "python",
   "pygments_lexer": "ipython3",
   "version": "3.10.13"
  },
  "papermill": {
   "default_parameters": {},
   "duration": 110.450773,
   "end_time": "2024-08-14T20:39:56.983343",
   "environment_variables": {},
   "exception": null,
   "input_path": "__notebook__.ipynb",
   "output_path": "__notebook__.ipynb",
   "parameters": {},
   "start_time": "2024-08-14T20:38:06.532570",
   "version": "2.5.0"
  },
  "widgets": {
   "application/vnd.jupyter.widget-state+json": {
    "state": {
     "052d154e373e440fb7b5760199ef08a5": {
      "model_module": "@jupyter-widgets/controls",
      "model_module_version": "1.5.0",
      "model_name": "ProgressStyleModel",
      "state": {
       "_model_module": "@jupyter-widgets/controls",
       "_model_module_version": "1.5.0",
       "_model_name": "ProgressStyleModel",
       "_view_count": null,
       "_view_module": "@jupyter-widgets/base",
       "_view_module_version": "1.2.0",
       "_view_name": "StyleView",
       "bar_color": null,
       "description_width": ""
      }
     },
     "08d79911389f4199bf7575b27eb22533": {
      "model_module": "@jupyter-widgets/controls",
      "model_module_version": "1.5.0",
      "model_name": "DescriptionStyleModel",
      "state": {
       "_model_module": "@jupyter-widgets/controls",
       "_model_module_version": "1.5.0",
       "_model_name": "DescriptionStyleModel",
       "_view_count": null,
       "_view_module": "@jupyter-widgets/base",
       "_view_module_version": "1.2.0",
       "_view_name": "StyleView",
       "description_width": ""
      }
     },
     "1544a2020bf74882b7e42e743c9974e2": {
      "model_module": "@jupyter-widgets/base",
      "model_module_version": "1.2.0",
      "model_name": "LayoutModel",
      "state": {
       "_model_module": "@jupyter-widgets/base",
       "_model_module_version": "1.2.0",
       "_model_name": "LayoutModel",
       "_view_count": null,
       "_view_module": "@jupyter-widgets/base",
       "_view_module_version": "1.2.0",
       "_view_name": "LayoutView",
       "align_content": null,
       "align_items": null,
       "align_self": null,
       "border": null,
       "bottom": null,
       "display": null,
       "flex": null,
       "flex_flow": null,
       "grid_area": null,
       "grid_auto_columns": null,
       "grid_auto_flow": null,
       "grid_auto_rows": null,
       "grid_column": null,
       "grid_gap": null,
       "grid_row": null,
       "grid_template_areas": null,
       "grid_template_columns": null,
       "grid_template_rows": null,
       "height": null,
       "justify_content": null,
       "justify_items": null,
       "left": null,
       "margin": null,
       "max_height": null,
       "max_width": null,
       "min_height": null,
       "min_width": null,
       "object_fit": null,
       "object_position": null,
       "order": null,
       "overflow": null,
       "overflow_x": null,
       "overflow_y": null,
       "padding": null,
       "right": null,
       "top": null,
       "visibility": null,
       "width": null
      }
     },
     "1886ecd33bde419eac404f8e97fdfea6": {
      "model_module": "@jupyter-widgets/controls",
      "model_module_version": "1.5.0",
      "model_name": "DescriptionStyleModel",
      "state": {
       "_model_module": "@jupyter-widgets/controls",
       "_model_module_version": "1.5.0",
       "_model_name": "DescriptionStyleModel",
       "_view_count": null,
       "_view_module": "@jupyter-widgets/base",
       "_view_module_version": "1.2.0",
       "_view_name": "StyleView",
       "description_width": ""
      }
     },
     "2939c31643484fba88eeee181abfc15c": {
      "model_module": "@jupyter-widgets/controls",
      "model_module_version": "1.5.0",
      "model_name": "DescriptionStyleModel",
      "state": {
       "_model_module": "@jupyter-widgets/controls",
       "_model_module_version": "1.5.0",
       "_model_name": "DescriptionStyleModel",
       "_view_count": null,
       "_view_module": "@jupyter-widgets/base",
       "_view_module_version": "1.2.0",
       "_view_name": "StyleView",
       "description_width": ""
      }
     },
     "2b9472404db34864ba344188fb0fa7d6": {
      "model_module": "@jupyter-widgets/controls",
      "model_module_version": "1.5.0",
      "model_name": "DescriptionStyleModel",
      "state": {
       "_model_module": "@jupyter-widgets/controls",
       "_model_module_version": "1.5.0",
       "_model_name": "DescriptionStyleModel",
       "_view_count": null,
       "_view_module": "@jupyter-widgets/base",
       "_view_module_version": "1.2.0",
       "_view_name": "StyleView",
       "description_width": ""
      }
     },
     "35cbfbb006924c3093b59c769b16f5d2": {
      "model_module": "@jupyter-widgets/controls",
      "model_module_version": "1.5.0",
      "model_name": "FloatProgressModel",
      "state": {
       "_dom_classes": [],
       "_model_module": "@jupyter-widgets/controls",
       "_model_module_version": "1.5.0",
       "_model_name": "FloatProgressModel",
       "_view_count": null,
       "_view_module": "@jupyter-widgets/controls",
       "_view_module_version": "1.5.0",
       "_view_name": "ProgressView",
       "bar_style": "success",
       "description": "",
       "description_tooltip": null,
       "layout": "IPY_MODEL_db063e84de7d48379199960f9250ca60",
       "max": 15.0,
       "min": 0.0,
       "orientation": "horizontal",
       "style": "IPY_MODEL_052d154e373e440fb7b5760199ef08a5",
       "value": 15.0
      }
     },
     "3698494d048c423888923664a67a74a2": {
      "model_module": "@jupyter-widgets/base",
      "model_module_version": "1.2.0",
      "model_name": "LayoutModel",
      "state": {
       "_model_module": "@jupyter-widgets/base",
       "_model_module_version": "1.2.0",
       "_model_name": "LayoutModel",
       "_view_count": null,
       "_view_module": "@jupyter-widgets/base",
       "_view_module_version": "1.2.0",
       "_view_name": "LayoutView",
       "align_content": null,
       "align_items": null,
       "align_self": null,
       "border": null,
       "bottom": null,
       "display": null,
       "flex": null,
       "flex_flow": null,
       "grid_area": null,
       "grid_auto_columns": null,
       "grid_auto_flow": null,
       "grid_auto_rows": null,
       "grid_column": null,
       "grid_gap": null,
       "grid_row": null,
       "grid_template_areas": null,
       "grid_template_columns": null,
       "grid_template_rows": null,
       "height": null,
       "justify_content": null,
       "justify_items": null,
       "left": null,
       "margin": null,
       "max_height": null,
       "max_width": null,
       "min_height": null,
       "min_width": null,
       "object_fit": null,
       "object_position": null,
       "order": null,
       "overflow": null,
       "overflow_x": null,
       "overflow_y": null,
       "padding": null,
       "right": null,
       "top": null,
       "visibility": null,
       "width": null
      }
     },
     "450f71cc38b942b2a63efd199896fede": {
      "model_module": "@jupyter-widgets/controls",
      "model_module_version": "1.5.0",
      "model_name": "HTMLModel",
      "state": {
       "_dom_classes": [],
       "_model_module": "@jupyter-widgets/controls",
       "_model_module_version": "1.5.0",
       "_model_name": "HTMLModel",
       "_view_count": null,
       "_view_module": "@jupyter-widgets/controls",
       "_view_module_version": "1.5.0",
       "_view_name": "HTMLView",
       "description": "",
       "description_tooltip": null,
       "layout": "IPY_MODEL_b6a4ccdbadb64f3ba168943e894241d8",
       "placeholder": "​",
       "style": "IPY_MODEL_f3be74dcd76b4870903b5b275e43c511",
       "value": "Generating frames: 100%"
      }
     },
     "45ea787224284726b89fe1a0266f5f5d": {
      "model_module": "@jupyter-widgets/controls",
      "model_module_version": "1.5.0",
      "model_name": "DescriptionStyleModel",
      "state": {
       "_model_module": "@jupyter-widgets/controls",
       "_model_module_version": "1.5.0",
       "_model_name": "DescriptionStyleModel",
       "_view_count": null,
       "_view_module": "@jupyter-widgets/base",
       "_view_module_version": "1.2.0",
       "_view_name": "StyleView",
       "description_width": ""
      }
     },
     "52d6f4d86be6408a9f632a00a59e2b47": {
      "model_module": "@jupyter-widgets/controls",
      "model_module_version": "1.5.0",
      "model_name": "ProgressStyleModel",
      "state": {
       "_model_module": "@jupyter-widgets/controls",
       "_model_module_version": "1.5.0",
       "_model_name": "ProgressStyleModel",
       "_view_count": null,
       "_view_module": "@jupyter-widgets/base",
       "_view_module_version": "1.2.0",
       "_view_name": "StyleView",
       "bar_color": null,
       "description_width": ""
      }
     },
     "57cc35e7259b4a2e911abf73dd773327": {
      "model_module": "@jupyter-widgets/base",
      "model_module_version": "1.2.0",
      "model_name": "LayoutModel",
      "state": {
       "_model_module": "@jupyter-widgets/base",
       "_model_module_version": "1.2.0",
       "_model_name": "LayoutModel",
       "_view_count": null,
       "_view_module": "@jupyter-widgets/base",
       "_view_module_version": "1.2.0",
       "_view_name": "LayoutView",
       "align_content": null,
       "align_items": null,
       "align_self": null,
       "border": null,
       "bottom": null,
       "display": null,
       "flex": null,
       "flex_flow": null,
       "grid_area": null,
       "grid_auto_columns": null,
       "grid_auto_flow": null,
       "grid_auto_rows": null,
       "grid_column": null,
       "grid_gap": null,
       "grid_row": null,
       "grid_template_areas": null,
       "grid_template_columns": null,
       "grid_template_rows": null,
       "height": null,
       "justify_content": null,
       "justify_items": null,
       "left": null,
       "margin": null,
       "max_height": null,
       "max_width": null,
       "min_height": null,
       "min_width": null,
       "object_fit": null,
       "object_position": null,
       "order": null,
       "overflow": null,
       "overflow_x": null,
       "overflow_y": null,
       "padding": null,
       "right": null,
       "top": null,
       "visibility": null,
       "width": null
      }
     },
     "5af78fe0a7054ffead55575940f3a323": {
      "model_module": "@jupyter-widgets/controls",
      "model_module_version": "1.5.0",
      "model_name": "FloatProgressModel",
      "state": {
       "_dom_classes": [],
       "_model_module": "@jupyter-widgets/controls",
       "_model_module_version": "1.5.0",
       "_model_name": "FloatProgressModel",
       "_view_count": null,
       "_view_module": "@jupyter-widgets/controls",
       "_view_module_version": "1.5.0",
       "_view_name": "ProgressView",
       "bar_style": "success",
       "description": "",
       "description_tooltip": null,
       "layout": "IPY_MODEL_83d0d63119484d948ce4dcdc68c2d6d9",
       "max": 452.0,
       "min": 0.0,
       "orientation": "horizontal",
       "style": "IPY_MODEL_52d6f4d86be6408a9f632a00a59e2b47",
       "value": 452.0
      }
     },
     "5cdbd23242864496934b3563e4f143de": {
      "model_module": "@jupyter-widgets/base",
      "model_module_version": "1.2.0",
      "model_name": "LayoutModel",
      "state": {
       "_model_module": "@jupyter-widgets/base",
       "_model_module_version": "1.2.0",
       "_model_name": "LayoutModel",
       "_view_count": null,
       "_view_module": "@jupyter-widgets/base",
       "_view_module_version": "1.2.0",
       "_view_name": "LayoutView",
       "align_content": null,
       "align_items": null,
       "align_self": null,
       "border": null,
       "bottom": null,
       "display": null,
       "flex": null,
       "flex_flow": null,
       "grid_area": null,
       "grid_auto_columns": null,
       "grid_auto_flow": null,
       "grid_auto_rows": null,
       "grid_column": null,
       "grid_gap": null,
       "grid_row": null,
       "grid_template_areas": null,
       "grid_template_columns": null,
       "grid_template_rows": null,
       "height": null,
       "justify_content": null,
       "justify_items": null,
       "left": null,
       "margin": null,
       "max_height": null,
       "max_width": null,
       "min_height": null,
       "min_width": null,
       "object_fit": null,
       "object_position": null,
       "order": null,
       "overflow": null,
       "overflow_x": null,
       "overflow_y": null,
       "padding": null,
       "right": null,
       "top": null,
       "visibility": null,
       "width": null
      }
     },
     "672e07ac8663430d9c514eca255c7bbe": {
      "model_module": "@jupyter-widgets/controls",
      "model_module_version": "1.5.0",
      "model_name": "HTMLModel",
      "state": {
       "_dom_classes": [],
       "_model_module": "@jupyter-widgets/controls",
       "_model_module_version": "1.5.0",
       "_model_name": "HTMLModel",
       "_view_count": null,
       "_view_module": "@jupyter-widgets/controls",
       "_view_module_version": "1.5.0",
       "_view_name": "HTMLView",
       "description": "",
       "description_tooltip": null,
       "layout": "IPY_MODEL_d2ff0d5addba45359b3701b049ec5af8",
       "placeholder": "​",
       "style": "IPY_MODEL_2b9472404db34864ba344188fb0fa7d6",
       "value": " 59/59 [00:31&lt;00:00,  1.33s/it]"
      }
     },
     "6fb34ca6cdcc481b816d91ddd9e215bb": {
      "model_module": "@jupyter-widgets/controls",
      "model_module_version": "1.5.0",
      "model_name": "HBoxModel",
      "state": {
       "_dom_classes": [],
       "_model_module": "@jupyter-widgets/controls",
       "_model_module_version": "1.5.0",
       "_model_name": "HBoxModel",
       "_view_count": null,
       "_view_module": "@jupyter-widgets/controls",
       "_view_module_version": "1.5.0",
       "_view_name": "HBoxView",
       "box_style": "",
       "children": [
        "IPY_MODEL_de9f863a22514b0cbf7b50fc1bce7d47",
        "IPY_MODEL_35cbfbb006924c3093b59c769b16f5d2",
        "IPY_MODEL_785eb10e31c64c53b5318d74c16fb630"
       ],
       "layout": "IPY_MODEL_e9e583d6ee254153b72c564f41e2f8c1"
      }
     },
     "785eb10e31c64c53b5318d74c16fb630": {
      "model_module": "@jupyter-widgets/controls",
      "model_module_version": "1.5.0",
      "model_name": "HTMLModel",
      "state": {
       "_dom_classes": [],
       "_model_module": "@jupyter-widgets/controls",
       "_model_module_version": "1.5.0",
       "_model_name": "HTMLModel",
       "_view_count": null,
       "_view_module": "@jupyter-widgets/controls",
       "_view_module_version": "1.5.0",
       "_view_name": "HTMLView",
       "description": "",
       "description_tooltip": null,
       "layout": "IPY_MODEL_5cdbd23242864496934b3563e4f143de",
       "placeholder": "​",
       "style": "IPY_MODEL_08d79911389f4199bf7575b27eb22533",
       "value": " 15/15 [00:15&lt;00:00,  1.38it/s]"
      }
     },
     "7a61f71b34e94f10850570918f638625": {
      "model_module": "@jupyter-widgets/controls",
      "model_module_version": "1.5.0",
      "model_name": "HBoxModel",
      "state": {
       "_dom_classes": [],
       "_model_module": "@jupyter-widgets/controls",
       "_model_module_version": "1.5.0",
       "_model_name": "HBoxModel",
       "_view_count": null,
       "_view_module": "@jupyter-widgets/controls",
       "_view_module_version": "1.5.0",
       "_view_name": "HBoxView",
       "box_style": "",
       "children": [
        "IPY_MODEL_a2f4caddadf7473b9c7577af1286deb3",
        "IPY_MODEL_5af78fe0a7054ffead55575940f3a323",
        "IPY_MODEL_88f2d68a9c75433cb26143cf9ea88b68"
       ],
       "layout": "IPY_MODEL_c7a8f7996cf94c419068d8cf79eb6621"
      }
     },
     "7d07527408064e818bf3f7f84a148847": {
      "model_module": "@jupyter-widgets/controls",
      "model_module_version": "1.5.0",
      "model_name": "HBoxModel",
      "state": {
       "_dom_classes": [],
       "_model_module": "@jupyter-widgets/controls",
       "_model_module_version": "1.5.0",
       "_model_name": "HBoxModel",
       "_view_count": null,
       "_view_module": "@jupyter-widgets/controls",
       "_view_module_version": "1.5.0",
       "_view_name": "HBoxView",
       "box_style": "",
       "children": [
        "IPY_MODEL_450f71cc38b942b2a63efd199896fede",
        "IPY_MODEL_cf6a30fce6964d01bd30f3b132a38241",
        "IPY_MODEL_672e07ac8663430d9c514eca255c7bbe"
       ],
       "layout": "IPY_MODEL_9da81b8fc89a47f28e52c8cd91408dce"
      }
     },
     "83d0d63119484d948ce4dcdc68c2d6d9": {
      "model_module": "@jupyter-widgets/base",
      "model_module_version": "1.2.0",
      "model_name": "LayoutModel",
      "state": {
       "_model_module": "@jupyter-widgets/base",
       "_model_module_version": "1.2.0",
       "_model_name": "LayoutModel",
       "_view_count": null,
       "_view_module": "@jupyter-widgets/base",
       "_view_module_version": "1.2.0",
       "_view_name": "LayoutView",
       "align_content": null,
       "align_items": null,
       "align_self": null,
       "border": null,
       "bottom": null,
       "display": null,
       "flex": null,
       "flex_flow": null,
       "grid_area": null,
       "grid_auto_columns": null,
       "grid_auto_flow": null,
       "grid_auto_rows": null,
       "grid_column": null,
       "grid_gap": null,
       "grid_row": null,
       "grid_template_areas": null,
       "grid_template_columns": null,
       "grid_template_rows": null,
       "height": null,
       "justify_content": null,
       "justify_items": null,
       "left": null,
       "margin": null,
       "max_height": null,
       "max_width": null,
       "min_height": null,
       "min_width": null,
       "object_fit": null,
       "object_position": null,
       "order": null,
       "overflow": null,
       "overflow_x": null,
       "overflow_y": null,
       "padding": null,
       "right": null,
       "top": null,
       "visibility": null,
       "width": null
      }
     },
     "88f2d68a9c75433cb26143cf9ea88b68": {
      "model_module": "@jupyter-widgets/controls",
      "model_module_version": "1.5.0",
      "model_name": "HTMLModel",
      "state": {
       "_dom_classes": [],
       "_model_module": "@jupyter-widgets/controls",
       "_model_module_version": "1.5.0",
       "_model_name": "HTMLModel",
       "_view_count": null,
       "_view_module": "@jupyter-widgets/controls",
       "_view_module_version": "1.5.0",
       "_view_name": "HTMLView",
       "description": "",
       "description_tooltip": null,
       "layout": "IPY_MODEL_c5ea7854a70d487ab7b4885409cad86a",
       "placeholder": "​",
       "style": "IPY_MODEL_1886ecd33bde419eac404f8e97fdfea6",
       "value": " 452/452 [00:43&lt;00:00, 14.82it/s]"
      }
     },
     "9da81b8fc89a47f28e52c8cd91408dce": {
      "model_module": "@jupyter-widgets/base",
      "model_module_version": "1.2.0",
      "model_name": "LayoutModel",
      "state": {
       "_model_module": "@jupyter-widgets/base",
       "_model_module_version": "1.2.0",
       "_model_name": "LayoutModel",
       "_view_count": null,
       "_view_module": "@jupyter-widgets/base",
       "_view_module_version": "1.2.0",
       "_view_name": "LayoutView",
       "align_content": null,
       "align_items": null,
       "align_self": null,
       "border": null,
       "bottom": null,
       "display": null,
       "flex": null,
       "flex_flow": null,
       "grid_area": null,
       "grid_auto_columns": null,
       "grid_auto_flow": null,
       "grid_auto_rows": null,
       "grid_column": null,
       "grid_gap": null,
       "grid_row": null,
       "grid_template_areas": null,
       "grid_template_columns": null,
       "grid_template_rows": null,
       "height": null,
       "justify_content": null,
       "justify_items": null,
       "left": null,
       "margin": null,
       "max_height": null,
       "max_width": null,
       "min_height": null,
       "min_width": null,
       "object_fit": null,
       "object_position": null,
       "order": null,
       "overflow": null,
       "overflow_x": null,
       "overflow_y": null,
       "padding": null,
       "right": null,
       "top": null,
       "visibility": null,
       "width": null
      }
     },
     "a01f299ff59f42b2a77bdc9d8b39267b": {
      "model_module": "@jupyter-widgets/controls",
      "model_module_version": "1.5.0",
      "model_name": "ProgressStyleModel",
      "state": {
       "_model_module": "@jupyter-widgets/controls",
       "_model_module_version": "1.5.0",
       "_model_name": "ProgressStyleModel",
       "_view_count": null,
       "_view_module": "@jupyter-widgets/base",
       "_view_module_version": "1.2.0",
       "_view_name": "StyleView",
       "bar_color": null,
       "description_width": ""
      }
     },
     "a2f4caddadf7473b9c7577af1286deb3": {
      "model_module": "@jupyter-widgets/controls",
      "model_module_version": "1.5.0",
      "model_name": "HTMLModel",
      "state": {
       "_dom_classes": [],
       "_model_module": "@jupyter-widgets/controls",
       "_model_module_version": "1.5.0",
       "_model_name": "HTMLModel",
       "_view_count": null,
       "_view_module": "@jupyter-widgets/controls",
       "_view_module_version": "1.5.0",
       "_view_name": "HTMLView",
       "description": "",
       "description_tooltip": null,
       "layout": "IPY_MODEL_3698494d048c423888923664a67a74a2",
       "placeholder": "​",
       "style": "IPY_MODEL_2939c31643484fba88eeee181abfc15c",
       "value": "Processing pairs: 100%"
      }
     },
     "b6a4ccdbadb64f3ba168943e894241d8": {
      "model_module": "@jupyter-widgets/base",
      "model_module_version": "1.2.0",
      "model_name": "LayoutModel",
      "state": {
       "_model_module": "@jupyter-widgets/base",
       "_model_module_version": "1.2.0",
       "_model_name": "LayoutModel",
       "_view_count": null,
       "_view_module": "@jupyter-widgets/base",
       "_view_module_version": "1.2.0",
       "_view_name": "LayoutView",
       "align_content": null,
       "align_items": null,
       "align_self": null,
       "border": null,
       "bottom": null,
       "display": null,
       "flex": null,
       "flex_flow": null,
       "grid_area": null,
       "grid_auto_columns": null,
       "grid_auto_flow": null,
       "grid_auto_rows": null,
       "grid_column": null,
       "grid_gap": null,
       "grid_row": null,
       "grid_template_areas": null,
       "grid_template_columns": null,
       "grid_template_rows": null,
       "height": null,
       "justify_content": null,
       "justify_items": null,
       "left": null,
       "margin": null,
       "max_height": null,
       "max_width": null,
       "min_height": null,
       "min_width": null,
       "object_fit": null,
       "object_position": null,
       "order": null,
       "overflow": null,
       "overflow_x": null,
       "overflow_y": null,
       "padding": null,
       "right": null,
       "top": null,
       "visibility": null,
       "width": null
      }
     },
     "c5ea7854a70d487ab7b4885409cad86a": {
      "model_module": "@jupyter-widgets/base",
      "model_module_version": "1.2.0",
      "model_name": "LayoutModel",
      "state": {
       "_model_module": "@jupyter-widgets/base",
       "_model_module_version": "1.2.0",
       "_model_name": "LayoutModel",
       "_view_count": null,
       "_view_module": "@jupyter-widgets/base",
       "_view_module_version": "1.2.0",
       "_view_name": "LayoutView",
       "align_content": null,
       "align_items": null,
       "align_self": null,
       "border": null,
       "bottom": null,
       "display": null,
       "flex": null,
       "flex_flow": null,
       "grid_area": null,
       "grid_auto_columns": null,
       "grid_auto_flow": null,
       "grid_auto_rows": null,
       "grid_column": null,
       "grid_gap": null,
       "grid_row": null,
       "grid_template_areas": null,
       "grid_template_columns": null,
       "grid_template_rows": null,
       "height": null,
       "justify_content": null,
       "justify_items": null,
       "left": null,
       "margin": null,
       "max_height": null,
       "max_width": null,
       "min_height": null,
       "min_width": null,
       "object_fit": null,
       "object_position": null,
       "order": null,
       "overflow": null,
       "overflow_x": null,
       "overflow_y": null,
       "padding": null,
       "right": null,
       "top": null,
       "visibility": null,
       "width": null
      }
     },
     "c7a8f7996cf94c419068d8cf79eb6621": {
      "model_module": "@jupyter-widgets/base",
      "model_module_version": "1.2.0",
      "model_name": "LayoutModel",
      "state": {
       "_model_module": "@jupyter-widgets/base",
       "_model_module_version": "1.2.0",
       "_model_name": "LayoutModel",
       "_view_count": null,
       "_view_module": "@jupyter-widgets/base",
       "_view_module_version": "1.2.0",
       "_view_name": "LayoutView",
       "align_content": null,
       "align_items": null,
       "align_self": null,
       "border": null,
       "bottom": null,
       "display": null,
       "flex": null,
       "flex_flow": null,
       "grid_area": null,
       "grid_auto_columns": null,
       "grid_auto_flow": null,
       "grid_auto_rows": null,
       "grid_column": null,
       "grid_gap": null,
       "grid_row": null,
       "grid_template_areas": null,
       "grid_template_columns": null,
       "grid_template_rows": null,
       "height": null,
       "justify_content": null,
       "justify_items": null,
       "left": null,
       "margin": null,
       "max_height": null,
       "max_width": null,
       "min_height": null,
       "min_width": null,
       "object_fit": null,
       "object_position": null,
       "order": null,
       "overflow": null,
       "overflow_x": null,
       "overflow_y": null,
       "padding": null,
       "right": null,
       "top": null,
       "visibility": null,
       "width": null
      }
     },
     "cf6a30fce6964d01bd30f3b132a38241": {
      "model_module": "@jupyter-widgets/controls",
      "model_module_version": "1.5.0",
      "model_name": "FloatProgressModel",
      "state": {
       "_dom_classes": [],
       "_model_module": "@jupyter-widgets/controls",
       "_model_module_version": "1.5.0",
       "_model_name": "FloatProgressModel",
       "_view_count": null,
       "_view_module": "@jupyter-widgets/controls",
       "_view_module_version": "1.5.0",
       "_view_name": "ProgressView",
       "bar_style": "success",
       "description": "",
       "description_tooltip": null,
       "layout": "IPY_MODEL_57cc35e7259b4a2e911abf73dd773327",
       "max": 59.0,
       "min": 0.0,
       "orientation": "horizontal",
       "style": "IPY_MODEL_a01f299ff59f42b2a77bdc9d8b39267b",
       "value": 59.0
      }
     },
     "d2ff0d5addba45359b3701b049ec5af8": {
      "model_module": "@jupyter-widgets/base",
      "model_module_version": "1.2.0",
      "model_name": "LayoutModel",
      "state": {
       "_model_module": "@jupyter-widgets/base",
       "_model_module_version": "1.2.0",
       "_model_name": "LayoutModel",
       "_view_count": null,
       "_view_module": "@jupyter-widgets/base",
       "_view_module_version": "1.2.0",
       "_view_name": "LayoutView",
       "align_content": null,
       "align_items": null,
       "align_self": null,
       "border": null,
       "bottom": null,
       "display": null,
       "flex": null,
       "flex_flow": null,
       "grid_area": null,
       "grid_auto_columns": null,
       "grid_auto_flow": null,
       "grid_auto_rows": null,
       "grid_column": null,
       "grid_gap": null,
       "grid_row": null,
       "grid_template_areas": null,
       "grid_template_columns": null,
       "grid_template_rows": null,
       "height": null,
       "justify_content": null,
       "justify_items": null,
       "left": null,
       "margin": null,
       "max_height": null,
       "max_width": null,
       "min_height": null,
       "min_width": null,
       "object_fit": null,
       "object_position": null,
       "order": null,
       "overflow": null,
       "overflow_x": null,
       "overflow_y": null,
       "padding": null,
       "right": null,
       "top": null,
       "visibility": null,
       "width": null
      }
     },
     "db063e84de7d48379199960f9250ca60": {
      "model_module": "@jupyter-widgets/base",
      "model_module_version": "1.2.0",
      "model_name": "LayoutModel",
      "state": {
       "_model_module": "@jupyter-widgets/base",
       "_model_module_version": "1.2.0",
       "_model_name": "LayoutModel",
       "_view_count": null,
       "_view_module": "@jupyter-widgets/base",
       "_view_module_version": "1.2.0",
       "_view_name": "LayoutView",
       "align_content": null,
       "align_items": null,
       "align_self": null,
       "border": null,
       "bottom": null,
       "display": null,
       "flex": null,
       "flex_flow": null,
       "grid_area": null,
       "grid_auto_columns": null,
       "grid_auto_flow": null,
       "grid_auto_rows": null,
       "grid_column": null,
       "grid_gap": null,
       "grid_row": null,
       "grid_template_areas": null,
       "grid_template_columns": null,
       "grid_template_rows": null,
       "height": null,
       "justify_content": null,
       "justify_items": null,
       "left": null,
       "margin": null,
       "max_height": null,
       "max_width": null,
       "min_height": null,
       "min_width": null,
       "object_fit": null,
       "object_position": null,
       "order": null,
       "overflow": null,
       "overflow_x": null,
       "overflow_y": null,
       "padding": null,
       "right": null,
       "top": null,
       "visibility": null,
       "width": null
      }
     },
     "de9f863a22514b0cbf7b50fc1bce7d47": {
      "model_module": "@jupyter-widgets/controls",
      "model_module_version": "1.5.0",
      "model_name": "HTMLModel",
      "state": {
       "_dom_classes": [],
       "_model_module": "@jupyter-widgets/controls",
       "_model_module_version": "1.5.0",
       "_model_name": "HTMLModel",
       "_view_count": null,
       "_view_module": "@jupyter-widgets/controls",
       "_view_module_version": "1.5.0",
       "_view_name": "HTMLView",
       "description": "",
       "description_tooltip": null,
       "layout": "IPY_MODEL_1544a2020bf74882b7e42e743c9974e2",
       "placeholder": "​",
       "style": "IPY_MODEL_45ea787224284726b89fe1a0266f5f5d",
       "value": "Processing fiat currencies: 100%"
      }
     },
     "e9e583d6ee254153b72c564f41e2f8c1": {
      "model_module": "@jupyter-widgets/base",
      "model_module_version": "1.2.0",
      "model_name": "LayoutModel",
      "state": {
       "_model_module": "@jupyter-widgets/base",
       "_model_module_version": "1.2.0",
       "_model_name": "LayoutModel",
       "_view_count": null,
       "_view_module": "@jupyter-widgets/base",
       "_view_module_version": "1.2.0",
       "_view_name": "LayoutView",
       "align_content": null,
       "align_items": null,
       "align_self": null,
       "border": null,
       "bottom": null,
       "display": null,
       "flex": null,
       "flex_flow": null,
       "grid_area": null,
       "grid_auto_columns": null,
       "grid_auto_flow": null,
       "grid_auto_rows": null,
       "grid_column": null,
       "grid_gap": null,
       "grid_row": null,
       "grid_template_areas": null,
       "grid_template_columns": null,
       "grid_template_rows": null,
       "height": null,
       "justify_content": null,
       "justify_items": null,
       "left": null,
       "margin": null,
       "max_height": null,
       "max_width": null,
       "min_height": null,
       "min_width": null,
       "object_fit": null,
       "object_position": null,
       "order": null,
       "overflow": null,
       "overflow_x": null,
       "overflow_y": null,
       "padding": null,
       "right": null,
       "top": null,
       "visibility": null,
       "width": null
      }
     },
     "f3be74dcd76b4870903b5b275e43c511": {
      "model_module": "@jupyter-widgets/controls",
      "model_module_version": "1.5.0",
      "model_name": "DescriptionStyleModel",
      "state": {
       "_model_module": "@jupyter-widgets/controls",
       "_model_module_version": "1.5.0",
       "_model_name": "DescriptionStyleModel",
       "_view_count": null,
       "_view_module": "@jupyter-widgets/base",
       "_view_module_version": "1.2.0",
       "_view_name": "StyleView",
       "description_width": ""
      }
     }
    },
    "version_major": 2,
    "version_minor": 0
   }
  }
 },
 "nbformat": 4,
 "nbformat_minor": 5
}
